{
 "cells": [
  {
   "cell_type": "markdown",
   "id": "4dc7b819",
   "metadata": {},
   "source": [
    "# Autoregressive Processes\n",
    "\n",
    "<a href=\"https://colab.research.google.com/github/febse/ts2025/blob/main/03-AR.ipynb\" target=\"_parent\"><img src=\"https://colab.research.google.com/assets/colab-badge.svg\" alt=\"Open In Colab\"/></a>\n",
    "\n",
    "## AR 1 Process\n",
    "\n",
    "$$\n",
    "x_t = \\phi x_{t-1} + e_t\n",
    "$$\n",
    "\n",
    "where $ |\\phi| < 1 $ and $ e_t \\sim \\text{i.i.d. } N(0, \\sigma^2) $.\n",
    "\n",
    "\n",
    "### The Expected Value\n",
    "\n",
    "For a discrete random variable $X$ taking values $x_i$ with probabilities $p_i$, the expected value is defined as:\n",
    "\n",
    "$$\n",
    "E(X) = \\sum_i x_i p_i\n",
    "$$\n",
    "\n",
    "With the following distribution as an example:\n",
    "\n",
    "| x | 0 | 1 | 2 | 3 |\n",
    "|---|---|---|---|---|\n",
    "| p | 0.25 | 0.095 | 0.272 | 0.383 |\n",
    "\n",
    "The expected value is calculated as:\n",
    "\n",
    "$$\n",
    "E(X) = 0 \\cdot 0.25 + 1 \\cdot 0.095 + 2 \\cdot 0.272 + 3 \\cdot 0.383 = 1.784\n",
    "$$"
   ]
  },
  {
   "cell_type": "code",
   "execution_count": 20,
   "id": "a3ff401c",
   "metadata": {},
   "outputs": [
    {
     "data": {
      "application/vnd.microsoft.datawrangler.viewer.v0+json": {
       "columns": [
        {
         "name": "index",
         "rawType": "int64",
         "type": "integer"
        },
        {
         "name": "x",
         "rawType": "int64",
         "type": "integer"
        },
        {
         "name": "p",
         "rawType": "float64",
         "type": "float"
        }
       ],
       "ref": "e9ee6293-9efb-43fd-bb35-7367515786cd",
       "rows": [
        [
         "0",
         "0",
         "0.25"
        ],
        [
         "1",
         "1",
         "0.095"
        ],
        [
         "2",
         "2",
         "0.272"
        ],
        [
         "3",
         "3",
         "0.383"
        ]
       ],
       "shape": {
        "columns": 2,
        "rows": 4
       }
      },
      "text/html": [
       "<div>\n",
       "<style scoped>\n",
       "    .dataframe tbody tr th:only-of-type {\n",
       "        vertical-align: middle;\n",
       "    }\n",
       "\n",
       "    .dataframe tbody tr th {\n",
       "        vertical-align: top;\n",
       "    }\n",
       "\n",
       "    .dataframe thead th {\n",
       "        text-align: right;\n",
       "    }\n",
       "</style>\n",
       "<table border=\"1\" class=\"dataframe\">\n",
       "  <thead>\n",
       "    <tr style=\"text-align: right;\">\n",
       "      <th></th>\n",
       "      <th>x</th>\n",
       "      <th>p</th>\n",
       "    </tr>\n",
       "  </thead>\n",
       "  <tbody>\n",
       "    <tr>\n",
       "      <th>0</th>\n",
       "      <td>0</td>\n",
       "      <td>0.250</td>\n",
       "    </tr>\n",
       "    <tr>\n",
       "      <th>1</th>\n",
       "      <td>1</td>\n",
       "      <td>0.095</td>\n",
       "    </tr>\n",
       "    <tr>\n",
       "      <th>2</th>\n",
       "      <td>2</td>\n",
       "      <td>0.272</td>\n",
       "    </tr>\n",
       "    <tr>\n",
       "      <th>3</th>\n",
       "      <td>3</td>\n",
       "      <td>0.383</td>\n",
       "    </tr>\n",
       "  </tbody>\n",
       "</table>\n",
       "</div>"
      ],
      "text/plain": [
       "   x      p\n",
       "0  0  0.250\n",
       "1  1  0.095\n",
       "2  2  0.272\n",
       "3  3  0.383"
      ]
     },
     "execution_count": 20,
     "metadata": {},
     "output_type": "execute_result"
    }
   ],
   "source": [
    "import numpy as np\n",
    "import pandas as pd\n",
    "import matplotlib.pyplot as plt\n",
    "\n",
    "\n",
    "px = pd.read_csv(\"https://github.com/febse/data/raw/refs/heads/main/ts/review/px.csv\")\n",
    "px"
   ]
  },
  {
   "cell_type": "code",
   "execution_count": 21,
   "id": "087201a7",
   "metadata": {},
   "outputs": [
    {
     "data": {
      "text/plain": [
       "np.float64(1.788)"
      ]
     },
     "execution_count": 21,
     "metadata": {},
     "output_type": "execute_result"
    }
   ],
   "source": [
    "E_x = (px[\"x\"] * px[\"p\"]).sum()\n",
    "E_x"
   ]
  },
  {
   "cell_type": "code",
   "execution_count": 22,
   "id": "86d0d7f8",
   "metadata": {},
   "outputs": [
    {
     "data": {
      "text/plain": [
       "Text(0.5, 0, 'x')"
      ]
     },
     "execution_count": 22,
     "metadata": {},
     "output_type": "execute_result"
    },
    {
     "data": {
      "image/png": "[encoded data removed]",
      "text/plain": [
       "<Figure size 640x480 with 1 Axes>"
      ]
     },
     "metadata": {},
     "output_type": "display_data"
    }
   ],
   "source": [
    "plt.bar(px[\"x\"], px[\"p\"], width=0.1, alpha=0.7)\n",
    "plt.axvline(E_x, color='red', linestyle='dashed', linewidth=1)\n",
    "plt.title(\"Probability Distribution of X\")\n",
    "plt.xlabel(\"x\")"
   ]
  },
  {
   "cell_type": "code",
   "execution_count": 23,
   "id": "5e7b99c4",
   "metadata": {},
   "outputs": [
    {
     "data": {
      "application/vnd.microsoft.datawrangler.viewer.v0+json": {
       "columns": [
        {
         "name": "index",
         "rawType": "int64",
         "type": "integer"
        },
        {
         "name": "y",
         "rawType": "int64",
         "type": "integer"
        },
        {
         "name": "p",
         "rawType": "float64",
         "type": "float"
        }
       ],
       "ref": "bd485e6b-e9f3-4111-8036-6534eb8d52bb",
       "rows": [
        [
         "0",
         "2",
         "0.76"
        ],
        [
         "1",
         "3",
         "0.24"
        ]
       ],
       "shape": {
        "columns": 2,
        "rows": 2
       }
      },
      "text/html": [
       "<div>\n",
       "<style scoped>\n",
       "    .dataframe tbody tr th:only-of-type {\n",
       "        vertical-align: middle;\n",
       "    }\n",
       "\n",
       "    .dataframe tbody tr th {\n",
       "        vertical-align: top;\n",
       "    }\n",
       "\n",
       "    .dataframe thead th {\n",
       "        text-align: right;\n",
       "    }\n",
       "</style>\n",
       "<table border=\"1\" class=\"dataframe\">\n",
       "  <thead>\n",
       "    <tr style=\"text-align: right;\">\n",
       "      <th></th>\n",
       "      <th>y</th>\n",
       "      <th>p</th>\n",
       "    </tr>\n",
       "  </thead>\n",
       "  <tbody>\n",
       "    <tr>\n",
       "      <th>0</th>\n",
       "      <td>2</td>\n",
       "      <td>0.76</td>\n",
       "    </tr>\n",
       "    <tr>\n",
       "      <th>1</th>\n",
       "      <td>3</td>\n",
       "      <td>0.24</td>\n",
       "    </tr>\n",
       "  </tbody>\n",
       "</table>\n",
       "</div>"
      ],
      "text/plain": [
       "   y     p\n",
       "0  2  0.76\n",
       "1  3  0.24"
      ]
     },
     "execution_count": 23,
     "metadata": {},
     "output_type": "execute_result"
    }
   ],
   "source": [
    "py = pd.read_csv(\"https://github.com/febse/data/raw/refs/heads/main/ts/review/py.csv\")\n",
    "py"
   ]
  },
  {
   "cell_type": "code",
   "execution_count": null,
   "id": "976ec91b",
   "metadata": {},
   "outputs": [],
   "source": [
    "# Expected value of Y?\n"
   ]
  },
  {
   "cell_type": "markdown",
   "id": "28139a2f",
   "metadata": {},
   "source": [
    "### Variance\n",
    "\n",
    "The variance of a random variable $X$ is defined as:\n",
    "\n",
    "$$\n",
    "Var(X) = E[(X - E(X))^2] = E[X^2] - (E[X])^2\n",
    "$$\n",
    "\n",
    "For a discrete random variable the expected value is simply a sum (just as above):\n",
    "\n",
    "$$\n",
    "Var(X) = \\sum_i (x_i - E(X))^2 p_i\n",
    "$$\n",
    "\n",
    "It measures how _different_ the values of the random variable are from the expected value. A distribution (random variable) with zero variance means that the random variable always takes the same value (the expected value).\n",
    "\n",
    "For the example distribution above, the variance is:\n",
    "\n",
    "$$\n",
    "Var(X) = (0 - 1.788)^2 \\cdot 0.25 + (1 - 1.788)^2 \\cdot 0.095 + (2 - 1.788)^2 \\cdot 0.272 + (3 - 1.788)^2 \\cdot 0.383 = 1.054\n",
    "$$\n",
    "\n",
    "or using the other formula:\n",
    "\n",
    "$$\n",
    "E[X^2] = 0^2 \\cdot 0.25 + 1^2 \\cdot 0.095 + 2^2 \\cdot 0.272 + 3^2 \\cdot 0.383 = 4.63\n",
    "$$\n",
    "\n",
    "$$\n",
    "Var(X) = 4.095 - (1.788)^2 = 1.433056\n",
    "$$\n",
    "\n",
    "The square root of the variance is called the standard deviation:\n",
    "\n",
    "$$\n",
    "SD(X) = \\sqrt{Var(X)} = 1.197\n",
    "$$\n"
   ]
  },
  {
   "cell_type": "code",
   "execution_count": 25,
   "id": "567d2087",
   "metadata": {},
   "outputs": [
    {
     "data": {
      "text/plain": [
       "np.float64(1.433056)"
      ]
     },
     "execution_count": 25,
     "metadata": {},
     "output_type": "execute_result"
    }
   ],
   "source": [
    "var_x = (((px[\"x\"] - E_x) ** 2 )* px[\"p\"]).sum()\n",
    "var_x"
   ]
  },
  {
   "cell_type": "code",
   "execution_count": 26,
   "id": "41b07737",
   "metadata": {},
   "outputs": [
    {
     "data": {
      "text/plain": [
       "np.float64(1.1971031701570254)"
      ]
     },
     "execution_count": 26,
     "metadata": {},
     "output_type": "execute_result"
    }
   ],
   "source": [
    "sd_x = np.sqrt(var_x)\n",
    "sd_x"
   ]
  },
  {
   "cell_type": "code",
   "execution_count": null,
   "id": "e64292ee",
   "metadata": {},
   "outputs": [],
   "source": [
    "# Calculate the variance and standard deviation of Y using\n",
    "# both the direct formula and the shortcut formula.\n"
   ]
  }
 ],
 "metadata": {
  "kernelspec": {
   "display_name": "ts2025",
   "language": "python",
   "name": "python3"
  },
  "language_info": {
   "codemirror_mode": {
    "name": "ipython",
    "version": 3
   },
   "file_extension": ".py",
   "mimetype": "text/x-python",
   "name": "python",
   "nbconvert_exporter": "python",
   "pygments_lexer": "ipython3",
   "version": "3.13.7"
  }
 },
 "nbformat": 4,
 "nbformat_minor": 5
}
