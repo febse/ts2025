{
  "cells": [
    {
      "cell_type": "markdown",
      "id": "75decfcd",
      "metadata": {
        "id": "75decfcd"
      },
      "source": [
        "# Interaction Effects\n",
        "\n",
        "Open in Colab: [![Open in Colab](https://colab.research.google.com/assets/colab-badge.svg)](https://colab.research.google.com/github/febse/econ2025/blob/main/10-Interaction-Effects.ipynb)\n"
      ]
    },
    {
      "cell_type": "code",
      "execution_count": 1,
      "id": "c56ea882",
      "metadata": {
        "colab": {
          "base_uri": "https://localhost:8080/",
          "height": 460
        },
        "id": "c56ea882",
        "outputId": "0f4c593c-17a9-4437-e656-6648a7117d14",
        "vscode": {
          "languageId": "r"
        }
      },
      "outputs": [
        {
          "name": "stderr",
          "output_type": "stream",
          "text": [
            "── \u001b[1mAttaching core tidyverse packages\u001b[22m ──────────────────────── tidyverse 2.0.0 ──\n",
            "\u001b[32m✔\u001b[39m \u001b[34mdplyr    \u001b[39m 1.1.4     \u001b[32m✔\u001b[39m \u001b[34mreadr    \u001b[39m 2.1.5\n",
            "\u001b[32m✔\u001b[39m \u001b[34mforcats  \u001b[39m 1.0.0     \u001b[32m✔\u001b[39m \u001b[34mstringr  \u001b[39m 1.5.1\n",
            "\u001b[32m✔\u001b[39m \u001b[34mggplot2  \u001b[39m 3.5.2     \u001b[32m✔\u001b[39m \u001b[34mtibble   \u001b[39m 3.2.1\n",
            "\u001b[32m✔\u001b[39m \u001b[34mlubridate\u001b[39m 1.9.4     \u001b[32m✔\u001b[39m \u001b[34mtidyr    \u001b[39m 1.3.1\n",
            "\u001b[32m✔\u001b[39m \u001b[34mpurrr    \u001b[39m 1.0.4     \n",
            "── \u001b[1mConflicts\u001b[22m ────────────────────────────────────────── tidyverse_conflicts() ──\n",
            "\u001b[31m✖\u001b[39m \u001b[34mdplyr\u001b[39m::\u001b[32mfilter()\u001b[39m masks \u001b[34mstats\u001b[39m::filter()\n",
            "\u001b[31m✖\u001b[39m \u001b[34mdplyr\u001b[39m::\u001b[32mlag()\u001b[39m    masks \u001b[34mstats\u001b[39m::lag()\n",
            "\u001b[36mℹ\u001b[39m Use the conflicted package (\u001b[3m\u001b[34m<http://conflicted.r-lib.org/>\u001b[39m\u001b[23m) to force all conflicts to become errors\n"
          ]
        },
        {
          "data": {
            "text/html": [
              "<table class=\"dataframe\">\n",
              "<caption>A data.frame: 6 × 5</caption>\n",
              "<thead>\n",
              "\t<tr><th></th><th scope=col>male</th><th scope=col>drink</th><th scope=col>gpa</th><th scope=col>malegpa</th><th scope=col>sex</th></tr>\n",
              "\t<tr><th></th><th scope=col>&lt;int&gt;</th><th scope=col>&lt;int&gt;</th><th scope=col>&lt;dbl&gt;</th><th scope=col>&lt;dbl&gt;</th><th scope=col>&lt;chr&gt;</th></tr>\n",
              "</thead>\n",
              "<tbody>\n",
              "\t<tr><th scope=row>1</th><td>1</td><td> 5</td><td>3.20</td><td>3.20</td><td>M</td></tr>\n",
              "\t<tr><th scope=row>2</th><td>0</td><td> 9</td><td>3.00</td><td>0.00</td><td>F</td></tr>\n",
              "\t<tr><th scope=row>3</th><td>1</td><td>29</td><td>2.85</td><td>2.85</td><td>M</td></tr>\n",
              "\t<tr><th scope=row>4</th><td>0</td><td>22</td><td>  NA</td><td>  NA</td><td>F</td></tr>\n",
              "\t<tr><th scope=row>5</th><td>0</td><td>19</td><td>  NA</td><td>  NA</td><td>F</td></tr>\n",
              "\t<tr><th scope=row>6</th><td>1</td><td>19</td><td>  NA</td><td>  NA</td><td>M</td></tr>\n",
              "</tbody>\n",
              "</table>\n"
            ],
            "text/latex": [
              "A data.frame: 6 × 5\n",
              "\\begin{tabular}{r|lllll}\n",
              "  & male & drink & gpa & malegpa & sex\\\\\n",
              "  & <int> & <int> & <dbl> & <dbl> & <chr>\\\\\n",
              "\\hline\n",
              "\t1 & 1 &  5 & 3.20 & 3.20 & M\\\\\n",
              "\t2 & 0 &  9 & 3.00 & 0.00 & F\\\\\n",
              "\t3 & 1 & 29 & 2.85 & 2.85 & M\\\\\n",
              "\t4 & 0 & 22 &   NA &   NA & F\\\\\n",
              "\t5 & 0 & 19 &   NA &   NA & F\\\\\n",
              "\t6 & 1 & 19 &   NA &   NA & M\\\\\n",
              "\\end{tabular}\n"
            ],
            "text/markdown": [
              "\n",
              "A data.frame: 6 × 5\n",
              "\n",
              "| <!--/--> | male &lt;int&gt; | drink &lt;int&gt; | gpa &lt;dbl&gt; | malegpa &lt;dbl&gt; | sex &lt;chr&gt; |\n",
              "|---|---|---|---|---|---|\n",
              "| 1 | 1 |  5 | 3.20 | 3.20 | M |\n",
              "| 2 | 0 |  9 | 3.00 | 0.00 | F |\n",
              "| 3 | 1 | 29 | 2.85 | 2.85 | M |\n",
              "| 4 | 0 | 22 |   NA |   NA | F |\n",
              "| 5 | 0 | 19 |   NA |   NA | F |\n",
              "| 6 | 1 | 19 |   NA |   NA | M |\n",
              "\n"
            ],
            "text/plain": [
              "  male drink gpa  malegpa sex\n",
              "1 1     5    3.20 3.20    M  \n",
              "2 0     9    3.00 0.00    F  \n",
              "3 1    29    2.85 2.85    M  \n",
              "4 0    22      NA   NA    F  \n",
              "5 0    19      NA   NA    F  \n",
              "6 1    19      NA   NA    M  "
            ]
          },
          "metadata": {},
          "output_type": "display_data"
        }
      ],
      "source": [
        "library(tidyverse)\n",
        "\n",
        "# Load the data\n",
        "stu <- read.csv(\"https://raw.githubusercontent.com/febse/data/main/econ/drinking.csv\") %>%\n",
        "  mutate(\n",
        "    sex = ifelse(male == 1, \"M\", \"F\")\n",
        "  )\n",
        "\n",
        "# Print the first few rows\n",
        "stu %>% head()"
      ]
    },
    {
      "cell_type": "code",
      "execution_count": null,
      "id": "7bb96f01",
      "metadata": {
        "id": "7bb96f01",
        "vscode": {
          "languageId": "r"
        }
      },
      "outputs": [],
      "source": [
        "# Plot the data and overlay the regression line for gpa ~ drinks\n"
      ]
    },
    {
      "cell_type": "markdown",
      "id": "7524e620",
      "metadata": {
        "id": "7524e620"
      },
      "source": [
        "Estimate and interpret the results of the following models:\n",
        "\n",
        "- $\\text{gpa}_i = \\beta_0 + \\beta_1 \\text{drink}_i + e_i$\n",
        "- $\\text{gpa}_i = \\beta_0 + \\beta_1 \\text{sexMale}_i + e_i$\n",
        "- $\\text{gpa}_i =\\beta_0 + \\beta_1 \\text{drink}_i + \\beta_2 \\text{sexMale}_i + e_i$\n",
        "- $\\text{gpa}_i = \\beta_0 + \\beta_1 \\text{drink}_i + \\beta_2 \\text{sexMale}_i +\n",
        "\\beta_3 \\text{gpa}_i \\cdot \\text{sexMale}_i$"
      ]
    },
    {
      "cell_type": "code",
      "execution_count": null,
      "id": "ec886b14",
      "metadata": {
        "id": "ec886b14",
        "vscode": {
          "languageId": "r"
        }
      },
      "outputs": [],
      "source": []
    },
    {
      "cell_type": "markdown",
      "id": "793c897d",
      "metadata": {
        "id": "793c897d"
      },
      "source": [
        "## Polynomial regression\n",
        "\n",
        "- Sample 100 observations from the following model. Assume that $x_i$ is uniformly distributed between -4 and 3.\n",
        "\n",
        "$$\n",
        "y_i = 2 + x_i + x^2 + e_i, e_i \\sim N(0, 1)\n",
        "$$\n",
        "\n",
        "- Fit a linear regression model to the data, plot the data in a scatterplot and add the estimated regression line.\n",
        "- Calculate the residuals and plot them against the fitted values. What do you observe?\n",
        "\n"
      ]
    },
    {
      "cell_type": "code",
      "execution_count": null,
      "id": "e3b57e41",
      "metadata": {
        "id": "e3b57e41",
        "vscode": {
          "languageId": "r"
        }
      },
      "outputs": [],
      "source": [
        "#\n",
        "#\n",
        "#\n",
        "#\n",
        "#\n",
        "#\n",
        "#\n",
        "#\n",
        "#\n",
        "#\n",
        "#\n",
        "#\n",
        "#\n",
        "#\n",
        "#\n",
        "#\n",
        "#\n",
        "#"
      ]
    },
    {
      "cell_type": "markdown",
      "id": "18d79aed",
      "metadata": {
        "id": "18d79aed"
      },
      "source": []
    },
    {
      "cell_type": "code",
      "execution_count": 40,
      "id": "e361b1c1",
      "metadata": {
        "colab": {
          "base_uri": "https://localhost:8080/",
          "height": 437
        },
        "id": "e361b1c1",
        "outputId": "9e205eb4-8c82-412e-9204-78fb7404b210",
        "vscode": {
          "languageId": "r"
        }
      },
      "outputs": [
        {
          "data": {
            "image/png": "[encoded data removed]",
            "text/plain": [
              "plot without title"
            ]
          },
          "metadata": {
            "image/png": {
              "height": 420,
              "width": 420
            }
          },
          "output_type": "display_data"
        }
      ],
      "source": [
        "## Create the simulated sample\n",
        "sim_n <- 100\n",
        "\n",
        "poly_dt <- tibble(\n",
        "  x = runif(n = sim_n, min = -4, max = 3),\n",
        "  y = 2 +  x +  x^2 + rnorm(n = sim_n, mean = 0, sd = 3)\n",
        ")\n",
        "\n",
        "poly_dt %>%\n",
        "  ggplot(aes(x = x, y = y)) +\n",
        "  geom_point()\n"
      ]
    },
    {
      "cell_type": "markdown",
      "id": "216101c8",
      "metadata": {
        "id": "216101c8"
      },
      "source": [
        "\n",
        "2.  Estimate a linear model for `x` and `y`\n",
        "\n",
        "$$\n",
        "y_i = \\beta_0 + \\beta_1 x_i, e_i \\sim N(0, \\sigma^2)\n",
        "$$\n"
      ]
    },
    {
      "cell_type": "code",
      "execution_count": 47,
      "id": "b6270ada",
      "metadata": {
        "colab": {
          "base_uri": "https://localhost:8080/",
          "height": 139
        },
        "id": "b6270ada",
        "outputId": "b4790c73-b750-4eb4-e9e1-df54af0fb46c",
        "vscode": {
          "languageId": "r"
        }
      },
      "outputs": [
        {
          "data": {
            "text/plain": [
              "\n",
              "Call:\n",
              "lm(formula = y ~ poly(x, 1), data = poly_dt)\n",
              "\n",
              "Coefficients:\n",
              "(Intercept)   poly(x, 1)  \n",
              "     6.5227       0.2923  \n"
            ]
          },
          "metadata": {},
          "output_type": "display_data"
        }
      ],
      "source": [
        "fit1 <- lm(y ~ poly(x, 1), data = poly_dt)\n",
        "fit1"
      ]
    },
    {
      "cell_type": "code",
      "execution_count": 48,
      "id": "16befde3",
      "metadata": {
        "id": "16befde3",
        "vscode": {
          "languageId": "r"
        }
      },
      "outputs": [],
      "source": [
        "fit1_pred <- predict(\n",
        "  fit1,\n",
        "  interval = \"confidence\"\n",
        "  ) %>%\n",
        "  as_tibble() %>%\n",
        "  bind_cols(poly_dt)"
      ]
    },
    {
      "cell_type": "code",
      "execution_count": 49,
      "id": "b476d7b6",
      "metadata": {
        "colab": {
          "base_uri": "https://localhost:8080/",
          "height": 437
        },
        "id": "b476d7b6",
        "outputId": "f349c235-e1dd-400f-a180-b2148f542bab",
        "vscode": {
          "languageId": "r"
        }
      },
      "outputs": [
        {
          "data": {
            "image/png": "[encoded data removed]",
            "text/plain": [
              "plot without title"
            ]
          },
          "metadata": {
            "image/png": {
              "height": 420,
              "width": 420
            }
          },
          "output_type": "display_data"
        }
      ],
      "source": [
        "fit1_pred %>%\n",
        "  ggplot(aes(x = x, y = y)) +\n",
        "  geom_point() +\n",
        "  geom_line(aes(x = x, y = fit), color = \"steelblue2\") +\n",
        "  geom_ribbon(\n",
        "    aes(ymin = lwr, ymax = upr),\n",
        "    alpha = 0.2,\n",
        "    fill = \"steelblue2\"\n",
        "  ) +\n",
        "  labs(\n",
        "    x = \"Predicted\",\n",
        "    y = \"Residual\"\n",
        "  )"
      ]
    },
    {
      "cell_type": "markdown",
      "id": "f168a6da",
      "metadata": {
        "id": "f168a6da"
      },
      "source": [
        "\n",
        "3.  Add a quadratic term to the linear model and estimate it\n",
        "\n",
        "$$\n",
        "y_i = \\beta_0 + \\beta_1 x_i + \\beta_2 x^2_i + e_i, e_i \\sim N(0, \\sigma^2)\n",
        "$$\n"
      ]
    },
    {
      "cell_type": "code",
      "execution_count": null,
      "id": "a54434ab",
      "metadata": {
        "id": "a54434ab",
        "vscode": {
          "languageId": "r"
        }
      },
      "outputs": [],
      "source": [
        "# fit2_pred <- predict(fit2, interval = \"confidence\") %>%\n",
        "#   as_tibble() %>%\n",
        "#   bind_cols(poly_dt) %>%\n",
        "#   mutate(\n",
        "#     res = y - fit\n",
        "#   )"
      ]
    },
    {
      "cell_type": "code",
      "execution_count": null,
      "id": "57b5eb94",
      "metadata": {
        "id": "57b5eb94",
        "vscode": {
          "languageId": "r"
        }
      },
      "outputs": [],
      "source": [
        "# fit2_pred %>%\n",
        "#   ggplot(aes(x = x, y = y)) +\n",
        "#   geom_point() +\n",
        "#   geom_line(\n",
        "#     aes(y = fit),\n",
        "#     color = \"steelblue2\"\n",
        "#   ) +\n",
        "#   geom_ribbon(\n",
        "#     aes(ymin = lwr, ymax = upr),\n",
        "#     alpha = 0.2,\n",
        "#     fill = \"steelblue2\"\n",
        "#   )"
      ]
    },
    {
      "cell_type": "code",
      "execution_count": null,
      "id": "fd9f7e92",
      "metadata": {
        "id": "fd9f7e92",
        "vscode": {
          "languageId": "r"
        }
      },
      "outputs": [],
      "source": [
        "# fit2_pred %>%\n",
        "#   ggplot(aes(x = fit, y = res)) +\n",
        "#   geom_point() +\n",
        "#   geom_hline(yintercept = 0, alpha = 0.5, lty = 2) +\n",
        "#   labs(\n",
        "#     x = \"Predicted\",\n",
        "#     y = \"Residual\"\n",
        "#   )"
      ]
    },
    {
      "cell_type": "markdown",
      "id": "74b9a591",
      "metadata": {
        "id": "74b9a591"
      },
      "source": [
        "4.  Add the third and fourth degree polynomial terms to the model and estimate it\n",
        "\n",
        "$$\n",
        "y_i = \\beta_0 + \\beta_1 x_i + \\beta_2 x^2_i + \\beta_3 x^3_i + \\beta_4 x^4_i + e_i, e_i \\sim N(0, \\sigma^2)\n",
        "$$"
      ]
    },
    {
      "cell_type": "code",
      "execution_count": null,
      "id": "c608a989",
      "metadata": {
        "id": "c608a989",
        "vscode": {
          "languageId": "r"
        }
      },
      "outputs": [],
      "source": []
    },
    {
      "cell_type": "code",
      "execution_count": null,
      "id": "a8383bd2",
      "metadata": {
        "id": "a8383bd2",
        "vscode": {
          "languageId": "r"
        }
      },
      "outputs": [],
      "source": [
        "# fit3_pred <- predict(fit3, interval = \"confidence\") %>%\n",
        "#   as_tibble() %>%\n",
        "#   bind_cols(poly_dt) %>%\n",
        "#   mutate(\n",
        "#     res = y - fit\n",
        "#   )"
      ]
    },
    {
      "cell_type": "code",
      "execution_count": null,
      "id": "87abb6ed",
      "metadata": {
        "id": "87abb6ed",
        "vscode": {
          "languageId": "r"
        }
      },
      "outputs": [],
      "source": [
        "# fit3_pred %>%\n",
        "#   ggplot(aes(x = x, y = y)) +\n",
        "#   geom_point() +\n",
        "#   geom_line(\n",
        "#     aes(y = fit),\n",
        "#     color = \"steelblue2\"\n",
        "#   ) +\n",
        "#   geom_ribbon(\n",
        "#     aes(ymin = lwr, ymax = upr),\n",
        "#     alpha = 0.2,\n",
        "#     fill = \"steelblue2\"\n",
        "#   )"
      ]
    },
    {
      "cell_type": "code",
      "execution_count": null,
      "id": "aadd5fb6",
      "metadata": {
        "id": "aadd5fb6",
        "vscode": {
          "languageId": "r"
        }
      },
      "outputs": [],
      "source": [
        "# fit3_pred %>%\n",
        "#   ggplot(aes(x = fit, y = res)) +\n",
        "#   geom_point() +\n",
        "#   geom_hline(yintercept = 0, alpha = 0.5, lty = 2) +\n",
        "#   labs(\n",
        "#     x = \"Predicted\",\n",
        "#     y = \"Residual\"\n",
        "#   )"
      ]
    },
    {
      "cell_type": "markdown",
      "id": "c8528d7f",
      "metadata": {
        "id": "c8528d7f"
      },
      "source": [
        "## Model choice\n",
        "\n",
        "1. The residual sum of squares (RSS) is defined as:\n",
        "\n",
        "$$\n",
        "RSS = \\sum_{i = 1}^{n}(y_i - \\hat{y}_i)^2\n",
        "$$\n",
        "\n",
        "where $y_i$ is the observed value, $\\hat{y}_i$ is the predicted value, and $n$ is the number of observations.\n",
        "\n",
        "2. The mean squared error (MSE) is defined as:\n",
        "\n",
        "$$\n",
        "\\text{MSE} = \\frac{\\text{RSS}}{n} =  \\frac{1}{n} \\sum_{i = 1}^{n}(y_i - \\hat{y}_i)^2\n",
        "$$\n",
        "\n",
        "3. The root mean squared error (RMSE) is defined as:\n",
        "\n",
        "$$\n",
        "\\text{RMSE} = \\sqrt{\\text{MSE}} = \\sqrt{\\frac{1}{n} \\sum_{i = 1}^{n}(y_i - \\hat{y}_i)^2}\n",
        "$$\n",
        "\n",
        "4. R-squared ($R^2$)\n",
        "\n",
        "$$\n",
        "R^2 = 1 - \\frac{RSS}{TSS} \\\\\n",
        "RSS = \\sum_{i = 1}^{n}(y_i - \\hat{y}_i)^2 \\\\\n",
        "TSS = \\sum_{i = 1}^{n}(y_i - \\bar{y})^2\n",
        "$$\n",
        "\n",
        "Compute $R^2$ for the three models. Which model fits the data best according to it?\n",
        "\n",
        "Generate test data from the same model and compute the RSS, MSE, RMSE, and $R^2$ for the test data.\n"
      ]
    },
    {
      "cell_type": "code",
      "execution_count": null,
      "id": "13e7cac6",
      "metadata": {
        "id": "13e7cac6",
        "vscode": {
          "languageId": "r"
        }
      },
      "outputs": [],
      "source": [
        "sim_noconst <- tibble(\n",
        "  y = 2 + rnorm(n = 100, mean = 0, sd = 1),\n",
        "  x = runif(n = 100)\n",
        ")\n",
        "\n",
        "sim_noconst %>%\n",
        "  ggplot(aes(x = x, y = y)) +\n",
        "  geom_point()"
      ]
    },
    {
      "cell_type": "markdown",
      "id": "c4675ccf",
      "metadata": {
        "id": "c4675ccf"
      },
      "source": [
        "2.  Adjusted $R^2$\n",
        "\n",
        "$$\n",
        "R^2_{ADJ} = 1 - \\frac{n - 1}{n - p - 1} \\frac{RSS}{TSS}\n",
        "$$\n",
        "\n",
        "3.  Information Criteria\n",
        "\n",
        "Compute the Akaike information criterion (AIC) for the three models and choose the best one.\n",
        "\n",
        "$$\n",
        "\\text{AIC} = n \\log\\left(\\frac{RSS}{n}\\right) + 2p + n + n \\log(2\\pi).\n",
        "$$"
      ]
    },
    {
      "cell_type": "code",
      "execution_count": null,
      "id": "086e5cf1",
      "metadata": {
        "id": "086e5cf1",
        "vscode": {
          "languageId": "r"
        }
      },
      "outputs": [],
      "source": [
        "AIC(fit1)\n",
        "AIC(fit2)\n",
        "AIC(fit3)"
      ]
    },
    {
      "cell_type": "code",
      "execution_count": null,
      "id": "f9747f38",
      "metadata": {
        "id": "f9747f38",
        "vscode": {
          "languageId": "r"
        }
      },
      "outputs": [],
      "source": [
        "smpl <- sample(1:100, 20)\n",
        "poly_dt_estim <- poly_dt[smpl, ]\n",
        "poly_dt_test <- poly_dt[-smpl, ]\n",
        "\n",
        "fit2_estim <- lm(y ~ poly(x, 4), data = poly_dt_estim)\n",
        "fit5_test <- lm(y ~ poly(x, 4), data = poly_dt_test)\n",
        "\n",
        "pred2 <- predict(fit2_estim, newdata = poly_dt_estim)\n",
        "pred5 <- predict(fit2_estim, newdata = poly_dt_estim)"
      ]
    }
  ],
  "metadata": {
    "colab": {
      "provenance": []
    },
    "kernelspec": {
      "display_name": "R",
      "name": "ir"
    },
    "language_info": {
      "name": "R"
    }
  },
  "nbformat": 4,
  "nbformat_minor": 5
}
