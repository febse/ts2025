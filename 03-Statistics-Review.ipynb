{
 "cells": [
  {
   "cell_type": "markdown",
   "id": "4dc7b819",
   "metadata": {},
   "source": [
    "# Autoregressive Processes\n",
    "\n",
    "<a href=\"https://colab.research.google.com/github/febse/ts2025/blob/main/03-Statistics-Review.ipynb\" target=\"_parent\"><img src=\"https://colab.research.google.com/assets/colab-badge.svg\" alt=\"Open In Colab\"/></a>\n",
    "\n",
    "## AR 1 Process\n",
    "\n",
    "$$\n",
    "x_t = \\phi x_{t-1} + e_t\n",
    "$$\n",
    "\n",
    "where $ |\\phi| < 1 $ and $ e_t \\sim \\text{i.i.d. } N(0, \\sigma^2) $.\n",
    "\n",
    "\n",
    "### The Expected Value\n",
    "\n",
    "For a discrete random variable $X$ taking values $x_i$ with probabilities $p_i$, the expected value is defined as:\n",
    "\n",
    "$$\n",
    "E(X) = \\sum_i x_i p_i\n",
    "$$\n",
    "\n",
    "With the following distribution as an example:\n",
    "\n",
    "| x | 0 | 1 | 2 | 3 |\n",
    "|---|---|---|---|---|\n",
    "| p | 0.25 | 0.095 | 0.272 | 0.383 |\n",
    "\n",
    "The expected value is calculated as:\n",
    "\n",
    "$$\n",
    "E(X) = 0 \\cdot 0.25 + 1 \\cdot 0.095 + 2 \\cdot 0.272 + 3 \\cdot 0.383 = 1.788\n",
    "$$"
   ]
  },
  {
   "cell_type": "code",
   "execution_count": 1,
   "id": "2c3c7ef7",
   "metadata": {},
   "outputs": [
    {
     "data": {
      "text/plain": [
       "array([1, 2, 2, 1, 0, 0, 0, 2, 1, 2])"
      ]
     },
     "execution_count": 1,
     "metadata": {},
     "output_type": "execute_result"
    }
   ],
   "source": [
    "import numpy as np\n",
    "import pandas as pd\n",
    "import matplotlib.pyplot as plt\n",
    "\n",
    "# Switch off autocompletions\n",
    "\n",
    "%config CompleterManager.use_jedi = False\n",
    "\n",
    "np.random.seed(42)\n",
    "example = np.random.choice([0, 1, 2], size=10, p=[0.2, 0.5, 0.3])\n",
    "example"
   ]
  },
  {
   "cell_type": "code",
   "execution_count": 2,
   "id": "398e81c2",
   "metadata": {},
   "outputs": [
    {
     "data": {
      "text/plain": [
       "np.float64(1.1)"
      ]
     },
     "execution_count": 2,
     "metadata": {},
     "output_type": "execute_result"
    }
   ],
   "source": [
    "# The average is\n",
    "\n",
    "example.mean()"
   ]
  },
  {
   "cell_type": "code",
   "execution_count": 3,
   "id": "67cdfa35",
   "metadata": {},
   "outputs": [
    {
     "data": {
      "text/plain": [
       "1.1"
      ]
     },
     "execution_count": 3,
     "metadata": {},
     "output_type": "execute_result"
    }
   ],
   "source": [
    "# Which computes\n",
    "\n",
    "(1 + 2 + 2 + 1 + 0 + 0 + 0 + 2 + 1 +  2) / 10"
   ]
  },
  {
   "cell_type": "code",
   "execution_count": 5,
   "id": "8e7b6526",
   "metadata": {},
   "outputs": [
    {
     "data": {
      "application/vnd.microsoft.datawrangler.viewer.v0+json": {
       "columns": [
        {
         "name": "index",
         "rawType": "int64",
         "type": "integer"
        },
        {
         "name": "proportion",
         "rawType": "float64",
         "type": "float"
        }
       ],
       "ref": "84b07fe2-8b8a-4740-a564-8f35a3175b2a",
       "rows": [
        [
         "2",
         "0.4"
        ],
        [
         "1",
         "0.3"
        ],
        [
         "0",
         "0.3"
        ]
       ],
       "shape": {
        "columns": 1,
        "rows": 3
       }
      },
      "text/plain": [
       "2    0.4\n",
       "1    0.3\n",
       "0    0.3\n",
       "Name: proportion, dtype: float64"
      ]
     },
     "execution_count": 5,
     "metadata": {},
     "output_type": "execute_result"
    }
   ],
   "source": [
    "# But we can also compute the frequency of each value\n",
    "pd.Series(example).value_counts(normalize=True)"
   ]
  },
  {
   "cell_type": "code",
   "execution_count": null,
   "id": "971de663",
   "metadata": {},
   "outputs": [
    {
     "data": {
      "text/plain": [
       "1.1"
      ]
     },
     "execution_count": 53,
     "metadata": {},
     "output_type": "execute_result"
    }
   ],
   "source": [
    "# And compute the average value from that\n",
    "\n",
    "0 * 0.3 + 1 * 0.3 + 2 * 0.4"
   ]
  },
  {
   "cell_type": "code",
   "execution_count": null,
   "id": "a3ff401c",
   "metadata": {},
   "outputs": [
    {
     "data": {
      "application/vnd.microsoft.datawrangler.viewer.v0+json": {
       "columns": [
        {
         "name": "index",
         "rawType": "int64",
         "type": "integer"
        },
        {
         "name": "x",
         "rawType": "int64",
         "type": "integer"
        },
        {
         "name": "p",
         "rawType": "float64",
         "type": "float"
        }
       ],
       "ref": "e9ee6293-9efb-43fd-bb35-7367515786cd",
       "rows": [
        [
         "0",
         "0",
         "0.25"
        ],
        [
         "1",
         "1",
         "0.095"
        ],
        [
         "2",
         "2",
         "0.272"
        ],
        [
         "3",
         "3",
         "0.383"
        ]
       ],
       "shape": {
        "columns": 2,
        "rows": 4
       }
      },
      "text/html": [
       "<div>\n",
       "<style scoped>\n",
       "    .dataframe tbody tr th:only-of-type {\n",
       "        vertical-align: middle;\n",
       "    }\n",
       "\n",
       "    .dataframe tbody tr th {\n",
       "        vertical-align: top;\n",
       "    }\n",
       "\n",
       "    .dataframe thead th {\n",
       "        text-align: right;\n",
       "    }\n",
       "</style>\n",
       "<table border=\"1\" class=\"dataframe\">\n",
       "  <thead>\n",
       "    <tr style=\"text-align: right;\">\n",
       "      <th></th>\n",
       "      <th>x</th>\n",
       "      <th>p</th>\n",
       "    </tr>\n",
       "  </thead>\n",
       "  <tbody>\n",
       "    <tr>\n",
       "      <th>0</th>\n",
       "      <td>0</td>\n",
       "      <td>0.250</td>\n",
       "    </tr>\n",
       "    <tr>\n",
       "      <th>1</th>\n",
       "      <td>1</td>\n",
       "      <td>0.095</td>\n",
       "    </tr>\n",
       "    <tr>\n",
       "      <th>2</th>\n",
       "      <td>2</td>\n",
       "      <td>0.272</td>\n",
       "    </tr>\n",
       "    <tr>\n",
       "      <th>3</th>\n",
       "      <td>3</td>\n",
       "      <td>0.383</td>\n",
       "    </tr>\n",
       "  </tbody>\n",
       "</table>\n",
       "</div>"
      ],
      "text/plain": [
       "   x      p\n",
       "0  0  0.250\n",
       "1  1  0.095\n",
       "2  2  0.272\n",
       "3  3  0.383"
      ]
     },
     "execution_count": 20,
     "metadata": {},
     "output_type": "execute_result"
    }
   ],
   "source": [
    "px = pd.read_csv(\"https://github.com/febse/data/raw/refs/heads/main/ts/review/px.csv\")\n",
    "px"
   ]
  },
  {
   "cell_type": "code",
   "execution_count": 21,
   "id": "087201a7",
   "metadata": {},
   "outputs": [
    {
     "data": {
      "text/plain": [
       "np.float64(1.788)"
      ]
     },
     "execution_count": 21,
     "metadata": {},
     "output_type": "execute_result"
    }
   ],
   "source": [
    "E_x = (px[\"x\"] * px[\"p\"]).sum()\n",
    "E_x"
   ]
  },
  {
   "cell_type": "code",
   "execution_count": 22,
   "id": "86d0d7f8",
   "metadata": {},
   "outputs": [
    {
     "data": {
      "text/plain": [
       "Text(0.5, 0, 'x')"
      ]
     },
     "execution_count": 22,
     "metadata": {},
     "output_type": "execute_result"
    },
    {
     "data": {
      "image/png": "[encoded data removed]",
      "text/plain": [
       "<Figure size 640x480 with 1 Axes>"
      ]
     },
     "metadata": {},
     "output_type": "display_data"
    }
   ],
   "source": [
    "plt.bar(px[\"x\"], px[\"p\"], width=0.1, alpha=0.7)\n",
    "plt.axvline(E_x, color='red', linestyle='dashed', linewidth=1)\n",
    "plt.title(\"Probability Distribution of X\")\n",
    "plt.xlabel(\"x\")"
   ]
  },
  {
   "cell_type": "code",
   "execution_count": 23,
   "id": "5e7b99c4",
   "metadata": {},
   "outputs": [
    {
     "data": {
      "application/vnd.microsoft.datawrangler.viewer.v0+json": {
       "columns": [
        {
         "name": "index",
         "rawType": "int64",
         "type": "integer"
        },
        {
         "name": "y",
         "rawType": "int64",
         "type": "integer"
        },
        {
         "name": "p",
         "rawType": "float64",
         "type": "float"
        }
       ],
       "ref": "bd485e6b-e9f3-4111-8036-6534eb8d52bb",
       "rows": [
        [
         "0",
         "2",
         "0.76"
        ],
        [
         "1",
         "3",
         "0.24"
        ]
       ],
       "shape": {
        "columns": 2,
        "rows": 2
       }
      },
      "text/html": [
       "<div>\n",
       "<style scoped>\n",
       "    .dataframe tbody tr th:only-of-type {\n",
       "        vertical-align: middle;\n",
       "    }\n",
       "\n",
       "    .dataframe tbody tr th {\n",
       "        vertical-align: top;\n",
       "    }\n",
       "\n",
       "    .dataframe thead th {\n",
       "        text-align: right;\n",
       "    }\n",
       "</style>\n",
       "<table border=\"1\" class=\"dataframe\">\n",
       "  <thead>\n",
       "    <tr style=\"text-align: right;\">\n",
       "      <th></th>\n",
       "      <th>y</th>\n",
       "      <th>p</th>\n",
       "    </tr>\n",
       "  </thead>\n",
       "  <tbody>\n",
       "    <tr>\n",
       "      <th>0</th>\n",
       "      <td>2</td>\n",
       "      <td>0.76</td>\n",
       "    </tr>\n",
       "    <tr>\n",
       "      <th>1</th>\n",
       "      <td>3</td>\n",
       "      <td>0.24</td>\n",
       "    </tr>\n",
       "  </tbody>\n",
       "</table>\n",
       "</div>"
      ],
      "text/plain": [
       "   y     p\n",
       "0  2  0.76\n",
       "1  3  0.24"
      ]
     },
     "execution_count": 23,
     "metadata": {},
     "output_type": "execute_result"
    }
   ],
   "source": [
    "py = pd.read_csv(\"https://github.com/febse/data/raw/refs/heads/main/ts/review/py.csv\")\n",
    "py"
   ]
  },
  {
   "cell_type": "code",
   "execution_count": null,
   "id": "976ec91b",
   "metadata": {},
   "outputs": [],
   "source": [
    "# Calculate the expected value of Y\n"
   ]
  },
  {
   "cell_type": "markdown",
   "id": "28139a2f",
   "metadata": {},
   "source": [
    "### Variance\n",
    "\n",
    "The variance of a random variable $X$ is defined as:\n",
    "\n",
    "$$\n",
    "Var(X) = E[(X - E(X))^2] = E[X^2] - (E[X])^2\n",
    "$$\n",
    "\n",
    "For a discrete random variable the expected value is simply a sum (just as above):\n",
    "\n",
    "$$\n",
    "Var(X) = \\sum_i (x_i - E(X))^2 p_i\n",
    "$$\n",
    "\n",
    "It measures how _different_ the values of the random variable are from the expected value. A distribution (random variable) with zero variance means that the random variable always takes the same value (the expected value).\n",
    "\n",
    "For the example distribution above, the variance is:\n",
    "\n",
    "$$\n",
    "Var(X) = (0 - 1.788)^2 \\cdot 0.25 + (1 - 1.788)^2 \\cdot 0.095 + (2 - 1.788)^2 \\cdot 0.272 + (3 - 1.788)^2 \\cdot 0.383 = 1.054\n",
    "$$\n",
    "\n",
    "or using the other formula:\n",
    "\n",
    "$$\n",
    "E[X^2] = 0^2 \\cdot 0.25 + 1^2 \\cdot 0.095 + 2^2 \\cdot 0.272 + 3^2 \\cdot 0.383 = 4.63\n",
    "$$\n",
    "\n",
    "$$\n",
    "Var(X) = 4.095 - (1.788)^2 = 1.433056\n",
    "$$\n",
    "\n",
    "The square root of the variance is called the standard deviation:\n",
    "\n",
    "$$\n",
    "SD(X) = \\sqrt{Var(X)} = 1.197\n",
    "$$\n"
   ]
  },
  {
   "cell_type": "code",
   "execution_count": 25,
   "id": "567d2087",
   "metadata": {},
   "outputs": [
    {
     "data": {
      "text/plain": [
       "np.float64(1.433056)"
      ]
     },
     "execution_count": 25,
     "metadata": {},
     "output_type": "execute_result"
    }
   ],
   "source": [
    "var_x = (((px[\"x\"] - E_x) ** 2 )* px[\"p\"]).sum()\n",
    "var_x"
   ]
  },
  {
   "cell_type": "code",
   "execution_count": 26,
   "id": "41b07737",
   "metadata": {},
   "outputs": [
    {
     "data": {
      "text/plain": [
       "np.float64(1.1971031701570254)"
      ]
     },
     "execution_count": 26,
     "metadata": {},
     "output_type": "execute_result"
    }
   ],
   "source": [
    "sd_x = np.sqrt(var_x)\n",
    "sd_x"
   ]
  },
  {
   "cell_type": "code",
   "execution_count": null,
   "id": "e64292ee",
   "metadata": {},
   "outputs": [],
   "source": [
    "# Calculate the variance and standard deviation of Y using\n",
    "# both the direct formula and the shortcut formula, also compute it manually \n",
    "# on paper\n",
    "\n"
   ]
  },
  {
   "cell_type": "markdown",
   "id": "516c1ef7",
   "metadata": {},
   "source": [
    "## Joint Probability Distributions\n",
    " "
   ]
  },
  {
   "cell_type": "code",
   "execution_count": 29,
   "id": "0822823d",
   "metadata": {},
   "outputs": [
    {
     "data": {
      "application/vnd.microsoft.datawrangler.viewer.v0+json": {
       "columns": [
        {
         "name": "index",
         "rawType": "int64",
         "type": "integer"
        },
        {
         "name": "x",
         "rawType": "int64",
         "type": "integer"
        },
        {
         "name": "y",
         "rawType": "int64",
         "type": "integer"
        },
        {
         "name": "p",
         "rawType": "float64",
         "type": "float"
        }
       ],
       "ref": "9731e3f8-6e46-485c-ab7f-2cc11840ee4a",
       "rows": [
        [
         "0",
         "0",
         "2",
         "0.241"
        ],
        [
         "1",
         "0",
         "3",
         "0.009"
        ],
        [
         "2",
         "1",
         "2",
         "0.089"
        ],
        [
         "3",
         "1",
         "3",
         "0.006"
        ],
        [
         "4",
         "2",
         "2",
         "0.229"
        ],
        [
         "5",
         "2",
         "3",
         "0.043"
        ],
        [
         "6",
         "3",
         "2",
         "0.201"
        ],
        [
         "7",
         "3",
         "3",
         "0.182"
        ]
       ],
       "shape": {
        "columns": 3,
        "rows": 8
       }
      },
      "text/html": [
       "<div>\n",
       "<style scoped>\n",
       "    .dataframe tbody tr th:only-of-type {\n",
       "        vertical-align: middle;\n",
       "    }\n",
       "\n",
       "    .dataframe tbody tr th {\n",
       "        vertical-align: top;\n",
       "    }\n",
       "\n",
       "    .dataframe thead th {\n",
       "        text-align: right;\n",
       "    }\n",
       "</style>\n",
       "<table border=\"1\" class=\"dataframe\">\n",
       "  <thead>\n",
       "    <tr style=\"text-align: right;\">\n",
       "      <th></th>\n",
       "      <th>x</th>\n",
       "      <th>y</th>\n",
       "      <th>p</th>\n",
       "    </tr>\n",
       "  </thead>\n",
       "  <tbody>\n",
       "    <tr>\n",
       "      <th>0</th>\n",
       "      <td>0</td>\n",
       "      <td>2</td>\n",
       "      <td>0.241</td>\n",
       "    </tr>\n",
       "    <tr>\n",
       "      <th>1</th>\n",
       "      <td>0</td>\n",
       "      <td>3</td>\n",
       "      <td>0.009</td>\n",
       "    </tr>\n",
       "    <tr>\n",
       "      <th>2</th>\n",
       "      <td>1</td>\n",
       "      <td>2</td>\n",
       "      <td>0.089</td>\n",
       "    </tr>\n",
       "    <tr>\n",
       "      <th>3</th>\n",
       "      <td>1</td>\n",
       "      <td>3</td>\n",
       "      <td>0.006</td>\n",
       "    </tr>\n",
       "    <tr>\n",
       "      <th>4</th>\n",
       "      <td>2</td>\n",
       "      <td>2</td>\n",
       "      <td>0.229</td>\n",
       "    </tr>\n",
       "    <tr>\n",
       "      <th>5</th>\n",
       "      <td>2</td>\n",
       "      <td>3</td>\n",
       "      <td>0.043</td>\n",
       "    </tr>\n",
       "    <tr>\n",
       "      <th>6</th>\n",
       "      <td>3</td>\n",
       "      <td>2</td>\n",
       "      <td>0.201</td>\n",
       "    </tr>\n",
       "    <tr>\n",
       "      <th>7</th>\n",
       "      <td>3</td>\n",
       "      <td>3</td>\n",
       "      <td>0.182</td>\n",
       "    </tr>\n",
       "  </tbody>\n",
       "</table>\n",
       "</div>"
      ],
      "text/plain": [
       "   x  y      p\n",
       "0  0  2  0.241\n",
       "1  0  3  0.009\n",
       "2  1  2  0.089\n",
       "3  1  3  0.006\n",
       "4  2  2  0.229\n",
       "5  2  3  0.043\n",
       "6  3  2  0.201\n",
       "7  3  3  0.182"
      ]
     },
     "execution_count": 29,
     "metadata": {},
     "output_type": "execute_result"
    }
   ],
   "source": [
    "pxy = pd.read_csv(\"https://github.com/febse/data/raw/refs/heads/main/ts/review/pxy.csv\")[['x', 'y', 'p']]\n",
    "pxy"
   ]
  },
  {
   "cell_type": "code",
   "execution_count": null,
   "id": "36cb197b",
   "metadata": {},
   "outputs": [
    {
     "data": {
      "application/vnd.microsoft.datawrangler.viewer.v0+json": {
       "columns": [
        {
         "name": "x",
         "rawType": "int64",
         "type": "integer"
        },
        {
         "name": "y=2",
         "rawType": "float64",
         "type": "float"
        },
        {
         "name": "y=3",
         "rawType": "float64",
         "type": "float"
        }
       ],
       "ref": "1b9e876a-ac37-48ba-becc-d86babfa4705",
       "rows": [
        [
         "0",
         "0.241",
         "0.009"
        ],
        [
         "1",
         "0.089",
         "0.006"
        ],
        [
         "2",
         "0.229",
         "0.043"
        ],
        [
         "3",
         "0.201",
         "0.182"
        ]
       ],
       "shape": {
        "columns": 2,
        "rows": 4
       }
      },
      "text/html": [
       "<div>\n",
       "<style scoped>\n",
       "    .dataframe tbody tr th:only-of-type {\n",
       "        vertical-align: middle;\n",
       "    }\n",
       "\n",
       "    .dataframe tbody tr th {\n",
       "        vertical-align: top;\n",
       "    }\n",
       "\n",
       "    .dataframe thead th {\n",
       "        text-align: right;\n",
       "    }\n",
       "</style>\n",
       "<table border=\"1\" class=\"dataframe\">\n",
       "  <thead>\n",
       "    <tr style=\"text-align: right;\">\n",
       "      <th>y</th>\n",
       "      <th>y=2</th>\n",
       "      <th>y=3</th>\n",
       "    </tr>\n",
       "    <tr>\n",
       "      <th>x</th>\n",
       "      <th></th>\n",
       "      <th></th>\n",
       "    </tr>\n",
       "  </thead>\n",
       "  <tbody>\n",
       "    <tr>\n",
       "      <th>0</th>\n",
       "      <td>0.241</td>\n",
       "      <td>0.009</td>\n",
       "    </tr>\n",
       "    <tr>\n",
       "      <th>1</th>\n",
       "      <td>0.089</td>\n",
       "      <td>0.006</td>\n",
       "    </tr>\n",
       "    <tr>\n",
       "      <th>2</th>\n",
       "      <td>0.229</td>\n",
       "      <td>0.043</td>\n",
       "    </tr>\n",
       "    <tr>\n",
       "      <th>3</th>\n",
       "      <td>0.201</td>\n",
       "      <td>0.182</td>\n",
       "    </tr>\n",
       "  </tbody>\n",
       "</table>\n",
       "</div>"
      ],
      "text/plain": [
       "y    y=2    y=3\n",
       "x              \n",
       "0  0.241  0.009\n",
       "1  0.089  0.006\n",
       "2  0.229  0.043\n",
       "3  0.201  0.182"
      ]
     },
     "execution_count": 30,
     "metadata": {},
     "output_type": "execute_result"
    }
   ],
   "source": [
    "pxy.pivot(\n",
    "    index='x',\n",
    "    columns='y',\n",
    "    values='p'\n",
    ").add_prefix('y=').round(3)"
   ]
  },
  {
   "cell_type": "markdown",
   "id": "521f1a6f",
   "metadata": {},
   "source": [
    "### Conditional Distributions\n",
    "\n"
   ]
  },
  {
   "cell_type": "code",
   "execution_count": 35,
   "id": "b87d8967",
   "metadata": {},
   "outputs": [
    {
     "data": {
      "application/vnd.microsoft.datawrangler.viewer.v0+json": {
       "columns": [
        {
         "name": "index",
         "rawType": "int64",
         "type": "integer"
        },
        {
         "name": "y",
         "rawType": "int64",
         "type": "integer"
        },
        {
         "name": "p",
         "rawType": "float64",
         "type": "float"
        },
        {
         "name": "p_x=1",
         "rawType": "float64",
         "type": "float"
        }
       ],
       "ref": "8f232a00-bb08-4c8f-924f-f5e73ecb3800",
       "rows": [
        [
         "2",
         "2",
         "0.089",
         "0.9368421052631578"
        ],
        [
         "3",
         "3",
         "0.006",
         "0.06315789473684211"
        ]
       ],
       "shape": {
        "columns": 3,
        "rows": 2
       }
      },
      "text/html": [
       "<div>\n",
       "<style scoped>\n",
       "    .dataframe tbody tr th:only-of-type {\n",
       "        vertical-align: middle;\n",
       "    }\n",
       "\n",
       "    .dataframe tbody tr th {\n",
       "        vertical-align: top;\n",
       "    }\n",
       "\n",
       "    .dataframe thead th {\n",
       "        text-align: right;\n",
       "    }\n",
       "</style>\n",
       "<table border=\"1\" class=\"dataframe\">\n",
       "  <thead>\n",
       "    <tr style=\"text-align: right;\">\n",
       "      <th></th>\n",
       "      <th>y</th>\n",
       "      <th>p</th>\n",
       "      <th>p_x=1</th>\n",
       "    </tr>\n",
       "  </thead>\n",
       "  <tbody>\n",
       "    <tr>\n",
       "      <th>2</th>\n",
       "      <td>2</td>\n",
       "      <td>0.089</td>\n",
       "      <td>0.936842</td>\n",
       "    </tr>\n",
       "    <tr>\n",
       "      <th>3</th>\n",
       "      <td>3</td>\n",
       "      <td>0.006</td>\n",
       "      <td>0.063158</td>\n",
       "    </tr>\n",
       "  </tbody>\n",
       "</table>\n",
       "</div>"
      ],
      "text/plain": [
       "   y      p     p_x=1\n",
       "2  2  0.089  0.936842\n",
       "3  3  0.006  0.063158"
      ]
     },
     "execution_count": 35,
     "metadata": {},
     "output_type": "execute_result"
    }
   ],
   "source": [
    "# Keep the rows where x=1 and select only the columns y and p\n",
    "pxy_x1 = pxy[pxy['x'] == 1][['y', 'p']]\n",
    "\n",
    "# Divide the joint probabilities by the marginal probability of x=1\n",
    "pxy_x1[\"p_x=1\"] = pxy_x1['p'] / pxy_x1['p'].sum()\n",
    "pxy_x1\n"
   ]
  },
  {
   "cell_type": "markdown",
   "id": "8afc68c2",
   "metadata": {},
   "source": [
    "### Conditional Expectation\n"
   ]
  },
  {
   "cell_type": "code",
   "execution_count": 36,
   "id": "640bc002",
   "metadata": {},
   "outputs": [
    {
     "data": {
      "text/plain": [
       "np.float64(2.063157894736842)"
      ]
     },
     "execution_count": 36,
     "metadata": {},
     "output_type": "execute_result"
    }
   ],
   "source": [
    "(pxy_x1[\"p_x=1\"] * pxy_x1['y']).sum()"
   ]
  },
  {
   "cell_type": "code",
   "execution_count": null,
   "id": "eeae4a00",
   "metadata": {},
   "outputs": [],
   "source": [
    "# Compute the conditional expectation E(X|Y=2)\n"
   ]
  },
  {
   "cell_type": "markdown",
   "id": "840d5cab",
   "metadata": {},
   "source": [
    "### Covariance and Correlation\n",
    "\n",
    "It is useful to start with the definition of the sample covariance between two sets of values $X$ and $Y$:\n",
    "\n",
    "$$\n",
    "S_{xy} = \\frac{1}{n-1} \\sum_{i=1}^{n} (x_i - \\bar{x})(y_i - \\bar{y})\n",
    "$$\n",
    "\n",
    "and the correlation:\n",
    "\n",
    "$$\n",
    "-1 \\leq r_{xy} = \\frac{S_{xy}}{S_x S_y} \\leq 1\n",
    "$$\n",
    "\n",
    "where $S_x$ and $S_y$ are the sample standard deviations of $X$ and $Y$ respectively."
   ]
  },
  {
   "cell_type": "code",
   "execution_count": 71,
   "id": "bacdc1b3",
   "metadata": {},
   "outputs": [
    {
     "name": "stdout",
     "output_type": "stream",
     "text": [
      "The covariance \n",
      "[[ 3.12789451  9.50350079]\n",
      " [ 9.50350079 56.32463836]]\n",
      "The correlation \n",
      "[[1.         0.71599231]\n",
      " [0.71599231 1.        ]]\n"
     ]
    },
    {
     "data": {
      "text/plain": [
       "Text(0, 0.5, 'y')"
      ]
     },
     "execution_count": 71,
     "metadata": {},
     "output_type": "execute_result"
    },
    {
     "data": {
      "image/png": "[encoded data removed]",
      "text/plain": [
       "<Figure size 640x480 with 1 Axes>"
      ]
     },
     "metadata": {},
     "output_type": "display_data"
    }
   ],
   "source": [
    "x = np.random.normal(loc=10, scale=2, size=100)\n",
    "y = 3 * x + np.random.normal(loc=0, scale=5, size=100)\n",
    "\n",
    "print(\"The covariance \")\n",
    "print(np.cov(x, y))\n",
    "\n",
    "print(\"The correlation \")\n",
    "print(np.corrcoef(x, y))\n",
    "\n",
    "plt.scatter(x, y)\n",
    "plt.axhline(y=np.mean(y), color='firebrick', linestyle='dashed', linewidth=1)\n",
    "plt.axvline(x=np.mean(x), color='steelblue', linestyle='dashed', linewidth=1)\n",
    "plt.xlabel(\"x\")\n",
    "plt.ylabel(\"y\")"
   ]
  },
  {
   "cell_type": "code",
   "execution_count": 60,
   "id": "b2d8f4a1",
   "metadata": {},
   "outputs": [
    {
     "data": {
      "text/plain": [
       "array([[ 4.07309585, 12.96508399],\n",
       "       [12.96508399, 65.63964124]])"
      ]
     },
     "execution_count": 60,
     "metadata": {},
     "output_type": "execute_result"
    }
   ],
   "source": [
    "np.cov(x, y)"
   ]
  },
  {
   "cell_type": "code",
   "execution_count": 61,
   "id": "bd2cb221",
   "metadata": {},
   "outputs": [
    {
     "data": {
      "text/plain": [
       "array([[1.      , 0.792921],\n",
       "       [0.792921, 1.      ]])"
      ]
     },
     "execution_count": 61,
     "metadata": {},
     "output_type": "execute_result"
    }
   ],
   "source": [
    "np.corrcoef(x, y)"
   ]
  },
  {
   "cell_type": "markdown",
   "id": "5db4ba29",
   "metadata": {},
   "source": [
    "### Covariance of Random Variables\n",
    "\n",
    "$$\n",
    "Cov(X, Y) = E[(X - E(X))(Y - E(Y))] = E[XY] - E[X]E[Y]\n",
    "$$"
   ]
  },
  {
   "cell_type": "code",
   "execution_count": 55,
   "id": "e5c73370",
   "metadata": {},
   "outputs": [
    {
     "data": {
      "application/vnd.microsoft.datawrangler.viewer.v0+json": {
       "columns": [
        {
         "name": "index",
         "rawType": "int64",
         "type": "integer"
        },
        {
         "name": "x",
         "rawType": "int64",
         "type": "integer"
        },
        {
         "name": "y",
         "rawType": "int64",
         "type": "integer"
        },
        {
         "name": "p",
         "rawType": "float64",
         "type": "float"
        }
       ],
       "ref": "7a4c3827-ce6c-4908-a9dd-dbe1371dc893",
       "rows": [
        [
         "0",
         "0",
         "2",
         "0.241"
        ],
        [
         "1",
         "0",
         "3",
         "0.009"
        ],
        [
         "2",
         "1",
         "2",
         "0.089"
        ],
        [
         "3",
         "1",
         "3",
         "0.006"
        ],
        [
         "4",
         "2",
         "2",
         "0.229"
        ],
        [
         "5",
         "2",
         "3",
         "0.043"
        ],
        [
         "6",
         "3",
         "2",
         "0.201"
        ],
        [
         "7",
         "3",
         "3",
         "0.182"
        ]
       ],
       "shape": {
        "columns": 3,
        "rows": 8
       }
      },
      "text/html": [
       "<div>\n",
       "<style scoped>\n",
       "    .dataframe tbody tr th:only-of-type {\n",
       "        vertical-align: middle;\n",
       "    }\n",
       "\n",
       "    .dataframe tbody tr th {\n",
       "        vertical-align: top;\n",
       "    }\n",
       "\n",
       "    .dataframe thead th {\n",
       "        text-align: right;\n",
       "    }\n",
       "</style>\n",
       "<table border=\"1\" class=\"dataframe\">\n",
       "  <thead>\n",
       "    <tr style=\"text-align: right;\">\n",
       "      <th></th>\n",
       "      <th>x</th>\n",
       "      <th>y</th>\n",
       "      <th>p</th>\n",
       "    </tr>\n",
       "  </thead>\n",
       "  <tbody>\n",
       "    <tr>\n",
       "      <th>0</th>\n",
       "      <td>0</td>\n",
       "      <td>2</td>\n",
       "      <td>0.241</td>\n",
       "    </tr>\n",
       "    <tr>\n",
       "      <th>1</th>\n",
       "      <td>0</td>\n",
       "      <td>3</td>\n",
       "      <td>0.009</td>\n",
       "    </tr>\n",
       "    <tr>\n",
       "      <th>2</th>\n",
       "      <td>1</td>\n",
       "      <td>2</td>\n",
       "      <td>0.089</td>\n",
       "    </tr>\n",
       "    <tr>\n",
       "      <th>3</th>\n",
       "      <td>1</td>\n",
       "      <td>3</td>\n",
       "      <td>0.006</td>\n",
       "    </tr>\n",
       "    <tr>\n",
       "      <th>4</th>\n",
       "      <td>2</td>\n",
       "      <td>2</td>\n",
       "      <td>0.229</td>\n",
       "    </tr>\n",
       "    <tr>\n",
       "      <th>5</th>\n",
       "      <td>2</td>\n",
       "      <td>3</td>\n",
       "      <td>0.043</td>\n",
       "    </tr>\n",
       "    <tr>\n",
       "      <th>6</th>\n",
       "      <td>3</td>\n",
       "      <td>2</td>\n",
       "      <td>0.201</td>\n",
       "    </tr>\n",
       "    <tr>\n",
       "      <th>7</th>\n",
       "      <td>3</td>\n",
       "      <td>3</td>\n",
       "      <td>0.182</td>\n",
       "    </tr>\n",
       "  </tbody>\n",
       "</table>\n",
       "</div>"
      ],
      "text/plain": [
       "   x  y      p\n",
       "0  0  2  0.241\n",
       "1  0  3  0.009\n",
       "2  1  2  0.089\n",
       "3  1  3  0.006\n",
       "4  2  2  0.229\n",
       "5  2  3  0.043\n",
       "6  3  2  0.201\n",
       "7  3  3  0.182"
      ]
     },
     "execution_count": 55,
     "metadata": {},
     "output_type": "execute_result"
    }
   ],
   "source": [
    "# Compute the covariance between X and Y\n",
    "\n",
    "pxy"
   ]
  },
  {
   "cell_type": "code",
   "execution_count": null,
   "id": "cf598712",
   "metadata": {},
   "outputs": [
    {
     "data": {
      "application/vnd.microsoft.datawrangler.viewer.v0+json": {
       "columns": [
        {
         "name": "index",
         "rawType": "int64",
         "type": "integer"
        },
        {
         "name": "x",
         "rawType": "int64",
         "type": "integer"
        },
        {
         "name": "y",
         "rawType": "int64",
         "type": "integer"
        },
        {
         "name": "p",
         "rawType": "float64",
         "type": "float"
        },
        {
         "name": "E_x",
         "rawType": "float64",
         "type": "float"
        },
        {
         "name": "E_y",
         "rawType": "float64",
         "type": "float"
        },
        {
         "name": "cov_xy",
         "rawType": "float64",
         "type": "float"
        }
       ],
       "ref": "5822f5a5-8e88-4eae-8e67-3e4e7660f726",
       "rows": [
        [
         "0",
         "0",
         "2",
         "0.241",
         "1.788",
         "2.24",
         "0.1034179200000001"
        ],
        [
         "1",
         "0",
         "3",
         "0.009",
         "1.788",
         "2.24",
         "-0.012229919999999997"
        ],
        [
         "2",
         "1",
         "2",
         "0.089",
         "1.788",
         "2.24",
         "0.016831680000000016"
        ],
        [
         "3",
         "1",
         "3",
         "0.006",
         "1.788",
         "2.24",
         "-0.003593279999999999"
        ],
        [
         "4",
         "2",
         "2",
         "0.229",
         "1.788",
         "2.24",
         "-0.011651520000000009"
        ],
        [
         "5",
         "2",
         "3",
         "0.043",
         "1.788",
         "2.24",
         "0.006928159999999997"
        ],
        [
         "6",
         "3",
         "2",
         "0.201",
         "1.788",
         "2.24",
         "-0.058466880000000054"
        ],
        [
         "7",
         "3",
         "3",
         "0.182",
         "1.788",
         "2.24",
         "0.16764383999999993"
        ]
       ],
       "shape": {
        "columns": 6,
        "rows": 8
       }
      },
      "text/html": [
       "<div>\n",
       "<style scoped>\n",
       "    .dataframe tbody tr th:only-of-type {\n",
       "        vertical-align: middle;\n",
       "    }\n",
       "\n",
       "    .dataframe tbody tr th {\n",
       "        vertical-align: top;\n",
       "    }\n",
       "\n",
       "    .dataframe thead th {\n",
       "        text-align: right;\n",
       "    }\n",
       "</style>\n",
       "<table border=\"1\" class=\"dataframe\">\n",
       "  <thead>\n",
       "    <tr style=\"text-align: right;\">\n",
       "      <th></th>\n",
       "      <th>x</th>\n",
       "      <th>y</th>\n",
       "      <th>p</th>\n",
       "      <th>E_x</th>\n",
       "      <th>E_y</th>\n",
       "      <th>cov_xy</th>\n",
       "    </tr>\n",
       "  </thead>\n",
       "  <tbody>\n",
       "    <tr>\n",
       "      <th>0</th>\n",
       "      <td>0</td>\n",
       "      <td>2</td>\n",
       "      <td>0.241</td>\n",
       "      <td>1.788</td>\n",
       "      <td>2.24</td>\n",
       "      <td>0.103418</td>\n",
       "    </tr>\n",
       "    <tr>\n",
       "      <th>1</th>\n",
       "      <td>0</td>\n",
       "      <td>3</td>\n",
       "      <td>0.009</td>\n",
       "      <td>1.788</td>\n",
       "      <td>2.24</td>\n",
       "      <td>-0.012230</td>\n",
       "    </tr>\n",
       "    <tr>\n",
       "      <th>2</th>\n",
       "      <td>1</td>\n",
       "      <td>2</td>\n",
       "      <td>0.089</td>\n",
       "      <td>1.788</td>\n",
       "      <td>2.24</td>\n",
       "      <td>0.016832</td>\n",
       "    </tr>\n",
       "    <tr>\n",
       "      <th>3</th>\n",
       "      <td>1</td>\n",
       "      <td>3</td>\n",
       "      <td>0.006</td>\n",
       "      <td>1.788</td>\n",
       "      <td>2.24</td>\n",
       "      <td>-0.003593</td>\n",
       "    </tr>\n",
       "    <tr>\n",
       "      <th>4</th>\n",
       "      <td>2</td>\n",
       "      <td>2</td>\n",
       "      <td>0.229</td>\n",
       "      <td>1.788</td>\n",
       "      <td>2.24</td>\n",
       "      <td>-0.011652</td>\n",
       "    </tr>\n",
       "    <tr>\n",
       "      <th>5</th>\n",
       "      <td>2</td>\n",
       "      <td>3</td>\n",
       "      <td>0.043</td>\n",
       "      <td>1.788</td>\n",
       "      <td>2.24</td>\n",
       "      <td>0.006928</td>\n",
       "    </tr>\n",
       "    <tr>\n",
       "      <th>6</th>\n",
       "      <td>3</td>\n",
       "      <td>2</td>\n",
       "      <td>0.201</td>\n",
       "      <td>1.788</td>\n",
       "      <td>2.24</td>\n",
       "      <td>-0.058467</td>\n",
       "    </tr>\n",
       "    <tr>\n",
       "      <th>7</th>\n",
       "      <td>3</td>\n",
       "      <td>3</td>\n",
       "      <td>0.182</td>\n",
       "      <td>1.788</td>\n",
       "      <td>2.24</td>\n",
       "      <td>0.167644</td>\n",
       "    </tr>\n",
       "  </tbody>\n",
       "</table>\n",
       "</div>"
      ],
      "text/plain": [
       "   x  y      p    E_x   E_y    cov_xy\n",
       "0  0  2  0.241  1.788  2.24  0.103418\n",
       "1  0  3  0.009  1.788  2.24 -0.012230\n",
       "2  1  2  0.089  1.788  2.24  0.016832\n",
       "3  1  3  0.006  1.788  2.24 -0.003593\n",
       "4  2  2  0.229  1.788  2.24 -0.011652\n",
       "5  2  3  0.043  1.788  2.24  0.006928\n",
       "6  3  2  0.201  1.788  2.24 -0.058467\n",
       "7  3  3  0.182  1.788  2.24  0.167644"
      ]
     },
     "execution_count": 72,
     "metadata": {},
     "output_type": "execute_result"
    }
   ],
   "source": [
    "# Compute the covariance between X and Y for the distribution pxy\n"
   ]
  },
  {
   "cell_type": "markdown",
   "id": "46b9e394",
   "metadata": {},
   "source": [
    "## Useful Relations\n",
    "\n",
    "The expected value of constant is the constant itself:\n",
    "\n",
    "$$\n",
    "E(c) = c\n",
    "$$\n",
    "\n",
    "The expected value of a constant times a random variable is:\n",
    "\n",
    "$$\n",
    "E(cX) = cE(X)\n",
    "$$\n",
    "\n",
    "The expected value of the sum of the random variables is the sum of their expected values:\n",
    "\n",
    "$$\n",
    "E(X + Y) = E(X) + E(Y)\n",
    "$$\n",
    "\n",
    "The variance of a random variable plus a constant $c$ is:\n",
    "\n",
    "$$\n",
    "Var(X + c) = Var(X)\n",
    "$$ \n",
    "\n",
    "The variance of a constant times a random variable is:\n",
    "\n",
    "$$\n",
    "Var(cX) = c^2 Var(X)\n",
    "$$\n",
    "\n",
    "The variance of a sum of two random variables is:\n",
    "\n",
    "$$\n",
    "Var(X + Y) = Var(X) + Var(Y) + 2Cov(X, Y)\n",
    "$$\n",
    "\n",
    "In the case when $X$ and $Y$ are uncorrelated (i.e., $Cov(X, Y) = 0$), the variance of the sum simplifies to:\n",
    "\n",
    "$$\n",
    "Var(X + Y) = Var(X) + Var(Y)\n",
    "$$\n",
    "\n",
    "From the definition of covariance it follow that if at least one of the variables has a zero expected value, \n",
    "then the covariance reduces to the expected value of the product of the two variables:\n",
    "\n",
    "$$\n",
    "Cov(X, Y) = E[XY]\n",
    "$$"
   ]
  },
  {
   "cell_type": "markdown",
   "id": "936a6126",
   "metadata": {},
   "source": [
    "### The purely random process\n",
    "\n",
    "$$\n",
    "\\begin{align*}\n",
    "E(e_t) & = 0 \\\\\n",
    "Var(e_t) & = \\sigma^2 \\\\\n",
    "Cov(e_t, e_s) & = 0, \\quad t \\neq s \\\\\n",
    "\\end{align*}\n",
    "$$"
   ]
  },
  {
   "cell_type": "code",
   "execution_count": 12,
   "id": "b56d1452",
   "metadata": {},
   "outputs": [
    {
     "data": {
      "text/plain": [
       "<matplotlib.lines.Line2D at 0x1554fc84550>"
      ]
     },
     "execution_count": 12,
     "metadata": {},
     "output_type": "execute_result"
    },
    {
     "data": {
      "image/png": "[encoded data removed]",
      "text/plain": [
       "<Figure size 640x480 with 1 Axes>"
      ]
     },
     "metadata": {},
     "output_type": "display_data"
    }
   ],
   "source": [
    "# Simulate a purely random process\n",
    "\n",
    "e_t = np.random.normal(loc=0, scale=2, size=100)\n",
    "\n",
    "plt.plot(e_t)\n",
    "plt.axhline(y=0, color='red', linestyle='dashed', linewidth=1)"
   ]
  },
  {
   "cell_type": "markdown",
   "id": "ba4191f1",
   "metadata": {},
   "source": [
    "Using the properties above, derive the following results for a moving average process of order 1, MA(1):\n",
    "\n",
    "$$\n",
    "x_t = e_t + \\theta e_{t-1}\n",
    "$$\n",
    "\n",
    "and for the MA(2) process:\n",
    "\n",
    "$$\n",
    "x_t = e_t + \\theta_1 e_{t-1} + \\theta_2 e_{t-2}\n",
    "$$\n",
    "\n",
    "where $e_t$ is a process of i.i.d. random variables with zero mean and variance $\\sigma^2$.\n",
    "\n",
    "$$\n",
    "\\begin{align*}\n",
    "E(e_t) & = 0 \\\\\n",
    "Var(e_t) & = \\sigma^2 \\\\\n",
    "\\end{align*}\n",
    "$$"
   ]
  }
 ],
 "metadata": {
  "kernelspec": {
   "display_name": "ts2025",
   "language": "python",
   "name": "python3"
  },
  "language_info": {
   "codemirror_mode": {
    "name": "ipython",
    "version": 3
   },
   "file_extension": ".py",
   "mimetype": "text/x-python",
   "name": "python",
   "nbconvert_exporter": "python",
   "pygments_lexer": "ipython3",
   "version": "3.13.7"
  }
 },
 "nbformat": 4,
 "nbformat_minor": 5
}
