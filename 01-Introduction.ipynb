{
  "cells": [
    {
      "cell_type": "markdown",
      "metadata": {
        "colab_type": "text",
        "id": "view-in-github"
      },
      "source": [
        "<a href=\"https://colab.research.google.com/github/febse/ts2025/blob/main/01-Introduction.ipynb\" target=\"_parent\"><img src=\"https://colab.research.google.com/assets/colab-badge.svg\" alt=\"Open In Colab\"/></a>"
      ]
    },
    {
      "cell_type": "markdown",
      "metadata": {
        "id": "YxcbcOSTDjix"
      },
      "source": [
        "# Introduction {#introduction}\n"
      ]
    },
    {
      "cell_type": "code",
      "execution_count": null,
      "metadata": {
        "colab": {
          "base_uri": "https://localhost:8080/"
        },
        "id": "kN3jOUjzDjiz",
        "outputId": "074cd6c1-9171-4195-f5f1-3b1570f0d8d3",
        "vscode": {
          "languageId": "r"
        }
      },
      "outputs": [
        {
          "name": "stderr",
          "output_type": "stream",
          "text": [
            "Loading required package: forecast\n",
            "\n",
            "Warning message in library(package, lib.loc = lib.loc, character.only = TRUE, logical.return = TRUE, :\n",
            "“there is no package called ‘forecast’”\n",
            "Installing package into ‘/usr/local/lib/R/site-library’\n",
            "(as ‘lib’ is unspecified)\n",
            "\n"
          ]
        }
      ],
      "source": [
        "# Install time series packages step by step\n",
        "required_packages <- c(\n",
        "  \"tidyverse\",\n",
        "  \"xts\",\n",
        "  \"quantmod\",\n",
        "  \"lubridate\",\n",
        "  \"eurostat\",\n",
        "  \"forecast\"\n",
        ")\n",
        "\n",
        "for (pkg in required_packages) {\n",
        "  if (!require(pkg, character.only = TRUE)) {\n",
        "    install.packages(pkg)\n",
        "  }\n",
        "}\n",
        "\n",
        "library(xts)\n",
        "library(quantmod)\n",
        "library(lubridate)\n",
        "library(eurostat)\n",
        "library(forecast)\n"
      ]
    },
    {
      "cell_type": "markdown",
      "metadata": {
        "id": "92dzbKTwDji0"
      },
      "source": [
        "\n",
        "## Time Series Definition\n",
        "\n",
        "A *time series* is a sequence of values ordered by time. This course will focus on series that take values in $\\mathbb{R}$. Let\n",
        "$x_1, x_2, \\ldots, x_T$ be a sequence of values ordered by a time index\n",
        "$t = 1,\\ldots,T$. The value of the series is determined by:\n",
        "\n",
        "$$\n",
        "\\begin{align}\n",
        "x_t & = (1 + 0.02)x_{t - 1},\\quad x_0 = 10 \\implies \\\\\n",
        "x_t & = 10 \\times(1 + 0.02)^{t} \\\\\n",
        "\\end{align}\n",
        "$$ {#eq-geom-series}\n",
        "\n",
        "Lets compute and plot the values of this sequence for $t = 1,\\ldots,20$.\n",
        "\n",
        ":::{.callout-note}\n",
        "## Regular and Irregular Time Series\n",
        "\n",
        "In this course we will deal with observations\n",
        "recorded at fixed time intervals (e.g. hourly, daily, weekly, monthly, annually, etc.).\n",
        "For example, _every day_ you measure your morning travel duration from home to the university.\n",
        "\n",
        "Consider your daily step count. Let's say you copy\n",
        "the number of steps at the end of the day from your\n",
        "health app into a spreadsheet. Sometimes do it on Monday\n",
        "evening, sometime on a Wednesday, sometimes you might miss a\n",
        "couple of weeks and record it again. This would be\n",
        "an example of an _irregular_ time series (of your daily step counts).\n",
        "\n",
        ":::"
      ]
    },
    {
      "cell_type": "markdown",
      "metadata": {
        "id": "mSSKD5eDDji0"
      },
      "source": [
        "## A Deterministic Time Series\n"
      ]
    },
    {
      "cell_type": "markdown",
      "metadata": {
        "id": "QWjXI_h4Dji1"
      },
      "source": [
        "Let's start with a very simple *deterministic* series giving the amount of money in a bank account that earns 2\\% interest per time period (e.g. month or year) with an initial amount ($x_0$) of 10 USD at the start ($t=0$).\n",
        "\n",
        "$$\n",
        "\\begin{align}\n",
        "x_t & = (1 + 0.02)x_{t - 1},\\quad x_0 = 10\n",
        "\\end{align}\n",
        "$$\n",
        "\n",
        "$$\n",
        "\\begin{align}\n",
        "x_t & = (1 + 0.02)^{t} x_{0}, \\quad x_0 = 10\n",
        "\\end{align}\n",
        "$$\n",
        "\n",
        "$$\n",
        "\\begin{align}\n",
        "x_{0} & = 10 \\\\\n",
        "x_{7} & = 1.02^{7}\\times 10 \\approx 11.487\n",
        "\\end{align}\n",
        "$$"
      ]
    },
    {
      "cell_type": "code",
      "execution_count": null,
      "metadata": {
        "id": "pNNTWXmLDji1",
        "vscode": {
          "languageId": "r"
        }
      },
      "outputs": [],
      "source": [
        "# Example: Creating a geometric series as mentioned in the notebook\n",
        "# x_t = 10 * (1 + 0.02)^t\n",
        "\n",
        "# Create time series data\n",
        "\n",
        "dt_geom <- tibble(\n",
        "  t = 1:100,\n",
        "  x_t = 10 * (1 + 0.02)^t\n",
        ")\n",
        "\n",
        "# Display the first few values\n",
        "head(geom_dt)\n"
      ]
    },
    {
      "cell_type": "code",
      "execution_count": null,
      "metadata": {
        "id": "UBKw2-kRDji1",
        "outputId": "90603bf2-0aa6-4a56-f67c-49ebbd32423b",
        "vscode": {
          "languageId": "r"
        }
      },
      "outputs": [
        {
          "data": {
            "image/png": "[encoded data removed]",
            "text/plain": [
              "plot without title"
            ]
          },
          "metadata": {
            "image/png": {
              "height": 420,
              "width": 420
            }
          },
          "output_type": "display_data"
        }
      ],
      "source": [
        "dt_geom %>%\n",
        "    ggplot(aes(x = t, y = x_t)) +\n",
        "    geom_point() +\n",
        "    geom_line() +\n",
        "    labs(\n",
        "      title = \"Geometric Series: x_t = 10 * (1.02)^t\",\n",
        "      x = \"Time (t)\",\n",
        "      y = expression(x[t])\n",
        "    )"
      ]
    },
    {
      "cell_type": "markdown",
      "metadata": {
        "id": "CIG8g-BRDji1"
      },
      "source": [
        "## Date and Time objects in R\n",
        "\n",
        "Internally, dates are stored as the number of days since a (arbitrary) reference (origin). The default origin in R is the first of January 1970.\n",
        "\n",
        "\n",
        ":::{.callout-important }\n",
        "## Default Date Format\n",
        "\n",
        "When using string literals to create date objects, R expects the format \"YYYY-MM-DD\" (i.e. four digits for the year, two digits for the month and two digits for the day).\n",
        "It is easiest to remember this format and use it consistently. If you supply a different format, you will need to specify it explicitly using the `format` argument of the `as.Date` function.\n",
        "\n",
        ":::"
      ]
    },
    {
      "cell_type": "code",
      "execution_count": null,
      "metadata": {
        "id": "n1y4ORIzDji1",
        "outputId": "1a857205-93d2-4ca8-c353-1d063457947a",
        "vscode": {
          "languageId": "r"
        }
      },
      "outputs": [
        {
          "data": {
            "text/html": [
              "<time datetime=\"1970-01-01\">1970-01-01</time>"
            ],
            "text/latex": [
              "1970-01-01"
            ],
            "text/markdown": [
              "1970-01-01"
            ],
            "text/plain": [
              "[1] \"1970-01-01\""
            ]
          },
          "metadata": {},
          "output_type": "display_data"
        },
        {
          "data": {
            "text/html": [
              "<time datetime=\"1970-01-02\">1970-01-02</time>"
            ],
            "text/latex": [
              "1970-01-02"
            ],
            "text/markdown": [
              "1970-01-02"
            ],
            "text/plain": [
              "[1] \"1970-01-02\""
            ]
          },
          "metadata": {},
          "output_type": "display_data"
        },
        {
          "data": {
            "text/html": [
              "0"
            ],
            "text/latex": [
              "0"
            ],
            "text/markdown": [
              "0"
            ],
            "text/plain": [
              "[1] 0"
            ]
          },
          "metadata": {},
          "output_type": "display_data"
        },
        {
          "data": {
            "text/html": [
              "1"
            ],
            "text/latex": [
              "1"
            ],
            "text/markdown": [
              "1"
            ],
            "text/plain": [
              "[1] 1"
            ]
          },
          "metadata": {},
          "output_type": "display_data"
        },
        {
          "data": {
            "text/html": [
              "<time datetime=\"1970-01-06\">1970-01-06</time>"
            ],
            "text/latex": [
              "1970-01-06"
            ],
            "text/markdown": [
              "1970-01-06"
            ],
            "text/plain": [
              "[1] \"1970-01-06\""
            ]
          },
          "metadata": {},
          "output_type": "display_data"
        },
        {
          "data": {
            "text/html": [
              "<style>\n",
              ".list-inline {list-style: none; margin:0; padding: 0}\n",
              ".list-inline>li {display: inline-block}\n",
              ".list-inline>li:not(:last-child)::after {content: \"\\00b7\"; padding: 0 .5ex}\n",
              "</style>\n",
              "<ol class=list-inline><li><time datetime=\"1970-01-06\">1970-01-06</time></li><li><time datetime=\"1970-01-07\">1970-01-07</time></li><li><time datetime=\"1970-01-08\">1970-01-08</time></li><li><time datetime=\"1970-01-09\">1970-01-09</time></li><li><time datetime=\"1970-01-10\">1970-01-10</time></li><li><time datetime=\"1970-01-11\">1970-01-11</time></li></ol>\n"
            ],
            "text/latex": [
              "\\begin{enumerate*}\n",
              "\\item 1970-01-06\n",
              "\\item 1970-01-07\n",
              "\\item 1970-01-08\n",
              "\\item 1970-01-09\n",
              "\\item 1970-01-10\n",
              "\\item 1970-01-11\n",
              "\\end{enumerate*}\n"
            ],
            "text/markdown": [
              "1. 1970-01-06\n",
              "2. 1970-01-07\n",
              "3. 1970-01-08\n",
              "4. 1970-01-09\n",
              "5. 1970-01-10\n",
              "6. 1970-01-11\n",
              "\n",
              "\n"
            ],
            "text/plain": [
              "[1] \"1970-01-06\" \"1970-01-07\" \"1970-01-08\" \"1970-01-09\" \"1970-01-10\"\n",
              "[6] \"1970-01-11\""
            ]
          },
          "metadata": {},
          "output_type": "display_data"
        }
      ],
      "source": [
        "# Working with Date objects\n",
        "origin <- as.Date(\"1970-01-01\")\n",
        "jan02.1970 <- as.Date(\"1970-01-02\")\n",
        "\n",
        "origin\n",
        "jan02.1970\n",
        "\n",
        "as.numeric(origin)\n",
        "as.numeric(jan02.1970)\n",
        "\n",
        "origin + 5\n",
        "origin + 5:10"
      ]
    },
    {
      "cell_type": "markdown",
      "metadata": {
        "id": "zY4WO7TwDji3"
      },
      "source": [
        "Time is stored as the number of seconds (and fractions of a second)\n",
        "since the origin: 1970-01-01 00:00:00\n",
        "[UTC](https://en.wikipedia.org/wiki/Coordinated_Universal_Time). POSIX\n",
        "stands for [Portable Operating System\n",
        "Interface](https://en.wikipedia.org/wiki/POSIX)."
      ]
    },
    {
      "cell_type": "markdown",
      "metadata": {
        "id": "JQKknt5-Dji3"
      },
      "source": [
        "The package `lubridate` provides utility functions for working with date\n",
        "and time objects. You can look at this online guide\n",
        "[here](https://lubridate.tidyverse.org/)."
      ]
    },
    {
      "cell_type": "code",
      "execution_count": null,
      "metadata": {
        "id": "aBmgaNcRDji3",
        "outputId": "fb7f19a0-bfed-45d7-fb5c-e00e6da113af",
        "vscode": {
          "languageId": "r"
        }
      },
      "outputs": [
        {
          "data": {
            "text/html": [
              "0"
            ],
            "text/latex": [
              "0"
            ],
            "text/markdown": [
              "0"
            ],
            "text/plain": [
              "[1] 0"
            ]
          },
          "metadata": {},
          "output_type": "display_data"
        }
      ],
      "source": [
        "origin1 <- as.Date(\"01-01-1970\", format = \"%d-%m-%Y\")\n",
        "as.numeric(origin1)"
      ]
    },
    {
      "cell_type": "code",
      "execution_count": null,
      "metadata": {
        "id": "iJAdvY7rDji3",
        "outputId": "8ea4e3f2-be3e-48d6-dcd0-bf8d00a21f61",
        "vscode": {
          "languageId": "r"
        }
      },
      "outputs": [
        {
          "name": "stdout",
          "output_type": "stream",
          "text": [
            "[1] \"The year is:\"\n"
          ]
        },
        {
          "data": {
            "text/html": [
              "2025"
            ],
            "text/latex": [
              "2025"
            ],
            "text/markdown": [
              "2025"
            ],
            "text/plain": [
              "[1] 2025"
            ]
          },
          "metadata": {},
          "output_type": "display_data"
        },
        {
          "name": "stdout",
          "output_type": "stream",
          "text": [
            "[1] \"Today is:\"\n"
          ]
        },
        {
          "data": {
            "text/html": [
              "<time datetime=\"2025-09-28\">2025-09-28</time>"
            ],
            "text/latex": [
              "2025-09-28"
            ],
            "text/markdown": [
              "2025-09-28"
            ],
            "text/plain": [
              "[1] \"2025-09-28\""
            ]
          },
          "metadata": {},
          "output_type": "display_data"
        },
        {
          "name": "stdout",
          "output_type": "stream",
          "text": [
            "[1] \"The day of the month is:\"\n"
          ]
        },
        {
          "data": {
            "text/html": [
              "28"
            ],
            "text/latex": [
              "28"
            ],
            "text/markdown": [
              "28"
            ],
            "text/plain": [
              "[1] 28"
            ]
          },
          "metadata": {},
          "output_type": "display_data"
        },
        {
          "name": "stdout",
          "output_type": "stream",
          "text": [
            "[1] \"The day of the week (number) is:\"\n"
          ]
        },
        {
          "data": {
            "text/html": [
              "1"
            ],
            "text/latex": [
              "1"
            ],
            "text/markdown": [
              "1"
            ],
            "text/plain": [
              "[1] 1"
            ]
          },
          "metadata": {},
          "output_type": "display_data"
        },
        {
          "name": "stdout",
          "output_type": "stream",
          "text": [
            "[1] \"The day of the week (number, week starts on Monday) is:\"\n"
          ]
        },
        {
          "data": {
            "text/html": [
              "7"
            ],
            "text/latex": [
              "7"
            ],
            "text/markdown": [
              "7"
            ],
            "text/plain": [
              "[1] 7"
            ]
          },
          "metadata": {},
          "output_type": "display_data"
        },
        {
          "name": "stdout",
          "output_type": "stream",
          "text": [
            "[1] \"The day of the week (factor) is:\"\n"
          ]
        },
        {
          "data": {
            "text/html": [
              "Sun\n",
              "<details>\n",
              "\t<summary style=display:list-item;cursor:pointer>\n",
              "\t\t<strong>Levels</strong>:\n",
              "\t</summary>\n",
              "\t<style>\n",
              "\t.list-inline {list-style: none; margin:0; padding: 0}\n",
              "\t.list-inline>li {display: inline-block}\n",
              "\t.list-inline>li:not(:last-child)::after {content: \"\\00b7\"; padding: 0 .5ex}\n",
              "\t</style>\n",
              "\t<ol class=list-inline><li>'Sun'</li><li>'Mon'</li><li>'Tue'</li><li>'Wed'</li><li>'Thu'</li><li>'Fri'</li><li>'Sat'</li></ol>\n",
              "</details>"
            ],
            "text/latex": [
              "Sun\n",
              "\\emph{Levels}: \\begin{enumerate*}\n",
              "\\item 'Sun'\n",
              "\\item 'Mon'\n",
              "\\item 'Tue'\n",
              "\\item 'Wed'\n",
              "\\item 'Thu'\n",
              "\\item 'Fri'\n",
              "\\item 'Sat'\n",
              "\\end{enumerate*}\n"
            ],
            "text/markdown": [
              "Sun\n",
              "**Levels**: 1. 'Sun'\n",
              "2. 'Mon'\n",
              "3. 'Tue'\n",
              "4. 'Wed'\n",
              "5. 'Thu'\n",
              "6. 'Fri'\n",
              "7. 'Sat'\n",
              "\n",
              "\n"
            ],
            "text/plain": [
              "[1] Sun\n",
              "Levels: Sun < Mon < Tue < Wed < Thu < Fri < Sat"
            ]
          },
          "metadata": {},
          "output_type": "display_data"
        },
        {
          "name": "stdout",
          "output_type": "stream",
          "text": [
            "[1] \"The day of the year is:\"\n"
          ]
        },
        {
          "data": {
            "text/html": [
              "271"
            ],
            "text/latex": [
              "271"
            ],
            "text/markdown": [
              "271"
            ],
            "text/plain": [
              "[1] 271"
            ]
          },
          "metadata": {},
          "output_type": "display_data"
        },
        {
          "name": "stdout",
          "output_type": "stream",
          "text": [
            "[1] \"The week of the year is:\"\n"
          ]
        },
        {
          "data": {
            "text/html": [
              "39"
            ],
            "text/latex": [
              "39"
            ],
            "text/markdown": [
              "39"
            ],
            "text/plain": [
              "[1] 39"
            ]
          },
          "metadata": {},
          "output_type": "display_data"
        },
        {
          "name": "stdout",
          "output_type": "stream",
          "text": [
            "[1] \"The month (number) is:\"\n"
          ]
        },
        {
          "data": {
            "text/html": [
              "9"
            ],
            "text/latex": [
              "9"
            ],
            "text/markdown": [
              "9"
            ],
            "text/plain": [
              "[1] 9"
            ]
          },
          "metadata": {},
          "output_type": "display_data"
        },
        {
          "name": "stdout",
          "output_type": "stream",
          "text": [
            "[1] \"The month (factor) is:\"\n"
          ]
        },
        {
          "data": {
            "text/html": [
              "3"
            ],
            "text/latex": [
              "3"
            ],
            "text/markdown": [
              "3"
            ],
            "text/plain": [
              "[1] 3"
            ]
          },
          "metadata": {},
          "output_type": "display_data"
        }
      ],
      "source": [
        "# Working with lubridate\n",
        "# Sys.time returns the current date\n",
        "today <- Sys.Date()\n",
        "\n",
        "# The year\n",
        "print(\"The year is:\")\n",
        "year(today)\n",
        "\n",
        "# Print the value of today\n",
        "print(\"Today is:\")\n",
        "today\n",
        "\n",
        "# Day of the month\n",
        "print(\"The day of the month is:\")\n",
        "day(today)\n",
        "\n",
        "# Day of the week (depends on the start of week assumption and is locale dependent!)\n",
        "print(\"The day of the week (number) is:\")\n",
        "\n",
        "wday(today)\n",
        "\n",
        "print(\"The day of the week (number, week starts on Monday) is:\")\n",
        "\n",
        "wday(today, week_start = 1)\n",
        "\n",
        "# Day of the week as string (also locale dependent)\n",
        "print(\"The day of the week (factor) is:\")\n",
        "wday(today, label = TRUE)\n",
        "\n",
        "# Day of the year\n",
        "print(\"The day of the year is:\")\n",
        "yday(today)\n",
        "\n",
        "# Week of the year\n",
        "print(\"The week of the year is:\")\n",
        "week(today)\n",
        "\n",
        "# Month of the year\n",
        "print(\"The month (number) is:\")\n",
        "month(today)\n",
        "\n",
        "print(\"The month (factor) is:\")\n",
        "# Quarter of the year\n",
        "quarter(today)"
      ]
    },
    {
      "cell_type": "markdown",
      "metadata": {
        "id": "RRINhfLxDji3"
      },
      "source": [
        "### Exercise: Date Objects in R\n",
        "\n",
        "1. What day of the week was the 10-th of June 2019?\n",
        "2. Create a sequence of 34 consecutive dates starting on the 2-nd of January 2017. What was the year quarter of the last date of this sequence?"
      ]
    },
    {
      "cell_type": "code",
      "execution_count": null,
      "metadata": {
        "id": "1WSWt_ThDji3",
        "vscode": {
          "languageId": "r"
        }
      },
      "outputs": [],
      "source": [
        "# Exercise solution space\n",
        "# Type your code here\n"
      ]
    },
    {
      "cell_type": "markdown",
      "metadata": {
        "id": "iiKwQE69Dji3"
      },
      "source": [
        "## Time Series Classes\n",
        "\n",
        "There is nothing intrinsically special about time series data. They are just data that are indexed by time. However, there are several classes in R that\n",
        "can make your life a lot easier when working with time series data by providing specialized functionality.\n",
        "\n",
        "There are several classes that are used for storing time series in\n",
        "R. We will mainly focus on `tsibble`, but some functions we will encounter later in the course return or require `ts` or `xts` objects.\n",
        "\n",
        "- `ts`\n",
        "- `xts` (see the [xts vignette](https://cran.r-project.org/web/packages/xts/vignettes/xts.pdf))\n",
        "- `tsibble` (see the [introduction to tsibble](https://cran.rstudio.com/web/packages/tsibble/vignettes/intro-tsibble.html))\n",
        "\n",
        "### The `ts` class\n",
        "\n",
        "The `ts` class is part of base R and is the oldest time series class in R. Many functions in R expect or return `ts` objects.\n",
        "To create a `ts` object, you can use the `ts()` function which expects a numeric vector (numbers) and some additional arguments.\n",
        "\n",
        "- `start` - the time of the first observation. This can be a single number or a vector of two numbers (e.g. for monthly data you can specify the year and the month of the first observation).\n",
        "- `end` - the time of the last observation.\n",
        "- `frequency` - the number of observations per unit of time. For example, for monthly data this would be 12, for quarterly data 4, for annual data 1, etc.\n",
        "\n",
        "You can find more information about the `ts` class in the [R documentation](https://stat.ethz.ch/R-manual/R-devel/library/stats/html/ts.html) or by calling `?ts` in R.\n"
      ]
    },
    {
      "cell_type": "code",
      "execution_count": null,
      "metadata": {
        "id": "KIwBMMtwDji3",
        "outputId": "a3b83fed-1a0b-4480-beb4-ecd15ccf423d",
        "vscode": {
          "languageId": "r"
        }
      },
      "outputs": [
        {
          "data": {
            "text/html": [
              "2025"
            ],
            "text/latex": [
              "2025"
            ],
            "text/markdown": [
              "2025"
            ],
            "text/plain": [
              "[1] 2025"
            ]
          },
          "metadata": {},
          "output_type": "display_data"
        }
      ],
      "source": [
        "year(today)"
      ]
    },
    {
      "cell_type": "code",
      "execution_count": null,
      "metadata": {
        "id": "c0QqcqcXDji3",
        "outputId": "e3054d30-9805-4659-ae87-67126f568a48",
        "vscode": {
          "languageId": "r"
        }
      },
      "outputs": [
        {
          "data": {
            "text/html": [
              "<table class=\"dataframe\">\n",
              "<caption>A Time Series: 9 × 12</caption>\n",
              "<thead>\n",
              "\t<tr><th></th><th scope=col>Jan</th><th scope=col>Feb</th><th scope=col>Mar</th><th scope=col>Apr</th><th scope=col>May</th><th scope=col>Jun</th><th scope=col>Jul</th><th scope=col>Aug</th><th scope=col>Sep</th><th scope=col>Oct</th><th scope=col>Nov</th><th scope=col>Dec</th></tr>\n",
              "</thead>\n",
              "<tbody>\n",
              "\t<tr><th scope=row>2025</th><td>        </td><td>        </td><td>        </td><td>        </td><td>        </td><td>        </td><td>        </td><td>        </td><td>10.20000</td><td>10.40400</td><td>10.61208</td><td>10.82432</td></tr>\n",
              "\t<tr><th scope=row>2026</th><td>11.04081</td><td>11.26162</td><td>11.48686</td><td>11.71659</td><td>11.95093</td><td>12.18994</td><td>12.43374</td><td>12.68242</td><td>12.93607</td><td>13.19479</td><td>13.45868</td><td>13.72786</td></tr>\n",
              "\t<tr><th scope=row>2027</th><td>14.00241</td><td>14.28246</td><td>14.56811</td><td>14.85947</td><td>15.15666</td><td>15.45980</td><td>15.76899</td><td>16.08437</td><td>16.40606</td><td>16.73418</td><td>17.06886</td><td>17.41024</td></tr>\n",
              "\t<tr><th scope=row>2028</th><td>17.75845</td><td>18.11362</td><td>18.47589</td><td>18.84541</td><td>19.22231</td><td>19.60676</td><td>19.99890</td><td>20.39887</td><td>20.80685</td><td>21.22299</td><td>21.64745</td><td>22.08040</td></tr>\n",
              "\t<tr><th scope=row>2029</th><td>22.52200</td><td>22.97244</td><td>23.43189</td><td>23.90053</td><td>24.37854</td><td>24.86611</td><td>25.36344</td><td>25.87070</td><td>26.38812</td><td>26.91588</td><td>27.45420</td><td>28.00328</td></tr>\n",
              "\t<tr><th scope=row>2030</th><td>28.56335</td><td>29.13461</td><td>29.71731</td><td>30.31165</td><td>30.91789</td><td>31.53624</td><td>32.16697</td><td>32.81031</td><td>33.46651</td><td>34.13584</td><td>34.81856</td><td>35.51493</td></tr>\n",
              "\t<tr><th scope=row>2031</th><td>36.22523</td><td>36.94974</td><td>37.68873</td><td>38.44251</td><td>39.21136</td><td>39.99558</td><td>40.79549</td><td>41.61140</td><td>42.44363</td><td>43.29250</td><td>44.15835</td><td>45.04152</td></tr>\n",
              "\t<tr><th scope=row>2032</th><td>45.94235</td><td>46.86120</td><td>47.79842</td><td>48.75439</td><td>49.72948</td><td>50.72407</td><td>51.73855</td><td>52.77332</td><td>53.82879</td><td>54.90536</td><td>56.00347</td><td>57.12354</td></tr>\n",
              "\t<tr><th scope=row>2033</th><td>58.26601</td><td>59.43133</td><td>60.61996</td><td>61.83236</td><td>63.06900</td><td>64.33038</td><td>65.61699</td><td>66.92933</td><td>68.26792</td><td>69.63328</td><td>71.02594</td><td>72.44646</td></tr>\n",
              "</tbody>\n",
              "</table>\n"
            ],
            "text/latex": [
              "A Time Series: 9 × 12\n",
              "\\begin{tabular}{r|llllllllllll}\n",
              "  & Jan & Feb & Mar & Apr & May & Jun & Jul & Aug & Sep & Oct & Nov & Dec\\\\\n",
              "\\hline\n",
              "\t2025 &          &          &          &          &          &          &          &          & 10.20000 & 10.40400 & 10.61208 & 10.82432\\\\\n",
              "\t2026 & 11.04081 & 11.26162 & 11.48686 & 11.71659 & 11.95093 & 12.18994 & 12.43374 & 12.68242 & 12.93607 & 13.19479 & 13.45868 & 13.72786\\\\\n",
              "\t2027 & 14.00241 & 14.28246 & 14.56811 & 14.85947 & 15.15666 & 15.45980 & 15.76899 & 16.08437 & 16.40606 & 16.73418 & 17.06886 & 17.41024\\\\\n",
              "\t2028 & 17.75845 & 18.11362 & 18.47589 & 18.84541 & 19.22231 & 19.60676 & 19.99890 & 20.39887 & 20.80685 & 21.22299 & 21.64745 & 22.08040\\\\\n",
              "\t2029 & 22.52200 & 22.97244 & 23.43189 & 23.90053 & 24.37854 & 24.86611 & 25.36344 & 25.87070 & 26.38812 & 26.91588 & 27.45420 & 28.00328\\\\\n",
              "\t2030 & 28.56335 & 29.13461 & 29.71731 & 30.31165 & 30.91789 & 31.53624 & 32.16697 & 32.81031 & 33.46651 & 34.13584 & 34.81856 & 35.51493\\\\\n",
              "\t2031 & 36.22523 & 36.94974 & 37.68873 & 38.44251 & 39.21136 & 39.99558 & 40.79549 & 41.61140 & 42.44363 & 43.29250 & 44.15835 & 45.04152\\\\\n",
              "\t2032 & 45.94235 & 46.86120 & 47.79842 & 48.75439 & 49.72948 & 50.72407 & 51.73855 & 52.77332 & 53.82879 & 54.90536 & 56.00347 & 57.12354\\\\\n",
              "\t2033 & 58.26601 & 59.43133 & 60.61996 & 61.83236 & 63.06900 & 64.33038 & 65.61699 & 66.92933 & 68.26792 & 69.63328 & 71.02594 & 72.44646\\\\\n",
              "\\end{tabular}\n"
            ],
            "text/markdown": [
              "\n",
              "A Time Series: 9 × 12\n",
              "\n",
              "| <!--/--> | Jan | Feb | Mar | Apr | May | Jun | Jul | Aug | Sep | Oct | Nov | Dec |\n",
              "|---|---|---|---|---|---|---|---|---|---|---|---|---|\n",
              "| 2025 | <!----> | <!----> | <!----> | <!----> | <!----> | <!----> | <!----> | <!----> | 10.20000 | 10.40400 | 10.61208 | 10.82432 |\n",
              "| 2026 | 11.04081 | 11.26162 | 11.48686 | 11.71659 | 11.95093 | 12.18994 | 12.43374 | 12.68242 | 12.93607 | 13.19479 | 13.45868 | 13.72786 |\n",
              "| 2027 | 14.00241 | 14.28246 | 14.56811 | 14.85947 | 15.15666 | 15.45980 | 15.76899 | 16.08437 | 16.40606 | 16.73418 | 17.06886 | 17.41024 |\n",
              "| 2028 | 17.75845 | 18.11362 | 18.47589 | 18.84541 | 19.22231 | 19.60676 | 19.99890 | 20.39887 | 20.80685 | 21.22299 | 21.64745 | 22.08040 |\n",
              "| 2029 | 22.52200 | 22.97244 | 23.43189 | 23.90053 | 24.37854 | 24.86611 | 25.36344 | 25.87070 | 26.38812 | 26.91588 | 27.45420 | 28.00328 |\n",
              "| 2030 | 28.56335 | 29.13461 | 29.71731 | 30.31165 | 30.91789 | 31.53624 | 32.16697 | 32.81031 | 33.46651 | 34.13584 | 34.81856 | 35.51493 |\n",
              "| 2031 | 36.22523 | 36.94974 | 37.68873 | 38.44251 | 39.21136 | 39.99558 | 40.79549 | 41.61140 | 42.44363 | 43.29250 | 44.15835 | 45.04152 |\n",
              "| 2032 | 45.94235 | 46.86120 | 47.79842 | 48.75439 | 49.72948 | 50.72407 | 51.73855 | 52.77332 | 53.82879 | 54.90536 | 56.00347 | 57.12354 |\n",
              "| 2033 | 58.26601 | 59.43133 | 60.61996 | 61.83236 | 63.06900 | 64.33038 | 65.61699 | 66.92933 | 68.26792 | 69.63328 | 71.02594 | 72.44646 |\n",
              "\n"
            ],
            "text/plain": [
              "     Jan      Feb      Mar      Apr      May      Jun      Jul      Aug     \n",
              "2025                                                                        \n",
              "2026 11.04081 11.26162 11.48686 11.71659 11.95093 12.18994 12.43374 12.68242\n",
              "2027 14.00241 14.28246 14.56811 14.85947 15.15666 15.45980 15.76899 16.08437\n",
              "2028 17.75845 18.11362 18.47589 18.84541 19.22231 19.60676 19.99890 20.39887\n",
              "2029 22.52200 22.97244 23.43189 23.90053 24.37854 24.86611 25.36344 25.87070\n",
              "2030 28.56335 29.13461 29.71731 30.31165 30.91789 31.53624 32.16697 32.81031\n",
              "2031 36.22523 36.94974 37.68873 38.44251 39.21136 39.99558 40.79549 41.61140\n",
              "2032 45.94235 46.86120 47.79842 48.75439 49.72948 50.72407 51.73855 52.77332\n",
              "2033 58.26601 59.43133 60.61996 61.83236 63.06900 64.33038 65.61699 66.92933\n",
              "     Sep      Oct      Nov      Dec     \n",
              "2025 10.20000 10.40400 10.61208 10.82432\n",
              "2026 12.93607 13.19479 13.45868 13.72786\n",
              "2027 16.40606 16.73418 17.06886 17.41024\n",
              "2028 20.80685 21.22299 21.64745 22.08040\n",
              "2029 26.38812 26.91588 27.45420 28.00328\n",
              "2030 33.46651 34.13584 34.81856 35.51493\n",
              "2031 42.44363 43.29250 44.15835 45.04152\n",
              "2032 53.82879 54.90536 56.00347 57.12354\n",
              "2033 68.26792 69.63328 71.02594 72.44646"
            ]
          },
          "metadata": {},
          "output_type": "display_data"
        }
      ],
      "source": [
        "# Exercise: extract the amount from the dt_geom tibble and create a ts object\n",
        "# With a start time of today and assume that the data is monthly\n",
        "# Use the `today` variable that we created earlier\n",
        "\n",
        "ts_geom <- ts(dt_geom$x_t, start = c(year(today), month(today)), frequency = 12)\n",
        "ts_geom"
      ]
    },
    {
      "cell_type": "code",
      "execution_count": null,
      "metadata": {
        "id": "2bdYnHTiDji3",
        "outputId": "ab688245-5dcc-41cc-874d-7943d67e30d2",
        "vscode": {
          "languageId": "r"
        }
      },
      "outputs": [
        {
          "data": {
            "text/html": [
              "<time datetime=\"2025-09-28\">2025-09-28</time>"
            ],
            "text/latex": [
              "2025-09-28"
            ],
            "text/markdown": [
              "2025-09-28"
            ],
            "text/plain": [
              "[1] \"2025-09-28\""
            ]
          },
          "metadata": {},
          "output_type": "display_data"
        }
      ],
      "source": [
        "# Exercise: create a ts object but set the start to today's date. What happens?\n"
      ]
    },
    {
      "cell_type": "markdown",
      "metadata": {
        "id": "hnxqaztYDji4"
      },
      "source": [
        "### The `xts` class\n",
        "\n",
        "The `xts` class provides a more flexible way to work with time series data, for example by providing\n",
        "an easy interface for subsetting time series data by date ranges, rolling window calculations, etc.\n",
        "\n",
        "Detailed information about the `xts` class can be found in the [xts vignette](https://cran.r-project.org/web/packages/xts/vignettes/xts.pdf).\n",
        "\n",
        "Different from `ts` objects, `xts` objects can have arbitrary time indices (e.g. daily data, hourly data, etc.) and do not require a fixed frequency.\n",
        "However, you need to provide a proper time index when creating an `xts` object (e.g. using `as.Date()`).\n",
        "Another difference is that `xts` objects can have multiple columns (e.g. for multivariate time series).\n"
      ]
    },
    {
      "cell_type": "code",
      "execution_count": null,
      "metadata": {
        "id": "Vz6SNH1TDji4",
        "outputId": "a84b09f9-a7a9-42c0-f397-19aa6633d6a1",
        "vscode": {
          "languageId": "r"
        }
      },
      "outputs": [
        {
          "data": {
            "text/plain": [
              "               [,1]\n",
              "2025-09-28 10.20000\n",
              "2025-10-28 10.40400\n",
              "2025-11-28 10.61208\n",
              "2025-12-28 10.82432\n",
              "2026-01-28 11.04081\n",
              "2026-02-28 11.26162"
            ]
          },
          "metadata": {},
          "output_type": "display_data"
        }
      ],
      "source": [
        "# Exercise: create an xts object for the geometric series data\n",
        "# You will need to create a vector of dates for the order.by argument\n",
        "# Take the `today` variable that we created earlier and create a sequence of dates\n",
        "# that is monthly and has the same length as the number of rows in dt_geom\n",
        "\n",
        "xts_geom <- xts(dt_geom$x_t, order.by = seq(from = today, by = \"month\", length.out = nrow(dt_geom)))\n",
        "xts_geom %>% head()"
      ]
    },
    {
      "cell_type": "code",
      "execution_count": null,
      "metadata": {
        "id": "s_C-oPpRDji4",
        "vscode": {
          "languageId": "r"
        }
      },
      "outputs": [],
      "source": [
        "# Now you can use the xts_geom object with all xts functions.\n",
        "# For example, we can plot it using the plot.xts function\n"
      ]
    },
    {
      "cell_type": "code",
      "execution_count": null,
      "metadata": {
        "id": "BqcePmpNDji5",
        "outputId": "c9988f37-7793-4e9b-fadd-13aecd4a9ac9",
        "vscode": {
          "languageId": "r"
        }
      },
      "outputs": [
        {
          "data": {
            "image/png": "[encoded data removed]",
            "text/plain": [
              "plot without title"
            ]
          },
          "metadata": {
            "image/png": {
              "height": 420,
              "width": 420
            }
          },
          "output_type": "display_data"
        }
      ],
      "source": [
        "plot(x = xts_geom, main = \"Geometric Series as xts Object\", ylab = expression(x[t]), xlab = \"Date\")"
      ]
    },
    {
      "cell_type": "markdown",
      "metadata": {
        "id": "6sMqYydXDji6"
      },
      "source": [
        "You can select subsets from `xts` objects using date ranges. For example, to select all observations from January 2020, you can use the following code:\n",
        "\n",
        "```r\n",
        "xts_geom[\"2025-01\"]\n",
        "```\n",
        "\n",
        "To select all observations from 2025-10-15 to 2025-12-31, you can use:\n",
        "\n",
        "```r\n",
        "xts_geom[\"2025-10-15/2025-12\"]\n",
        "```\n"
      ]
    },
    {
      "cell_type": "code",
      "execution_count": null,
      "metadata": {
        "id": "Ota2tjz0Dji6",
        "vscode": {
          "languageId": "r"
        }
      },
      "outputs": [],
      "source": [
        "# Extract the values after 2025-11-20\n"
      ]
    },
    {
      "cell_type": "code",
      "execution_count": null,
      "metadata": {
        "id": "u9bNgPYYDji6",
        "vscode": {
          "languageId": "r"
        }
      },
      "outputs": [],
      "source": [
        "# Extract the values before 2027-09"
      ]
    },
    {
      "cell_type": "code",
      "execution_count": null,
      "metadata": {
        "id": "SdU0T5XNDji6",
        "outputId": "e5444c3a-a6b4-4d14-ec50-dbd63d4ca339",
        "vscode": {
          "languageId": "r"
        }
      },
      "outputs": [
        {
          "data": {
            "text/plain": [
              "               [,1]\n",
              "2025-09-28 10.20000\n",
              "2025-10-28 10.40400\n",
              "2025-11-28 10.61208\n",
              "2025-12-28 10.82432\n",
              "2026-01-28 11.04081\n",
              "2026-02-28 11.26162"
            ]
          },
          "metadata": {},
          "output_type": "display_data"
        }
      ],
      "source": [
        "head(xts_geom)"
      ]
    },
    {
      "cell_type": "code",
      "execution_count": null,
      "metadata": {
        "id": "YTzG74SxDji6",
        "outputId": "06689d5b-8bbf-4a76-e44e-f85e5f0b299b",
        "vscode": {
          "languageId": "r"
        }
      },
      "outputs": [
        {
          "name": "stderr",
          "output_type": "stream",
          "text": [
            "NOTE: `apply.quarterly(..., FUN = mean)` operates by column, unlike other math\n",
            "  functions (e.g. median, sum, var, sd). Please use `FUN = colMeans` instead,\n",
            "  and use `FUN = function(x) mean(x)` to take the mean of all columns. Set\n",
            "  `options(xts.message.period.apply.mean = FALSE)` to suppress this message.\n",
            "\n"
          ]
        },
        {
          "data": {
            "text/plain": [
              "               [,1]\n",
              "2025-09-28 10.20000\n",
              "2025-12-28 10.61347\n",
              "2026-03-28 11.26310\n",
              "2026-06-28 11.95249\n",
              "2026-09-28 12.68408\n",
              "2026-12-28 13.46044\n",
              "2027-03-28 14.28433\n",
              "2027-06-28 15.15864\n",
              "2027-09-28 16.08648\n",
              "2027-12-28 17.07110\n",
              "2028-03-28 18.11598\n",
              "2028-06-28 19.22483\n",
              "2028-09-28 20.40154\n",
              "2028-12-28 21.65028\n",
              "2029-03-28 22.97545\n",
              "2029-06-28 24.38173\n",
              "2029-09-28 25.87409\n",
              "2029-12-28 27.45779\n",
              "2030-03-28 29.13842\n",
              "2030-06-28 30.92193\n",
              "2030-09-28 32.81460\n",
              "2030-12-28 34.82311\n",
              "2031-03-28 36.95457\n",
              "2031-06-28 39.21648\n",
              "2031-09-28 41.61684\n",
              "2031-12-28 44.16413\n",
              "2032-03-28 46.86732\n",
              "2032-06-28 49.73598\n",
              "2032-09-28 52.78022\n",
              "2032-12-28 56.01079\n",
              "2033-03-28 59.43910\n",
              "2033-06-28 63.07725\n",
              "2033-09-28 66.93808\n",
              "2033-12-28 71.03523"
            ]
          },
          "metadata": {},
          "output_type": "display_data"
        }
      ],
      "source": [
        "# Calculate the quarterly average using apply.quarterly\n",
        "\n",
        "apply.quarterly(xts_geom, mean)"
      ]
    },
    {
      "cell_type": "code",
      "execution_count": null,
      "metadata": {
        "id": "vVZFPZ-1Dji6",
        "outputId": "09fd7b7c-05e1-4dfb-cf1e-3735989e75cf",
        "vscode": {
          "languageId": "r"
        }
      },
      "outputs": [
        {
          "data": {
            "text/plain": [
              "               [,1]\n",
              "2025-09-28       NA\n",
              "2025-10-28       NA\n",
              "2025-11-28       NA\n",
              "2025-12-28       NA\n",
              "2026-01-28       NA\n",
              "2026-02-28       NA\n",
              "2026-03-28       NA\n",
              "2026-04-28       NA\n",
              "2026-05-28       NA\n",
              "2026-06-28       NA\n",
              "2026-07-28       NA\n",
              "2026-08-28 11.40028\n",
              "2026-09-28 11.62828\n",
              "2026-10-28 11.86085\n",
              "2026-11-28 12.09806\n",
              "2026-12-28 12.34003\n",
              "2027-01-28 12.58683\n",
              "2027-02-28 12.83856\n",
              "2027-03-28 13.09533\n",
              "2027-04-28 13.35724\n",
              "2027-05-28 13.62439\n",
              "2027-06-28 13.89687\n",
              "2027-07-28 14.17481\n",
              "2027-08-28 14.45831\n",
              "2027-09-28 14.74747\n",
              "2027-10-28 15.04242\n",
              "2027-11-28 15.34327\n",
              "2027-12-28 15.65014\n",
              "2028-01-28 15.96314\n",
              "2028-02-28 16.28240\n",
              "2028-03-28 16.60805\n",
              "2028-04-28 16.94021\n",
              "2028-05-28 17.27902\n",
              "2028-06-28 17.62460\n",
              "2028-07-28 17.97709\n",
              "2028-08-28 18.33663\n",
              "2028-09-28 18.70336\n",
              "2028-10-28 19.07743\n",
              "2028-11-28 19.45898\n",
              "2028-12-28 19.84816\n",
              "2029-01-28 20.24512\n",
              "2029-02-28 20.65002\n",
              "2029-03-28 21.06302\n",
              "2029-04-28 21.48428\n",
              "2029-05-28 21.91397\n",
              "2029-06-28 22.35225\n",
              "2029-07-28 22.79929\n",
              "2029-08-28 23.25528\n",
              "2029-09-28 23.72038\n",
              "2029-10-28 24.19479\n",
              "2029-11-28 24.67869\n",
              "2029-12-28 25.17226\n",
              "2030-01-28 25.67571\n",
              "2030-02-28 26.18922\n",
              "2030-03-28 26.71301\n",
              "2030-04-28 27.24727\n",
              "2030-05-28 27.79221\n",
              "2030-06-28 28.34806\n",
              "2030-07-28 28.91502\n",
              "2030-08-28 29.49332\n",
              "2030-09-28 30.08318\n",
              "2030-10-28 30.68485\n",
              "2030-11-28 31.29854\n",
              "2030-12-28 31.92451\n",
              "2031-01-28 32.56301\n",
              "2031-02-28 33.21427\n",
              "2031-03-28 33.87855\n",
              "2031-04-28 34.55612\n",
              "2031-05-28 35.24724\n",
              "2031-06-28 35.95219\n",
              "2031-07-28 36.67123\n",
              "2031-08-28 37.40466\n",
              "2031-09-28 38.15275\n",
              "2031-10-28 38.91581\n",
              "2031-11-28 39.69412\n",
              "2031-12-28 40.48800\n",
              "2032-01-28 41.29776\n",
              "2032-02-28 42.12372\n",
              "2032-03-28 42.96619\n",
              "2032-04-28 43.82552\n",
              "2032-05-28 44.70203\n",
              "2032-06-28 45.59607\n",
              "2032-07-28 46.50799\n",
              "2032-08-28 47.43815\n",
              "2032-09-28 48.38691\n",
              "2032-10-28 49.35465\n",
              "2032-11-28 50.34174\n",
              "2032-12-28 51.34858\n",
              "2033-01-28 52.37555\n",
              "2033-02-28 53.42306\n",
              "2033-03-28 54.49152\n",
              "2033-04-28 55.58135\n",
              "2033-05-28 56.69298\n",
              "2033-06-28 57.82684\n",
              "2033-07-28 58.98338\n",
              "2033-08-28 60.16304\n",
              "2033-09-28 61.36631\n",
              "2033-10-28 62.59363\n",
              "2033-11-28 63.84550\n",
              "2033-12-28 65.12241"
            ]
          },
          "metadata": {},
          "output_type": "display_data"
        }
      ],
      "source": [
        "# Calculate the average using a sliding window of 12 months\n",
        "\n",
        "rollapply(xts_geom, width = 12, FUN = mean, by = 1, align = \"right\", fill = NA)"
      ]
    },
    {
      "cell_type": "markdown",
      "metadata": {
        "id": "fBHz9b0nDji6"
      },
      "source": [
        "## Rate of Change\n",
        "\n",
        "A central theme in this course will be the study of _change_ in time series. We will work with mainly three measures of change:\n",
        "\n",
        "1. The absolute change $x_t - x_{t-1}$ (if we think about $x_t$ as the value today, then $x_{t-1}$ is the value yesterday (or the previous month in this particular case)).\n",
        "   because we will refer often to this measure, we will use a special shorthand notation for it:\n",
        "\n",
        "    $$\n",
        "    \\Delta x_t = x_t - x_{t-1}\n",
        "    $$\n",
        "\n",
        "    and we will call it the *first difference* of the series $x_t$.\n",
        "\n",
        "2. The relative change\n",
        "    $$\n",
        "    r_t = \\frac{x_t - x_{t-1}}{x_{t-1}}\n",
        "    $$\n",
        "    \n",
        "    which is the absolute change relative to the previous value. This measure is often expressed in percentage points (i.e. multiplied by 100).\n",
        "    This measure is often called the *rate of change* or the *growth rate* of the series $x_t$.\n",
        "    In financial applications this measure is often called the return of the series $x_t$.\n",
        "\n",
        "3. The logarithmic difference\n",
        "    $$\n",
        "    \\log(x_t) - \\log(x_{t-1}) \\approx r_t\n",
        "    $$\n",
        "    \n",
        "    which is the difference of the logarithms of the two values. This measure is often called the *log return* or the *continuously compounded return* of an asset if $x_t$ is the asset's value. Note that\n",
        "    this generally makes sense only for positive values of $x_t$ as the logarithm is not defined for non-positive values (including zero).\n"
      ]
    },
    {
      "cell_type": "code",
      "execution_count": null,
      "metadata": {
        "id": "mJ2pPgbpDji6",
        "vscode": {
          "languageId": "r"
        }
      },
      "outputs": [],
      "source": [
        "# Exercise: calculate the returns and the log-returns of the geometric series\n",
        "# Use the diff, log and lag functions\n"
      ]
    },
    {
      "cell_type": "code",
      "execution_count": null,
      "metadata": {
        "id": "C18ttBIeDji6",
        "outputId": "a449c40f-4424-4ecf-c845-e1c53ed5837b",
        "vscode": {
          "languageId": "r"
        }
      },
      "outputs": [
        {
          "data": {
            "image/png": "[encoded data removed]",
            "text/plain": [
              "plot without title"
            ]
          },
          "metadata": {
            "image/png": {
              "height": 420,
              "width": 420
            }
          },
          "output_type": "display_data"
        },
        {
          "data": {
            "image/png": "[encoded data removed]",
            "text/plain": [
              "plot without title"
            ]
          },
          "metadata": {
            "image/png": {
              "height": 420,
              "width": 420
            }
          },
          "output_type": "display_data"
        },
        {
          "data": {
            "image/png": "[encoded data removed]",
            "text/plain": [
              "plot without title"
            ]
          },
          "metadata": {
            "image/png": {
              "height": 420,
              "width": 420
            }
          },
          "output_type": "display_data"
        }
      ],
      "source": [
        "# Plot the return series and the log-return series\n",
        "\n",
        "plot(xts_geom, main = \"Geometric Series and Log-Returns\", ylab = expression(x[t]), xlab = \"Date\")\n",
        "plot(diff(log(xts_geom)), main = \"Log-Returns of Geometric Series\", ylab = \"Log-Returns\", xlab = \"Date\")\n",
        "plot(diff(xts_geom) / lag(xts_geom), main = \"Returns of Geometric Series\", ylab = \"Returns\", xlab = \"Date\")"
      ]
    },
    {
      "cell_type": "markdown",
      "metadata": {
        "id": "q-2vDMeuDji6"
      },
      "source": [
        "## Noisy Time Series\n",
        "\n",
        "Let's assume that you deposit (or withdraw) a random amount of money every month, for example between -5 and +5 USD, reflecting your monthly expenses and income.\n",
        "On average, you expect to deposit 0 USD per month.\n",
        "Let's assume that every amount is equally likely (uniform distribution) and that the distribution of deposits/withdrawals does not change over time.\n",
        "In other words we assume that the deposits/withdrawals are i.i.d. (independent and identically distributed) random variables.\n",
        "\n",
        "The independent assumption means that the distribution of the deposit/withdrawal at time $t$ does not depend on the deposits/withdrawals at previous times.\n",
        "For example, if you withdrew a large amount of money in some month (to buy a car for example) and then you\n",
        "decide that you need to save more in the months after to\n",
        "compensate for the withdrawal, then the deposits/withdrawals would not be independent.\n",
        "\n",
        "The model for your bank account balance is now:\n",
        "\n",
        "$$\n",
        "\\begin{align}\n",
        "x_t & = (1 + 0.02)x_{t - 1} + \\epsilon_t,\\quad x_0 = 10 \\\\\n",
        "\\epsilon_t & \\sim \\text{i.i.d. } U(-5, 5)\n",
        "\\end{align}\n",
        "$$\n",
        "\n",
        "where $\\epsilon_t$ is a random variable representing the random deposit or withdrawal at time $t$.\n",
        "\n",
        "For simplicity, we assume that your bank account balance can go negative (i.e. you can have an overdraft) and that the\n",
        "interest is paid on the negative balance as well (i.e. you pay the bank for the credit)."
      ]
    },
    {
      "cell_type": "code",
      "execution_count": null,
      "metadata": {
        "id": "G4mJXBp3Dji6",
        "outputId": "29d1e3ea-a49f-4c7a-ce72-ae0351882ef7",
        "vscode": {
          "languageId": "r"
        }
      },
      "outputs": [
        {
          "data": {
            "image/png": "[encoded data removed]",
            "text/plain": [
              "plot without title"
            ]
          },
          "metadata": {
            "image/png": {
              "height": 420,
              "width": 420
            }
          },
          "output_type": "display_data"
        }
      ],
      "source": [
        "# Exercise: generate a noisy version of your bank account series\n",
        "# Use the runif function to generate random numbers between -5 and 5\n",
        "# Plot the series\n",
        "\n",
        "xts_geom_rand <- xts_geom + runif(n = length(xts_geom), min=-5, max=5)\n",
        "plot(xts_geom_rand, main = \"Noisy Geometric Series\", ylab = expression(x[t]), xlab = \"Date\")\n"
      ]
    },
    {
      "cell_type": "code",
      "execution_count": null,
      "metadata": {
        "id": "tWWH1MNGDji6",
        "vscode": {
          "languageId": "r"
        }
      },
      "outputs": [],
      "source": [
        "# Exercise: plot the return series and the log-return series\n"
      ]
    },
    {
      "cell_type": "markdown",
      "metadata": {
        "id": "4TfURWZkDji6"
      },
      "source": [
        "## Forecasting\n",
        "\n",
        "A main goal of this course is to learn how to forecast future values of a time series based on its past values. This is especially\n",
        "important in all areas of business and economics. For example, a company might want to forecast future sales to plan its production and inventory\n",
        "or a central bank needs to forecast inflation to set its monetary policy.\n",
        "\n",
        "In the case of the deterministic series we could simply use the formula in equation {eq-geom-series} to compute the future values of the series.\n",
        "And we will be able to forecast the future values of the series without error. With the noisy series, however, every forecast will be subject to some error.\n",
        "\n",
        "## The Naive Forecast\n",
        "\n",
        "The simplest forecast is the so-called *naive forecast*. You just take the last observed value of the series and this is your forecast for all future values.\n"
      ]
    },
    {
      "cell_type": "code",
      "execution_count": null,
      "metadata": {
        "id": "tIlQLMy8Dji6",
        "outputId": "8357e9dd-19a4-43e8-9f62-8aae64f08283",
        "vscode": {
          "languageId": "r"
        }
      },
      "outputs": [
        {
          "data": {
            "text/plain": [
              "              [,1]\n",
              "2028-12-28 25.0052"
            ]
          },
          "metadata": {},
          "output_type": "display_data"
        }
      ],
      "source": [
        "# Assume that the observations end on 2028-12-31 and you want to forecast 12 months ahead\n",
        "# What is the value of the series on in December 2028?\n",
        "\n",
        "xts_geom_rand[\"2028-12\"]"
      ]
    },
    {
      "cell_type": "code",
      "execution_count": null,
      "metadata": {
        "id": "eh0Ga3KcDji6",
        "outputId": "eee3bed5-2c63-438b-9318-2b51529ec4c4",
        "vscode": {
          "languageId": "r"
        }
      },
      "outputs": [
        {
          "data": {
            "text/plain": [
              "   Point Forecast     Lo 80    Hi 80       Lo 95    Hi 95\n",
              "41        25.0052 20.289176 29.72123 17.79266278 32.21774\n",
              "42        25.0052 18.335734 31.67467 14.80513134 35.20527\n",
              "43        25.0052 16.836806 33.17360 12.51271783 37.49769\n",
              "44        25.0052 15.573150 34.43725 10.58012385 39.43028\n",
              "45        25.0052 14.459848 35.55056  8.87747437 41.13293\n",
              "46        25.0052 13.453345 36.55706  7.33816158 42.67224\n",
              "47        25.0052 12.527770 37.48263  5.92261737 44.08779\n",
              "48        25.0052 11.666267 38.34414  4.60506096 45.40534\n",
              "49        25.0052 10.857125 39.15328  3.36758491 46.64282\n",
              "50        25.0052 10.091819 39.91858  2.19715097 47.81325\n",
              "51        25.0052  9.363914 40.64649  1.08391628 48.92649\n",
              "52        25.0052  8.668409 41.34199  0.02023394 49.99017"
            ]
          },
          "metadata": {},
          "output_type": "display_data"
        }
      ],
      "source": [
        "xts_geom_rand[\"/2028-12\"] %>%\n",
        "    naive(h=12)"
      ]
    },
    {
      "cell_type": "code",
      "execution_count": null,
      "metadata": {
        "id": "WfNWFuC3Dji6",
        "outputId": "1eff2005-e06a-4b10-df07-da8dc5a64a2e",
        "vscode": {
          "languageId": "r"
        }
      },
      "outputs": [
        {
          "data": {
            "image/png": "[encoded data removed]",
            "text/plain": [
              "plot without title"
            ]
          },
          "metadata": {
            "image/png": {
              "height": 420,
              "width": 420
            }
          },
          "output_type": "display_data"
        }
      ],
      "source": [
        "library(forecast)\n",
        "\n",
        "xts_geom_rand[\"/2028-12\"] %>%\n",
        "    naive(h=12) %>%\n",
        "    autoplot()"
      ]
    },
    {
      "cell_type": "code",
      "execution_count": null,
      "metadata": {
        "id": "_mx2avvGDji6",
        "outputId": "62fd8097-cdfb-4982-bd69-765bf37a78c2",
        "vscode": {
          "languageId": "r"
        }
      },
      "outputs": [
        {
          "data": {
            "text/plain": [
              "   Point Forecast     Lo 80    Hi 80     Lo 95    Hi 95\n",
              "41        25.0052 20.289176 29.72123 17.792663 32.21774\n",
              "42        25.0052 18.335734 31.67467 14.805131 35.20527\n",
              "43        25.0052 16.836806 33.17360 12.512718 37.49769\n",
              "44        25.0052 15.573150 34.43725 10.580124 39.43028\n",
              "45        25.0052 14.459848 35.55056  8.877474 41.13293\n",
              "46        25.0052 13.453345 36.55706  7.338162 42.67224\n",
              "47        25.0052 12.527770 37.48263  5.922617 44.08779\n",
              "48        25.0052 11.666267 38.34414  4.605061 45.40534\n",
              "49        25.0052 10.857125 39.15328  3.367585 46.64282\n",
              "50        25.0052 10.091819 39.91858  2.197151 47.81325\n",
              "51        25.0052  9.363914 40.64649  1.083916 48.92649"
            ]
          },
          "metadata": {},
          "output_type": "display_data"
        }
      ],
      "source": [
        "naive(xts_geom_rand[\"/2028-12\"], h=12)"
      ]
    },
    {
      "cell_type": "code",
      "execution_count": null,
      "metadata": {
        "id": "eRbBtW1qDji6",
        "outputId": "ba4e06d4-b3eb-4743-ddca-d0f3de2f3a25",
        "vscode": {
          "languageId": "r"
        }
      },
      "outputs": [
        {
          "data": {
            "image/png": "[encoded data removed]",
            "text/plain": [
              "plot without title"
            ]
          },
          "metadata": {
            "image/png": {
              "height": 420,
              "width": 420
            }
          },
          "output_type": "display_data"
        }
      ],
      "source": [
        "# Let's do the same but we will also show the real data points\n",
        "# First, let's make sure we have the necessary libraries loaded\n",
        "library(forecast)\n",
        "library(ggplot2)\n",
        "\n",
        "# Convert xts to ts object for better compatibility with forecast functions\n",
        "# Extract the data up to 2028-12 and convert to ts\n",
        "historical_data <- xts_geom_rand[\"/2028-12\"]\n",
        "ts_historical <- ts(as.numeric(historical_data),\n",
        "                    start = c(year(today), month(today)),\n",
        "                    frequency = 12)\n",
        "ts_all <- ts(as.numeric(xts_geom_rand[\"/2029-12\"]),\n",
        "               start = c(year(today), month(today)),\n",
        "               frequency = 12)\n",
        "\n",
        "# Create the forecast\n",
        "forecast_obj <- naive(ts_historical, h=12)\n",
        "\n",
        "# Plot using autoplot\n",
        "autoplot(ts_all, series = \"Actual Data\") +\n",
        "  autolayer(forecast_obj, series = \"Naive Forecast\", alpha=0.3) +\n",
        "  labs(title = \"Naive Forecast of Geometric Series\",\n",
        "       x = \"Time\", y = \"Value\")"
      ]
    },
    {
      "cell_type": "markdown",
      "metadata": {
        "id": "FHDdLqUTDji7"
      },
      "source": [
        "## Forecasting Error\n",
        "\n",
        "There are several measures of forecasting error that we will encounter in this course. One of the most important\n",
        "if the Squared Forecast Error (SFE) which is defined as:\n",
        "\n",
        "$$\n",
        "\\text{SFE} = \\sum_{\\tau = t}^{t + h} (x_{\\tau} - \\hat{x}_{\\tau})^2\n",
        "$$\n",
        "\n",
        "where $x_t$ is the actual value of the series at time $t$ and $\\hat{x}_t$ is the forecasted value of the series at time $t$.\n",
        "\n",
        ":::{.callout-note }\n",
        "## Hats\n",
        "\n",
        "As we did in our econometrics course, we will use hats to denote forecasts or estimates of parameters.\n",
        "As is customary in the time-series literature we will use the same notation for the _value_ of the forecast\n",
        "and the _function_ that produces the forecast. The two are _not_ the same!\n",
        "The forecast function takes as input the past values of the series and produces as output the forecasted value.\n",
        "\n",
        "In the naive forecast $\\hat{x}_t = x_{t-1}$, the forecast function simply returns\n",
        "the last observed value of the series.\n",
        "\n",
        ":::\n",
        "\n",
        "The squared error gives you an idea about how different your forecasts are from the actual values of the series.\n",
        "For a perfect forecast the squared error is 0.  It has two drawbacks, however:\n",
        "\n",
        "1. It depends on the number of forecasted values $h$ and so it will grow with $h$. This makes it hard to compare the forecasting error when considering different forecast horizons.\n",
        "2. It has a strange measurement unit. If the series $x_t$ is measured in USD, then the squared error is measured in USD$^2$.\n",
        "\n",
        "We can cure the first issue by dividing the squared error by the number of forecasted values $h$. This gives us the Mean Squared Error (MSE):\n",
        "\n",
        "$$\n",
        "\\text{MSE} = \\frac{1}{h} \\sum_{\\tau = t}^{t + h} (x_{\\tau} - \\hat{x}_{\\tau})^2\n",
        "$$\n",
        "\n",
        "We can address the second issue by taking the square root of the MSE. This gives us the Root Mean Squared Error (RMSE):\n",
        "\n",
        "$$\n",
        "\\text{RMSE} = \\sqrt{\\frac{1}{h} \\sum_{\\tau = t}^{t + h} (x_{\\tau} - \\hat{x}_{\\tau})^2}\n",
        "$$\n",
        "\n",
        "Now we have an error measure on the same scale as the original series and that does not depend on the number of forecasted values.\n",
        "\n",
        "It is still hard to compare the RMSE of two different series, however, because the RMSE still depends on the scale of the series. For example, if the series $x_t$ is measured in USD and the series $y_t$ is measured in EUR, then the RMSE of the two series will not be compatible.\n",
        "\n",
        "One way to address this issue is to use the $R^2$ measure of forecasting accuracy:\n",
        "\n",
        "$$\n",
        "R^2 = 1 - \\frac{\\sum_{\\tau = t}^{t + h} (x_{\\tau} - \\hat{x}_{\\tau})^2}{\\sum_{\\tau = t}^{t + h} (x_{\\tau} - \\bar{x})^2}\n",
        "$$\n",
        "\n",
        ":::{.callout-note }\n",
        "## $R^2$ Measure\n",
        "\n",
        "In econometrics we used the $R^2$ measure to assess the goodness of fit of a regression model and argued\n",
        "that it is bounded between 0 and 1. This is true when calculating $R^2$ on the same data that was used to estimate the model.\n",
        "\n",
        "This is not the case for the $R^2$ measure of forecasting accuracy\n",
        "because test data and the training data are different. In fact, the $R^2$ measure of forecasting accuracy can become negative.\n",
        "\n",
        ":::"
      ]
    }
  ],
  "metadata": {
    "colab": {
      "include_colab_link": true,
      "provenance": []
    },
    "kernelspec": {
      "display_name": "R",
      "language": "R",
      "name": "ir"
    },
    "language_info": {
      "codemirror_mode": "r",
      "file_extension": ".r",
      "mimetype": "text/x-r-source",
      "name": "R",
      "pygments_lexer": "r",
      "version": "4.3.1"
    }
  },
  "nbformat": 4,
  "nbformat_minor": 0
}
