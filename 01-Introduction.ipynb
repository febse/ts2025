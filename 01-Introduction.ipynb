{
 "cells": [
  {
   "cell_type": "markdown",
   "metadata": {
    "colab_type": "text",
    "id": "view-in-github"
   },
   "source": [
    "<a href=\"https://colab.research.google.com/github/febse/ts2025/blob/main/01-Introduction-Class.ipynb\" target=\"_parent\"><img src=\"https://colab.research.google.com/assets/colab-badge.svg\" alt=\"Open Class Version In Colab\"/>Class Version</a>\n",
    "\n",
    "<a href=\"https://colab.research.google.com/github/febse/ts2025/blob/main/01-Introduction.ipynb\" target=\"_parent\"><img src=\"https://colab.research.google.com/assets/colab-badge.svg\" alt=\"Open In Colab\"/></a>"
   ]
  },
  {
   "cell_type": "markdown",
   "metadata": {
    "id": "YxcbcOSTDjix"
   },
   "source": [
    "# Introduction {#introduction}\n"
   ]
  },
  {
   "cell_type": "markdown",
   "metadata": {},
   "source": [
    "## A Very Short Introduction to Python and Jupyter Notebooks\n",
    "\n",
    "The simplest use of Python is just as a calculator with the familiar arithmetic operations:\n",
    "\n",
    "- Addition: `+`\n",
    "- Subtraction: `-`\n",
    "- Multiplication: `*`\n",
    "- Division: `/`\n",
    "- Exponentiation: `**`\n",
    "  \n",
    "  Open a code block and compute the result of \n",
    "\n",
    "  - 2 + 5\n",
    "  - 3 - 5\n",
    "  - 4 * 2\n",
    "  - 8 / 4\n",
    "  - 2 ** 3"
   ]
  },
  {
   "cell_type": "markdown",
   "metadata": {},
   "source": [
    "You can store values in variables by using the assignment operator `=`. This is very powerful, because you can \n",
    "access the values later without recomputing them.\n",
    "\n",
    "Open a code block and assign the value 4 to a variable called `x` and the value 8 to a variable called `y`.\n",
    "Open another code block and compute the ratio of `x` and `y`."
   ]
  },
  {
   "cell_type": "markdown",
   "metadata": {},
   "source": [
    "Apart from single values you can also use lists (ordered collections of values).\n"
   ]
  },
  {
   "cell_type": "code",
   "execution_count": null,
   "metadata": {},
   "outputs": [],
   "source": [
    "some_list = [2, 3.4, 18]\n",
    "some_list"
   ]
  },
  {
   "cell_type": "markdown",
   "metadata": {},
   "source": [
    "One of the most useful things that you can do with lists is to iterate over them using the `for` loop.\n"
   ]
  },
  {
   "cell_type": "code",
   "execution_count": null,
   "metadata": {},
   "outputs": [],
   "source": [
    "for element in some_list:\n",
    "    print(element)    "
   ]
  },
  {
   "cell_type": "markdown",
   "metadata": {},
   "source": [
    "You can also access the elements of the list using `[]`."
   ]
  },
  {
   "cell_type": "code",
   "execution_count": 1,
   "metadata": {},
   "outputs": [
    {
     "ename": "NameError",
     "evalue": "name 'some_list' is not defined",
     "output_type": "error",
     "traceback": [
      "\u001b[31m---------------------------------------------------------------------------\u001b[39m",
      "\u001b[31mNameError\u001b[39m                                 Traceback (most recent call last)",
      "\u001b[36mCell\u001b[39m\u001b[36m \u001b[39m\u001b[32mIn[1]\u001b[39m\u001b[32m, line 1\u001b[39m\n\u001b[32m----> \u001b[39m\u001b[32m1\u001b[39m \u001b[43msome_list\u001b[49m[\u001b[32m0\u001b[39m]\n",
      "\u001b[31mNameError\u001b[39m: name 'some_list' is not defined"
     ]
    }
   ],
   "source": [
    "some_list[0]"
   ]
  },
  {
   "cell_type": "code",
   "execution_count": 3,
   "metadata": {
    "colab": {
     "base_uri": "https://localhost:8080/"
    },
    "id": "kN3jOUjzDjiz",
    "outputId": "074cd6c1-9171-4195-f5f1-3b1570f0d8d3"
   },
   "outputs": [],
   "source": [
    "# Next, import the packages (this is similar to library in R)\n",
    "import numpy as np\n",
    "import pandas as pd\n",
    "import matplotlib.pyplot as plt\n",
    "import seaborn as sns"
   ]
  },
  {
   "cell_type": "markdown",
   "metadata": {
    "id": "92dzbKTwDji0"
   },
   "source": [
    "\n",
    "## Time Series Definition\n",
    "\n",
    "A *time series* is a sequence of values ordered by time. This course will focus on series that take values in $\\mathbb{R}$. Let\n",
    "$x_1, x_2, \\ldots, x_T$ be a sequence of values ordered by a time index\n",
    "$t = 1,\\ldots,T$. As a starting example we will use a bank account.\n",
    "\n",
    "\n",
    ":::{.callout-note}\n",
    "## Regular and Irregular Time Series\n",
    "\n",
    "In this course we will deal with observations\n",
    "recorded at fixed time intervals (e.g. hourly, daily, weekly, monthly, annually, etc.).\n",
    "For example, _every day_ you measure your morning travel duration from home to the university.\n",
    "\n",
    "Consider your daily step count. Let's say you copy\n",
    "the number of steps at the end of the day from your\n",
    "health app into a spreadsheet. Sometimes do it on Monday\n",
    "evening, sometime on a Wednesday, sometimes you might miss a\n",
    "couple of weeks and record it again. This would be\n",
    "an example of an _irregular_ time series (of your daily step counts).\n",
    "\n",
    ":::\n",
    "\n",
    "\n"
   ]
  },
  {
   "cell_type": "markdown",
   "metadata": {
    "id": "mSSKD5eDDji0"
   },
   "source": [
    "## A Deterministic Time Series\n"
   ]
  },
  {
   "cell_type": "markdown",
   "metadata": {
    "id": "QWjXI_h4Dji1"
   },
   "source": [
    "Imagine that you deposit 10 USD in an account that pays 2 percent _monthly_\n",
    "interest. If you don't deposit or withdraw anything during the life\n",
    "of the deposit, it will grow according according to the compound interest rule.\n",
    "\n",
    "For convenience we will introduce a mathematical notation to describe the amount\n",
    "in your bank account. Lets introduce an index $t$ that runs from $t = 0$ \n",
    "to $t = T = 60$ (let's say your deposit agreement expires after 60 months (5 years)).\n",
    "\n",
    "In the first month you have \n",
    "\n",
    "$$\n",
    "x_0 = 10 \\quad \\text{USD}\n",
    "$$\n",
    "\n",
    "in your account. In the second month:\n",
    "\n",
    "$$\n",
    "\\begin{align}\n",
    "x_1 & = x_0 + 0.02 x_0  \\\\ \n",
    "    & = (1 + 0.02) x_0 \\quad \\text{USD}\n",
    "\\end{align}\n",
    "$$\n",
    "\n",
    "In the third month the value of your deposit grows to:\n",
    "\n",
    "$$\n",
    "x_2 = (1 + 0.02) x_1\n",
    "$$\n",
    "\n",
    "and in any month you can write the formula for the amount in the account as:\n",
    "\n",
    "$$\n",
    "\\underbrace{x_t}_{\\text{Current amount}} = (1 + 0.02) \\underbrace{x_{t - 1}}_{\\text{Amount previous month}}\n",
    "$$\n",
    "\n",
    "Next we want to calculate the amount in the bank account for each month and this will be much easier\n",
    "if we had a formula expressing the amount directly in terms of $t$. It is very easy to obtain this,\n",
    "the only thing you need to do is to substitute $x_{t - 1}$ in the expression for $x_t$.\n",
    "\n",
    "\n",
    "\n",
    "$$\n",
    "\\begin{align}\n",
    "x_{t} & = (1 + 0.02) x_{t - 1} \\\\\n",
    "      & = (1 + 0.02) \\left((1 + 0.02) x_{t - 2} \\right) \\\\\n",
    "      & = (1 + 0.02)^2 x_{t - 2} \\\\\n",
    "      & = (1 + 0.02)^2 \\left((1 + 0.02) x_{t - 3} \\right) \\\\\n",
    "      & = (1 + 0.02)^3 x_{t - 3} \\\\\n",
    "      & \\vdots \\\\\n",
    "      & = (1 + 0.02)^t x_{0}\n",
    "\\end{align}\n",
    "$$\n"
   ]
  },
  {
   "cell_type": "code",
   "execution_count": 4,
   "metadata": {
    "id": "pNNTWXmLDji1"
   },
   "outputs": [
    {
     "data": {
      "application/vnd.microsoft.datawrangler.viewer.v0+json": {
       "columns": [
        {
         "name": "index",
         "rawType": "int64",
         "type": "integer"
        },
        {
         "name": "t",
         "rawType": "int64",
         "type": "integer"
        },
        {
         "name": "amount",
         "rawType": "float64",
         "type": "float"
        }
       ],
       "ref": "8cb765d9-070d-49f2-807f-4380172de623",
       "rows": [
        [
         "0",
         "0",
         "10.0"
        ],
        [
         "1",
         "1",
         "10.2"
        ],
        [
         "2",
         "2",
         "10.404"
        ],
        [
         "3",
         "3",
         "10.612080000000002"
        ],
        [
         "4",
         "4",
         "10.8243216"
        ]
       ],
       "shape": {
        "columns": 2,
        "rows": 5
       }
      },
      "text/html": [
       "<div>\n",
       "<style scoped>\n",
       "    .dataframe tbody tr th:only-of-type {\n",
       "        vertical-align: middle;\n",
       "    }\n",
       "\n",
       "    .dataframe tbody tr th {\n",
       "        vertical-align: top;\n",
       "    }\n",
       "\n",
       "    .dataframe thead th {\n",
       "        text-align: right;\n",
       "    }\n",
       "</style>\n",
       "<table border=\"1\" class=\"dataframe\">\n",
       "  <thead>\n",
       "    <tr style=\"text-align: right;\">\n",
       "      <th></th>\n",
       "      <th>t</th>\n",
       "      <th>amount</th>\n",
       "    </tr>\n",
       "  </thead>\n",
       "  <tbody>\n",
       "    <tr>\n",
       "      <th>0</th>\n",
       "      <td>0</td>\n",
       "      <td>10.000000</td>\n",
       "    </tr>\n",
       "    <tr>\n",
       "      <th>1</th>\n",
       "      <td>1</td>\n",
       "      <td>10.200000</td>\n",
       "    </tr>\n",
       "    <tr>\n",
       "      <th>2</th>\n",
       "      <td>2</td>\n",
       "      <td>10.404000</td>\n",
       "    </tr>\n",
       "    <tr>\n",
       "      <th>3</th>\n",
       "      <td>3</td>\n",
       "      <td>10.612080</td>\n",
       "    </tr>\n",
       "    <tr>\n",
       "      <th>4</th>\n",
       "      <td>4</td>\n",
       "      <td>10.824322</td>\n",
       "    </tr>\n",
       "  </tbody>\n",
       "</table>\n",
       "</div>"
      ],
      "text/plain": [
       "   t     amount\n",
       "0  0  10.000000\n",
       "1  1  10.200000\n",
       "2  2  10.404000\n",
       "3  3  10.612080\n",
       "4  4  10.824322"
      ]
     },
     "execution_count": 4,
     "metadata": {},
     "output_type": "execute_result"
    }
   ],
   "source": [
    "# A variable holding the initial amount\n",
    "x_0 = 10\n",
    "\n",
    "# A sequence 0, 1, 2, ... 61 (60 months)\n",
    "t = np.arange(0, 61)\n",
    "\n",
    "# The amount in each month, calculated according to the formula.\n",
    "# The ** means exponentiation\n",
    "\n",
    "x_t = x_0 * (1 + 0.02) ** t\n",
    "\n",
    "# Put into a DataFrame for convenience\n",
    "account = pd.DataFrame({\"t\": t, \"amount\": x_t})\n",
    "\n",
    "# Display the first few values\n",
    "account.head()"
   ]
  },
  {
   "cell_type": "code",
   "execution_count": 5,
   "metadata": {
    "id": "UBKw2-kRDji1",
    "outputId": "90603bf2-0aa6-4a56-f67c-49ebbd32423b"
   },
   "outputs": [
    {
     "data": {
      "text/plain": [
       "Text(0, 0.5, 'Amount (USD) in t')"
      ]
     },
     "execution_count": 5,
     "metadata": {},
     "output_type": "execute_result"
    },
    {
     "data": {
      "image/png": "[encoded data removed]",
      "text/plain": [
       "<Figure size 640x480 with 1 Axes>"
      ]
     },
     "metadata": {},
     "output_type": "display_data"
    }
   ],
   "source": [
    "# Plot the geometric series\n",
    "\n",
    "sns.lineplot(data=account, x=\"t\", y=\"amount\", marker=\"o\")\n",
    "\n",
    "# Set the label for the x axis\n",
    "plt.xlabel(\"Month (t)\")\n",
    "\n",
    "# Set the label for the y axis\n",
    "plt.ylabel(r\"Amount (USD) in t\")"
   ]
  },
  {
   "cell_type": "markdown",
   "metadata": {
    "id": "CIG8g-BRDji1"
   },
   "source": [
    "## Date and Time objects in Pandas\n",
    "\n",
    "As our observations will be ordered by time it is convenient to use tools that support\n",
    "handling. In this course we will mostly use `pandas` for both date/time and data handling.\n",
    "\n",
    "First, let's see how we can create date objects in `pandas`."
   ]
  },
  {
   "cell_type": "code",
   "execution_count": 6,
   "metadata": {
    "id": "n1y4ORIzDji1",
    "outputId": "1a857205-93d2-4ca8-c353-1d063457947a"
   },
   "outputs": [
    {
     "name": "stdout",
     "output_type": "stream",
     "text": [
      "Origin: 1970-01-01 00:00:00\n",
      "Jan 2, 1970: 1970-01-02 00:00:00\n",
      "0\n",
      "86400000000000\n"
     ]
    }
   ],
   "source": [
    "# Working with date objects in Python\n",
    "import pandas as pd\n",
    "\n",
    "origin = pd.to_datetime(\"1970-01-01\")\n",
    "jan02_1970 = pd.to_datetime(\"1970-01-02\")\n",
    "\n",
    "print(\"Origin:\", origin)\n",
    "print(\"Jan 2, 1970:\", jan02_1970)\n",
    "\n",
    "print(origin.value)\n",
    "print(jan02_1970.value)"
   ]
  },
  {
   "cell_type": "markdown",
   "metadata": {
    "id": "zY4WO7TwDji3"
   },
   "source": [
    "The way dates and time are handled may differ between different software implementations.\n",
    "However, they all store dates and times as numbers of days/seconds/milliseconds/nanoseconds\n",
    "counting from some origin (the most common is the Unix epoch, or 1970-01-01).\n",
    "\n",
    "When we called `pd.to_datetime` with the string \"1970-01-01\" it has parsed it \n",
    "according to its default format which is the \"ISO 8601\" format (YYYY-MM-DD): \n",
    "four digits for the year, two digits for the month and two digits for the day.\n",
    "\n",
    ":::{.callout-note}\n",
    "## Date Formats\n",
    "\n",
    "Try to stick to the ISO format (YYYY-MM-DD) when working with dates. It makes\n",
    "working with dates much easier. If you supply dates in other formats you also \n",
    "need to explicitly provide the format string to `pd.to_datetime` (and other date handling functions).\n",
    "\n",
    ":::"
   ]
  },
  {
   "cell_type": "code",
   "execution_count": 7,
   "metadata": {
    "id": "aBmgaNcRDji3",
    "outputId": "fb7f19a0-bfed-45d7-fb5c-e00e6da113af"
   },
   "outputs": [
    {
     "data": {
      "text/plain": [
       "0"
      ]
     },
     "execution_count": 7,
     "metadata": {},
     "output_type": "execute_result"
    }
   ],
   "source": [
    "# Parsing date strings with an explicit format\n",
    "\n",
    "origin1 = pd.to_datetime(\"01-01-1970\", format=\"%d-%m-%Y\")\n",
    "origin1.value"
   ]
  },
  {
   "cell_type": "code",
   "execution_count": 8,
   "metadata": {},
   "outputs": [
    {
     "data": {
      "text/plain": [
       "0"
      ]
     },
     "execution_count": 8,
     "metadata": {},
     "output_type": "execute_result"
    }
   ],
   "source": [
    "origin2 = pd.to_datetime(\"01.01.1970\", format=\"%d.%m.%Y\")\n",
    "origin2.value"
   ]
  },
  {
   "cell_type": "code",
   "execution_count": 9,
   "metadata": {
    "id": "iJAdvY7rDji3",
    "outputId": "8ea4e3f2-be3e-48d6-dcd0-bf8d00a21f61"
   },
   "outputs": [
    {
     "name": "stdout",
     "output_type": "stream",
     "text": [
      "Today's date is: 2025-09-30 12:20:48.056572\n",
      "Today's date is (with time set to midnight): 2025-09-30 00:00:00\n",
      "The year is: 2025\n",
      "The month (number) is: 9\n",
      "The day of the month is: 30\n",
      "The day of the week (number, Monday=0) is: 1\n",
      "The day of the week (name) is: Tuesday\n",
      "The day of the year is: 273\n",
      "The week of the year is (ISO week): 40\n",
      "The quarter (number) is: 4\n"
     ]
    }
   ],
   "source": [
    "# Working with pandas datetime-like accessors\n",
    "\n",
    "today = pd.Timestamp.today()\n",
    "\n",
    "print(\"Today's date is:\", today)\n",
    "\n",
    "# Normalize sets the time to midnight (00:00:00)\n",
    "today = today.normalize()\n",
    "\n",
    "print(\"Today's date is (with time set to midnight):\", today)\n",
    "\n",
    "print(\"The year is:\", today.year)\n",
    "\n",
    "print(\"The month (number) is:\", today.month)\n",
    "\n",
    "print(\"The day of the month is:\", today.day)\n",
    "\n",
    "# Note that dayofweek is an integer, where Monday=0, Sunday=6\n",
    "# also note that in other programming languages this may be locale dependent (e.g. Sunday=0)\n",
    "\n",
    "print(\"The day of the week (number, Monday=0) is:\", today.dayofweek)\n",
    "\n",
    "print(\"The day of the week (name) is:\", today.day_name())\n",
    "\n",
    "print(\"The day of the year is:\", today.dayofyear)\n",
    "\n",
    "print(\"The week of the year is (ISO week):\", today.isocalendar().week)\n",
    "\n",
    "print(\"The quarter (number) is:\", today.quarter)"
   ]
  },
  {
   "cell_type": "code",
   "execution_count": 10,
   "metadata": {
    "id": "RRINhfLxDji3"
   },
   "outputs": [],
   "source": [
    "# Exercise: Pandas Timestamps\n",
    "# 1. What day of the week was the 10-th of June 2019?\n",
    "# 2. Create a sequence of 34 consecutive dates starting on the 2-nd of January 2017. What was the year quarter of the last date of this sequence?\n"
   ]
  },
  {
   "cell_type": "code",
   "execution_count": 11,
   "metadata": {
    "id": "1WSWt_ThDji3"
   },
   "outputs": [],
   "source": [
    "# Exercise solution space\n",
    "# Type your code here\n",
    "\n"
   ]
  },
  {
   "cell_type": "markdown",
   "metadata": {},
   "source": [
    "## Pandas' DateTimeIndex\n",
    "\n",
    "Until now we have created an integer column `t` for the time index which runs from 0 to 60. It does the job to \n",
    "keep track of the order of the observations but it does not tells us anything about the concrete months (are they January 2010, February 2023, etc.). A lot of applications require that we keep track not only of the order of the observations but also of the actual dates (or times).\n",
    "\n",
    "Pandas data frames support indexing by a dates which is very useful in such cases. Let's create\n",
    "a sequence of dates and use them as an index in a data frame. This will enable us to easily select\n",
    "data for specific dates or date ranges."
   ]
  },
  {
   "cell_type": "code",
   "execution_count": 12,
   "metadata": {
    "id": "KIwBMMtwDji3",
    "outputId": "a3b83fed-1a0b-4480-beb4-ecd15ccf423d"
   },
   "outputs": [
    {
     "data": {
      "text/plain": [
       "Timestamp('2025-10-01 00:00:00')"
      ]
     },
     "execution_count": 12,
     "metadata": {},
     "output_type": "execute_result"
    }
   ],
   "source": [
    "start_month = pd.Timestamp.today().normalize().replace(day=1)\n",
    "start_month"
   ]
  },
  {
   "cell_type": "code",
   "execution_count": 13,
   "metadata": {
    "id": "c0QqcqcXDji3",
    "outputId": "e3054d30-9805-4659-ae87-67126f568a48"
   },
   "outputs": [
    {
     "data": {
      "text/plain": [
       "DatetimeIndex(['2025-10-01', '2025-11-01', '2025-12-01', '2026-01-01',\n",
       "               '2026-02-01', '2026-03-01', '2026-04-01', '2026-05-01',\n",
       "               '2026-06-01', '2026-07-01', '2026-08-01', '2026-09-01',\n",
       "               '2026-10-01', '2026-11-01', '2026-12-01', '2027-01-01',\n",
       "               '2027-02-01', '2027-03-01', '2027-04-01', '2027-05-01',\n",
       "               '2027-06-01', '2027-07-01', '2027-08-01', '2027-09-01',\n",
       "               '2027-10-01', '2027-11-01', '2027-12-01', '2028-01-01',\n",
       "               '2028-02-01', '2028-03-01', '2028-04-01', '2028-05-01',\n",
       "               '2028-06-01', '2028-07-01', '2028-08-01', '2028-09-01',\n",
       "               '2028-10-01', '2028-11-01', '2028-12-01', '2029-01-01',\n",
       "               '2029-02-01', '2029-03-01', '2029-04-01', '2029-05-01',\n",
       "               '2029-06-01', '2029-07-01', '2029-08-01', '2029-09-01',\n",
       "               '2029-10-01', '2029-11-01', '2029-12-01', '2030-01-01',\n",
       "               '2030-02-01', '2030-03-01', '2030-04-01', '2030-05-01',\n",
       "               '2030-06-01', '2030-07-01', '2030-08-01', '2030-09-01',\n",
       "               '2030-10-01'],\n",
       "              dtype='datetime64[ns]', freq='MS')"
      ]
     },
     "execution_count": 13,
     "metadata": {},
     "output_type": "execute_result"
    }
   ],
   "source": [
    "# Create a date range with monthly frequency 'MS' starting from start_month\n",
    "# with the same length\n",
    "idx_monthly = pd.date_range(start=start_month, periods=len(account), freq=\"MS\")\n",
    "idx_monthly"
   ]
  },
  {
   "cell_type": "code",
   "execution_count": 14,
   "metadata": {},
   "outputs": [],
   "source": [
    "# Now set the index of the data frame to be this date range\n",
    "\n",
    "account = account.set_index(idx_monthly)\n",
    "\n",
    "# We will also give it a name\n",
    "# so that when we call account.reset_index(), the name will be preserved and stored in the new column\n",
    "\n",
    "account.index.name = \"date\""
   ]
  },
  {
   "cell_type": "markdown",
   "metadata": {
    "id": "6sMqYydXDji6"
   },
   "source": [
    "## DateTimeIndex Operations\n",
    "\n",
    "Now that we have indexed our data frame by dates, we can use it to perform various operations, for example:\n",
    "\n",
    "- Subsetting by date ranges\n",
    "- Resampling to different frequencies\n",
    "- Rolling window calculations\n"
   ]
  },
  {
   "cell_type": "code",
   "execution_count": 15,
   "metadata": {
    "id": "Ota2tjz0Dji6"
   },
   "outputs": [
    {
     "data": {
      "application/vnd.microsoft.datawrangler.viewer.v0+json": {
       "columns": [
        {
         "name": "date",
         "rawType": "datetime64[ns]",
         "type": "datetime"
        },
        {
         "name": "t",
         "rawType": "int64",
         "type": "integer"
        },
        {
         "name": "amount",
         "rawType": "float64",
         "type": "float"
        }
       ],
       "ref": "27e43b3c-5ebd-49c9-bd0b-18dc558958cf",
       "rows": [
        [
         "2029-01-01 00:00:00",
         "39",
         "21.647447682498566"
        ],
        [
         "2029-02-01 00:00:00",
         "40",
         "22.080396636148535"
        ],
        [
         "2029-03-01 00:00:00",
         "41",
         "22.52200456887151"
        ],
        [
         "2029-04-01 00:00:00",
         "42",
         "22.97244466024894"
        ],
        [
         "2029-05-01 00:00:00",
         "43",
         "23.431893553453918"
        ],
        [
         "2029-06-01 00:00:00",
         "44",
         "23.900531424522995"
        ],
        [
         "2029-07-01 00:00:00",
         "45",
         "24.378542053013458"
        ],
        [
         "2029-08-01 00:00:00",
         "46",
         "24.866112894073726"
        ],
        [
         "2029-09-01 00:00:00",
         "47",
         "25.3634351519552"
        ],
        [
         "2029-10-01 00:00:00",
         "48",
         "25.870703854994307"
        ],
        [
         "2029-11-01 00:00:00",
         "49",
         "26.388117932094197"
        ],
        [
         "2029-12-01 00:00:00",
         "50",
         "26.915880290736077"
        ],
        [
         "2030-01-01 00:00:00",
         "51",
         "27.454197896550802"
        ],
        [
         "2030-02-01 00:00:00",
         "52",
         "28.003281854481816"
        ],
        [
         "2030-03-01 00:00:00",
         "53",
         "28.563347491571452"
        ],
        [
         "2030-04-01 00:00:00",
         "54",
         "29.134614441402885"
        ],
        [
         "2030-05-01 00:00:00",
         "55",
         "29.71730673023094"
        ],
        [
         "2030-06-01 00:00:00",
         "56",
         "30.311652864835562"
        ],
        [
         "2030-07-01 00:00:00",
         "57",
         "30.91788592213227"
        ],
        [
         "2030-08-01 00:00:00",
         "58",
         "31.53624364057492"
        ],
        [
         "2030-09-01 00:00:00",
         "59",
         "32.166968513386415"
        ],
        [
         "2030-10-01 00:00:00",
         "60",
         "32.81030788365415"
        ]
       ],
       "shape": {
        "columns": 2,
        "rows": 22
       }
      },
      "text/html": [
       "<div>\n",
       "<style scoped>\n",
       "    .dataframe tbody tr th:only-of-type {\n",
       "        vertical-align: middle;\n",
       "    }\n",
       "\n",
       "    .dataframe tbody tr th {\n",
       "        vertical-align: top;\n",
       "    }\n",
       "\n",
       "    .dataframe thead th {\n",
       "        text-align: right;\n",
       "    }\n",
       "</style>\n",
       "<table border=\"1\" class=\"dataframe\">\n",
       "  <thead>\n",
       "    <tr style=\"text-align: right;\">\n",
       "      <th></th>\n",
       "      <th>t</th>\n",
       "      <th>amount</th>\n",
       "    </tr>\n",
       "    <tr>\n",
       "      <th>date</th>\n",
       "      <th></th>\n",
       "      <th></th>\n",
       "    </tr>\n",
       "  </thead>\n",
       "  <tbody>\n",
       "    <tr>\n",
       "      <th>2029-01-01</th>\n",
       "      <td>39</td>\n",
       "      <td>21.647448</td>\n",
       "    </tr>\n",
       "    <tr>\n",
       "      <th>2029-02-01</th>\n",
       "      <td>40</td>\n",
       "      <td>22.080397</td>\n",
       "    </tr>\n",
       "    <tr>\n",
       "      <th>2029-03-01</th>\n",
       "      <td>41</td>\n",
       "      <td>22.522005</td>\n",
       "    </tr>\n",
       "    <tr>\n",
       "      <th>2029-04-01</th>\n",
       "      <td>42</td>\n",
       "      <td>22.972445</td>\n",
       "    </tr>\n",
       "    <tr>\n",
       "      <th>2029-05-01</th>\n",
       "      <td>43</td>\n",
       "      <td>23.431894</td>\n",
       "    </tr>\n",
       "    <tr>\n",
       "      <th>2029-06-01</th>\n",
       "      <td>44</td>\n",
       "      <td>23.900531</td>\n",
       "    </tr>\n",
       "    <tr>\n",
       "      <th>2029-07-01</th>\n",
       "      <td>45</td>\n",
       "      <td>24.378542</td>\n",
       "    </tr>\n",
       "    <tr>\n",
       "      <th>2029-08-01</th>\n",
       "      <td>46</td>\n",
       "      <td>24.866113</td>\n",
       "    </tr>\n",
       "    <tr>\n",
       "      <th>2029-09-01</th>\n",
       "      <td>47</td>\n",
       "      <td>25.363435</td>\n",
       "    </tr>\n",
       "    <tr>\n",
       "      <th>2029-10-01</th>\n",
       "      <td>48</td>\n",
       "      <td>25.870704</td>\n",
       "    </tr>\n",
       "    <tr>\n",
       "      <th>2029-11-01</th>\n",
       "      <td>49</td>\n",
       "      <td>26.388118</td>\n",
       "    </tr>\n",
       "    <tr>\n",
       "      <th>2029-12-01</th>\n",
       "      <td>50</td>\n",
       "      <td>26.915880</td>\n",
       "    </tr>\n",
       "    <tr>\n",
       "      <th>2030-01-01</th>\n",
       "      <td>51</td>\n",
       "      <td>27.454198</td>\n",
       "    </tr>\n",
       "    <tr>\n",
       "      <th>2030-02-01</th>\n",
       "      <td>52</td>\n",
       "      <td>28.003282</td>\n",
       "    </tr>\n",
       "    <tr>\n",
       "      <th>2030-03-01</th>\n",
       "      <td>53</td>\n",
       "      <td>28.563347</td>\n",
       "    </tr>\n",
       "    <tr>\n",
       "      <th>2030-04-01</th>\n",
       "      <td>54</td>\n",
       "      <td>29.134614</td>\n",
       "    </tr>\n",
       "    <tr>\n",
       "      <th>2030-05-01</th>\n",
       "      <td>55</td>\n",
       "      <td>29.717307</td>\n",
       "    </tr>\n",
       "    <tr>\n",
       "      <th>2030-06-01</th>\n",
       "      <td>56</td>\n",
       "      <td>30.311653</td>\n",
       "    </tr>\n",
       "    <tr>\n",
       "      <th>2030-07-01</th>\n",
       "      <td>57</td>\n",
       "      <td>30.917886</td>\n",
       "    </tr>\n",
       "    <tr>\n",
       "      <th>2030-08-01</th>\n",
       "      <td>58</td>\n",
       "      <td>31.536244</td>\n",
       "    </tr>\n",
       "    <tr>\n",
       "      <th>2030-09-01</th>\n",
       "      <td>59</td>\n",
       "      <td>32.166969</td>\n",
       "    </tr>\n",
       "    <tr>\n",
       "      <th>2030-10-01</th>\n",
       "      <td>60</td>\n",
       "      <td>32.810308</td>\n",
       "    </tr>\n",
       "  </tbody>\n",
       "</table>\n",
       "</div>"
      ],
      "text/plain": [
       "             t     amount\n",
       "date                     \n",
       "2029-01-01  39  21.647448\n",
       "2029-02-01  40  22.080397\n",
       "2029-03-01  41  22.522005\n",
       "2029-04-01  42  22.972445\n",
       "2029-05-01  43  23.431894\n",
       "2029-06-01  44  23.900531\n",
       "2029-07-01  45  24.378542\n",
       "2029-08-01  46  24.866113\n",
       "2029-09-01  47  25.363435\n",
       "2029-10-01  48  25.870704\n",
       "2029-11-01  49  26.388118\n",
       "2029-12-01  50  26.915880\n",
       "2030-01-01  51  27.454198\n",
       "2030-02-01  52  28.003282\n",
       "2030-03-01  53  28.563347\n",
       "2030-04-01  54  29.134614\n",
       "2030-05-01  55  29.717307\n",
       "2030-06-01  56  30.311653\n",
       "2030-07-01  57  30.917886\n",
       "2030-08-01  58  31.536244\n",
       "2030-09-01  59  32.166969\n",
       "2030-10-01  60  32.810308"
      ]
     },
     "execution_count": 15,
     "metadata": {},
     "output_type": "execute_result"
    }
   ],
   "source": [
    "# Extract the values after the start of 2029\n",
    "account.loc[\"2029\":]"
   ]
  },
  {
   "cell_type": "code",
   "execution_count": 16,
   "metadata": {
    "id": "u9bNgPYYDji6"
   },
   "outputs": [
    {
     "data": {
      "application/vnd.microsoft.datawrangler.viewer.v0+json": {
       "columns": [
        {
         "name": "date",
         "rawType": "datetime64[ns]",
         "type": "datetime"
        },
        {
         "name": "t",
         "rawType": "int64",
         "type": "integer"
        },
        {
         "name": "amount",
         "rawType": "float64",
         "type": "float"
        }
       ],
       "ref": "e8043a7d-5fc6-4e58-972d-64b88ea7a312",
       "rows": [
        [
         "2025-10-01 00:00:00",
         "0",
         "10.0"
        ],
        [
         "2025-11-01 00:00:00",
         "1",
         "10.2"
        ],
        [
         "2025-12-01 00:00:00",
         "2",
         "10.404"
        ],
        [
         "2026-01-01 00:00:00",
         "3",
         "10.612080000000002"
        ],
        [
         "2026-02-01 00:00:00",
         "4",
         "10.8243216"
        ],
        [
         "2026-03-01 00:00:00",
         "5",
         "11.040808032000001"
        ],
        [
         "2026-04-01 00:00:00",
         "6",
         "11.261624192640001"
        ],
        [
         "2026-05-01 00:00:00",
         "7",
         "11.4868566764928"
        ],
        [
         "2026-06-01 00:00:00",
         "8",
         "11.716593810022658"
        ],
        [
         "2026-07-01 00:00:00",
         "9",
         "11.95092568622311"
        ],
        [
         "2026-08-01 00:00:00",
         "10",
         "12.189944199947574"
        ],
        [
         "2026-09-01 00:00:00",
         "11",
         "12.433743083946524"
        ],
        [
         "2026-10-01 00:00:00",
         "12",
         "12.682417945625454"
        ],
        [
         "2026-11-01 00:00:00",
         "13",
         "12.936066304537965"
        ],
        [
         "2026-12-01 00:00:00",
         "14",
         "13.194787630628724"
        ],
        [
         "2027-01-01 00:00:00",
         "15",
         "13.458683383241299"
        ],
        [
         "2027-02-01 00:00:00",
         "16",
         "13.727857050906124"
        ],
        [
         "2027-03-01 00:00:00",
         "17",
         "14.002414191924249"
        ],
        [
         "2027-04-01 00:00:00",
         "18",
         "14.282462475762735"
        ],
        [
         "2027-05-01 00:00:00",
         "19",
         "14.568111725277987"
        ],
        [
         "2027-06-01 00:00:00",
         "20",
         "14.85947395978355"
        ],
        [
         "2027-07-01 00:00:00",
         "21",
         "15.15666343897922"
        ],
        [
         "2027-08-01 00:00:00",
         "22",
         "15.459796707758803"
        ],
        [
         "2027-09-01 00:00:00",
         "23",
         "15.768992641913982"
        ]
       ],
       "shape": {
        "columns": 2,
        "rows": 24
       }
      },
      "text/html": [
       "<div>\n",
       "<style scoped>\n",
       "    .dataframe tbody tr th:only-of-type {\n",
       "        vertical-align: middle;\n",
       "    }\n",
       "\n",
       "    .dataframe tbody tr th {\n",
       "        vertical-align: top;\n",
       "    }\n",
       "\n",
       "    .dataframe thead th {\n",
       "        text-align: right;\n",
       "    }\n",
       "</style>\n",
       "<table border=\"1\" class=\"dataframe\">\n",
       "  <thead>\n",
       "    <tr style=\"text-align: right;\">\n",
       "      <th></th>\n",
       "      <th>t</th>\n",
       "      <th>amount</th>\n",
       "    </tr>\n",
       "    <tr>\n",
       "      <th>date</th>\n",
       "      <th></th>\n",
       "      <th></th>\n",
       "    </tr>\n",
       "  </thead>\n",
       "  <tbody>\n",
       "    <tr>\n",
       "      <th>2025-10-01</th>\n",
       "      <td>0</td>\n",
       "      <td>10.000000</td>\n",
       "    </tr>\n",
       "    <tr>\n",
       "      <th>2025-11-01</th>\n",
       "      <td>1</td>\n",
       "      <td>10.200000</td>\n",
       "    </tr>\n",
       "    <tr>\n",
       "      <th>2025-12-01</th>\n",
       "      <td>2</td>\n",
       "      <td>10.404000</td>\n",
       "    </tr>\n",
       "    <tr>\n",
       "      <th>2026-01-01</th>\n",
       "      <td>3</td>\n",
       "      <td>10.612080</td>\n",
       "    </tr>\n",
       "    <tr>\n",
       "      <th>2026-02-01</th>\n",
       "      <td>4</td>\n",
       "      <td>10.824322</td>\n",
       "    </tr>\n",
       "    <tr>\n",
       "      <th>2026-03-01</th>\n",
       "      <td>5</td>\n",
       "      <td>11.040808</td>\n",
       "    </tr>\n",
       "    <tr>\n",
       "      <th>2026-04-01</th>\n",
       "      <td>6</td>\n",
       "      <td>11.261624</td>\n",
       "    </tr>\n",
       "    <tr>\n",
       "      <th>2026-05-01</th>\n",
       "      <td>7</td>\n",
       "      <td>11.486857</td>\n",
       "    </tr>\n",
       "    <tr>\n",
       "      <th>2026-06-01</th>\n",
       "      <td>8</td>\n",
       "      <td>11.716594</td>\n",
       "    </tr>\n",
       "    <tr>\n",
       "      <th>2026-07-01</th>\n",
       "      <td>9</td>\n",
       "      <td>11.950926</td>\n",
       "    </tr>\n",
       "    <tr>\n",
       "      <th>2026-08-01</th>\n",
       "      <td>10</td>\n",
       "      <td>12.189944</td>\n",
       "    </tr>\n",
       "    <tr>\n",
       "      <th>2026-09-01</th>\n",
       "      <td>11</td>\n",
       "      <td>12.433743</td>\n",
       "    </tr>\n",
       "    <tr>\n",
       "      <th>2026-10-01</th>\n",
       "      <td>12</td>\n",
       "      <td>12.682418</td>\n",
       "    </tr>\n",
       "    <tr>\n",
       "      <th>2026-11-01</th>\n",
       "      <td>13</td>\n",
       "      <td>12.936066</td>\n",
       "    </tr>\n",
       "    <tr>\n",
       "      <th>2026-12-01</th>\n",
       "      <td>14</td>\n",
       "      <td>13.194788</td>\n",
       "    </tr>\n",
       "    <tr>\n",
       "      <th>2027-01-01</th>\n",
       "      <td>15</td>\n",
       "      <td>13.458683</td>\n",
       "    </tr>\n",
       "    <tr>\n",
       "      <th>2027-02-01</th>\n",
       "      <td>16</td>\n",
       "      <td>13.727857</td>\n",
       "    </tr>\n",
       "    <tr>\n",
       "      <th>2027-03-01</th>\n",
       "      <td>17</td>\n",
       "      <td>14.002414</td>\n",
       "    </tr>\n",
       "    <tr>\n",
       "      <th>2027-04-01</th>\n",
       "      <td>18</td>\n",
       "      <td>14.282462</td>\n",
       "    </tr>\n",
       "    <tr>\n",
       "      <th>2027-05-01</th>\n",
       "      <td>19</td>\n",
       "      <td>14.568112</td>\n",
       "    </tr>\n",
       "    <tr>\n",
       "      <th>2027-06-01</th>\n",
       "      <td>20</td>\n",
       "      <td>14.859474</td>\n",
       "    </tr>\n",
       "    <tr>\n",
       "      <th>2027-07-01</th>\n",
       "      <td>21</td>\n",
       "      <td>15.156663</td>\n",
       "    </tr>\n",
       "    <tr>\n",
       "      <th>2027-08-01</th>\n",
       "      <td>22</td>\n",
       "      <td>15.459797</td>\n",
       "    </tr>\n",
       "    <tr>\n",
       "      <th>2027-09-01</th>\n",
       "      <td>23</td>\n",
       "      <td>15.768993</td>\n",
       "    </tr>\n",
       "  </tbody>\n",
       "</table>\n",
       "</div>"
      ],
      "text/plain": [
       "             t     amount\n",
       "date                     \n",
       "2025-10-01   0  10.000000\n",
       "2025-11-01   1  10.200000\n",
       "2025-12-01   2  10.404000\n",
       "2026-01-01   3  10.612080\n",
       "2026-02-01   4  10.824322\n",
       "2026-03-01   5  11.040808\n",
       "2026-04-01   6  11.261624\n",
       "2026-05-01   7  11.486857\n",
       "2026-06-01   8  11.716594\n",
       "2026-07-01   9  11.950926\n",
       "2026-08-01  10  12.189944\n",
       "2026-09-01  11  12.433743\n",
       "2026-10-01  12  12.682418\n",
       "2026-11-01  13  12.936066\n",
       "2026-12-01  14  13.194788\n",
       "2027-01-01  15  13.458683\n",
       "2027-02-01  16  13.727857\n",
       "2027-03-01  17  14.002414\n",
       "2027-04-01  18  14.282462\n",
       "2027-05-01  19  14.568112\n",
       "2027-06-01  20  14.859474\n",
       "2027-07-01  21  15.156663\n",
       "2027-08-01  22  15.459797\n",
       "2027-09-01  23  15.768993"
      ]
     },
     "execution_count": 16,
     "metadata": {},
     "output_type": "execute_result"
    }
   ],
   "source": [
    "# Extract the values before (and including) 2027-09\n",
    "\n",
    "account.loc[:\"2027-09\"]"
   ]
  },
  {
   "cell_type": "code",
   "execution_count": 17,
   "metadata": {},
   "outputs": [
    {
     "data": {
      "application/vnd.microsoft.datawrangler.viewer.v0+json": {
       "columns": [
        {
         "name": "date",
         "rawType": "datetime64[ns]",
         "type": "datetime"
        },
        {
         "name": "t",
         "rawType": "int64",
         "type": "integer"
        },
        {
         "name": "amount",
         "rawType": "float64",
         "type": "float"
        }
       ],
       "ref": "85e0b60b-d832-4535-9b41-76854400b194",
       "rows": [
        [
         "2026-01-01 00:00:00",
         "3",
         "10.612080000000002"
        ],
        [
         "2026-02-01 00:00:00",
         "4",
         "10.8243216"
        ],
        [
         "2026-03-01 00:00:00",
         "5",
         "11.040808032000001"
        ],
        [
         "2026-04-01 00:00:00",
         "6",
         "11.261624192640001"
        ],
        [
         "2026-05-01 00:00:00",
         "7",
         "11.4868566764928"
        ],
        [
         "2026-06-01 00:00:00",
         "8",
         "11.716593810022658"
        ],
        [
         "2026-07-01 00:00:00",
         "9",
         "11.95092568622311"
        ],
        [
         "2026-08-01 00:00:00",
         "10",
         "12.189944199947574"
        ],
        [
         "2026-09-01 00:00:00",
         "11",
         "12.433743083946524"
        ],
        [
         "2026-10-01 00:00:00",
         "12",
         "12.682417945625454"
        ],
        [
         "2026-11-01 00:00:00",
         "13",
         "12.936066304537965"
        ],
        [
         "2026-12-01 00:00:00",
         "14",
         "13.194787630628724"
        ],
        [
         "2027-01-01 00:00:00",
         "15",
         "13.458683383241299"
        ],
        [
         "2027-02-01 00:00:00",
         "16",
         "13.727857050906124"
        ],
        [
         "2027-03-01 00:00:00",
         "17",
         "14.002414191924249"
        ],
        [
         "2027-04-01 00:00:00",
         "18",
         "14.282462475762735"
        ],
        [
         "2027-05-01 00:00:00",
         "19",
         "14.568111725277987"
        ],
        [
         "2027-06-01 00:00:00",
         "20",
         "14.85947395978355"
        ],
        [
         "2027-07-01 00:00:00",
         "21",
         "15.15666343897922"
        ],
        [
         "2027-08-01 00:00:00",
         "22",
         "15.459796707758803"
        ],
        [
         "2027-09-01 00:00:00",
         "23",
         "15.768992641913982"
        ],
        [
         "2027-10-01 00:00:00",
         "24",
         "16.084372494752262"
        ],
        [
         "2027-11-01 00:00:00",
         "25",
         "16.406059944647307"
        ],
        [
         "2027-12-01 00:00:00",
         "26",
         "16.73418114354025"
        ]
       ],
       "shape": {
        "columns": 2,
        "rows": 24
       }
      },
      "text/html": [
       "<div>\n",
       "<style scoped>\n",
       "    .dataframe tbody tr th:only-of-type {\n",
       "        vertical-align: middle;\n",
       "    }\n",
       "\n",
       "    .dataframe tbody tr th {\n",
       "        vertical-align: top;\n",
       "    }\n",
       "\n",
       "    .dataframe thead th {\n",
       "        text-align: right;\n",
       "    }\n",
       "</style>\n",
       "<table border=\"1\" class=\"dataframe\">\n",
       "  <thead>\n",
       "    <tr style=\"text-align: right;\">\n",
       "      <th></th>\n",
       "      <th>t</th>\n",
       "      <th>amount</th>\n",
       "    </tr>\n",
       "    <tr>\n",
       "      <th>date</th>\n",
       "      <th></th>\n",
       "      <th></th>\n",
       "    </tr>\n",
       "  </thead>\n",
       "  <tbody>\n",
       "    <tr>\n",
       "      <th>2026-01-01</th>\n",
       "      <td>3</td>\n",
       "      <td>10.612080</td>\n",
       "    </tr>\n",
       "    <tr>\n",
       "      <th>2026-02-01</th>\n",
       "      <td>4</td>\n",
       "      <td>10.824322</td>\n",
       "    </tr>\n",
       "    <tr>\n",
       "      <th>2026-03-01</th>\n",
       "      <td>5</td>\n",
       "      <td>11.040808</td>\n",
       "    </tr>\n",
       "    <tr>\n",
       "      <th>2026-04-01</th>\n",
       "      <td>6</td>\n",
       "      <td>11.261624</td>\n",
       "    </tr>\n",
       "    <tr>\n",
       "      <th>2026-05-01</th>\n",
       "      <td>7</td>\n",
       "      <td>11.486857</td>\n",
       "    </tr>\n",
       "    <tr>\n",
       "      <th>2026-06-01</th>\n",
       "      <td>8</td>\n",
       "      <td>11.716594</td>\n",
       "    </tr>\n",
       "    <tr>\n",
       "      <th>2026-07-01</th>\n",
       "      <td>9</td>\n",
       "      <td>11.950926</td>\n",
       "    </tr>\n",
       "    <tr>\n",
       "      <th>2026-08-01</th>\n",
       "      <td>10</td>\n",
       "      <td>12.189944</td>\n",
       "    </tr>\n",
       "    <tr>\n",
       "      <th>2026-09-01</th>\n",
       "      <td>11</td>\n",
       "      <td>12.433743</td>\n",
       "    </tr>\n",
       "    <tr>\n",
       "      <th>2026-10-01</th>\n",
       "      <td>12</td>\n",
       "      <td>12.682418</td>\n",
       "    </tr>\n",
       "    <tr>\n",
       "      <th>2026-11-01</th>\n",
       "      <td>13</td>\n",
       "      <td>12.936066</td>\n",
       "    </tr>\n",
       "    <tr>\n",
       "      <th>2026-12-01</th>\n",
       "      <td>14</td>\n",
       "      <td>13.194788</td>\n",
       "    </tr>\n",
       "    <tr>\n",
       "      <th>2027-01-01</th>\n",
       "      <td>15</td>\n",
       "      <td>13.458683</td>\n",
       "    </tr>\n",
       "    <tr>\n",
       "      <th>2027-02-01</th>\n",
       "      <td>16</td>\n",
       "      <td>13.727857</td>\n",
       "    </tr>\n",
       "    <tr>\n",
       "      <th>2027-03-01</th>\n",
       "      <td>17</td>\n",
       "      <td>14.002414</td>\n",
       "    </tr>\n",
       "    <tr>\n",
       "      <th>2027-04-01</th>\n",
       "      <td>18</td>\n",
       "      <td>14.282462</td>\n",
       "    </tr>\n",
       "    <tr>\n",
       "      <th>2027-05-01</th>\n",
       "      <td>19</td>\n",
       "      <td>14.568112</td>\n",
       "    </tr>\n",
       "    <tr>\n",
       "      <th>2027-06-01</th>\n",
       "      <td>20</td>\n",
       "      <td>14.859474</td>\n",
       "    </tr>\n",
       "    <tr>\n",
       "      <th>2027-07-01</th>\n",
       "      <td>21</td>\n",
       "      <td>15.156663</td>\n",
       "    </tr>\n",
       "    <tr>\n",
       "      <th>2027-08-01</th>\n",
       "      <td>22</td>\n",
       "      <td>15.459797</td>\n",
       "    </tr>\n",
       "    <tr>\n",
       "      <th>2027-09-01</th>\n",
       "      <td>23</td>\n",
       "      <td>15.768993</td>\n",
       "    </tr>\n",
       "    <tr>\n",
       "      <th>2027-10-01</th>\n",
       "      <td>24</td>\n",
       "      <td>16.084372</td>\n",
       "    </tr>\n",
       "    <tr>\n",
       "      <th>2027-11-01</th>\n",
       "      <td>25</td>\n",
       "      <td>16.406060</td>\n",
       "    </tr>\n",
       "    <tr>\n",
       "      <th>2027-12-01</th>\n",
       "      <td>26</td>\n",
       "      <td>16.734181</td>\n",
       "    </tr>\n",
       "  </tbody>\n",
       "</table>\n",
       "</div>"
      ],
      "text/plain": [
       "             t     amount\n",
       "date                     \n",
       "2026-01-01   3  10.612080\n",
       "2026-02-01   4  10.824322\n",
       "2026-03-01   5  11.040808\n",
       "2026-04-01   6  11.261624\n",
       "2026-05-01   7  11.486857\n",
       "2026-06-01   8  11.716594\n",
       "2026-07-01   9  11.950926\n",
       "2026-08-01  10  12.189944\n",
       "2026-09-01  11  12.433743\n",
       "2026-10-01  12  12.682418\n",
       "2026-11-01  13  12.936066\n",
       "2026-12-01  14  13.194788\n",
       "2027-01-01  15  13.458683\n",
       "2027-02-01  16  13.727857\n",
       "2027-03-01  17  14.002414\n",
       "2027-04-01  18  14.282462\n",
       "2027-05-01  19  14.568112\n",
       "2027-06-01  20  14.859474\n",
       "2027-07-01  21  15.156663\n",
       "2027-08-01  22  15.459797\n",
       "2027-09-01  23  15.768993\n",
       "2027-10-01  24  16.084372\n",
       "2027-11-01  25  16.406060\n",
       "2027-12-01  26  16.734181"
      ]
     },
     "execution_count": 17,
     "metadata": {},
     "output_type": "execute_result"
    }
   ],
   "source": [
    "# Extract the values between for 2026 and 2027\n",
    "\n",
    "account.loc[\"2026\":\"2027\"]"
   ]
  },
  {
   "cell_type": "code",
   "execution_count": 18,
   "metadata": {
    "id": "YTzG74SxDji6",
    "outputId": "06689d5b-8bbf-4a76-e44e-f85e5f0b299b"
   },
   "outputs": [
    {
     "data": {
      "application/vnd.microsoft.datawrangler.viewer.v0+json": {
       "columns": [
        {
         "name": "date",
         "rawType": "datetime64[ns]",
         "type": "datetime"
        },
        {
         "name": "amount",
         "rawType": "float64",
         "type": "float"
        }
       ],
       "ref": "d509ef32-07a5-44c9-8137-e33ea6924040",
       "rows": [
        [
         "2025-12-31 00:00:00",
         "10.201333333333332"
        ],
        [
         "2026-03-31 00:00:00",
         "10.825736544000002"
        ],
        [
         "2026-06-30 00:00:00",
         "11.488358226385154"
        ],
        [
         "2026-09-30 00:00:00",
         "12.191537656705735"
        ],
        [
         "2026-12-31 00:00:00",
         "12.93775729359738"
        ],
        [
         "2027-03-31 00:00:00",
         "13.72965154202389"
        ],
        [
         "2027-06-30 00:00:00",
         "14.570016053608091"
        ],
        [
         "2027-09-30 00:00:00",
         "15.461817596217335"
        ],
        [
         "2027-12-31 00:00:00",
         "16.408204527646607"
        ],
        [
         "2028-03-31 00:00:00",
         "17.412517910374802"
        ],
        [
         "2028-06-30 00:00:00",
         "18.478303306633023"
        ],
        [
         "2028-09-30 00:00:00",
         "19.60932329542542"
        ],
        [
         "2028-12-31 00:00:00",
         "20.80957075569182"
        ],
        [
         "2029-03-31 00:00:00",
         "22.083282962506203"
        ],
        [
         "2029-06-30 00:00:00",
         "23.434956546075284"
        ],
        [
         "2029-09-30 00:00:00",
         "24.86936336634746"
        ],
        [
         "2029-12-31 00:00:00",
         "26.39156735927486"
        ],
        [
         "2030-03-31 00:00:00",
         "28.006942414201358"
        ],
        [
         "2030-06-30 00:00:00",
         "29.721191345489796"
        ],
        [
         "2030-09-30 00:00:00",
         "31.540366025364534"
        ],
        [
         "2030-12-31 00:00:00",
         "32.81030788365415"
        ]
       ],
       "shape": {
        "columns": 1,
        "rows": 21
       }
      },
      "text/plain": [
       "date\n",
       "2025-12-31    10.201333\n",
       "2026-03-31    10.825737\n",
       "2026-06-30    11.488358\n",
       "2026-09-30    12.191538\n",
       "2026-12-31    12.937757\n",
       "2027-03-31    13.729652\n",
       "2027-06-30    14.570016\n",
       "2027-09-30    15.461818\n",
       "2027-12-31    16.408205\n",
       "2028-03-31    17.412518\n",
       "2028-06-30    18.478303\n",
       "2028-09-30    19.609323\n",
       "2028-12-31    20.809571\n",
       "2029-03-31    22.083283\n",
       "2029-06-30    23.434957\n",
       "2029-09-30    24.869363\n",
       "2029-12-31    26.391567\n",
       "2030-03-31    28.006942\n",
       "2030-06-30    29.721191\n",
       "2030-09-30    31.540366\n",
       "2030-12-31    32.810308\n",
       "Freq: QE-DEC, Name: amount, dtype: float64"
      ]
     },
     "execution_count": 18,
     "metadata": {},
     "output_type": "execute_result"
    }
   ],
   "source": [
    "# Quarterly average (resample to quarter and compute the average)\n",
    "\n",
    "account[\"amount\"].resample(\"QE\").mean()"
   ]
  },
  {
   "cell_type": "code",
   "execution_count": 19,
   "metadata": {
    "id": "vVZFPZ-1Dji6",
    "outputId": "09fd7b7c-05e1-4dfb-cf1e-3735989e75cf"
   },
   "outputs": [
    {
     "data": {
      "application/vnd.microsoft.datawrangler.viewer.v0+json": {
       "columns": [
        {
         "name": "date",
         "rawType": "datetime64[ns]",
         "type": "datetime"
        },
        {
         "name": "amount",
         "rawType": "float64",
         "type": "float"
        }
       ],
       "ref": "19f301e4-57c3-454c-b624-acb1c853fe19",
       "rows": [
        [
         "2025-10-01 00:00:00",
         null
        ],
        [
         "2025-11-01 00:00:00",
         null
        ],
        [
         "2025-12-01 00:00:00",
         null
        ],
        [
         "2026-01-01 00:00:00",
         null
        ],
        [
         "2026-02-01 00:00:00",
         null
        ],
        [
         "2026-03-01 00:00:00",
         null
        ],
        [
         "2026-04-01 00:00:00",
         null
        ],
        [
         "2026-05-01 00:00:00",
         null
        ],
        [
         "2026-06-01 00:00:00",
         null
        ],
        [
         "2026-07-01 00:00:00",
         null
        ],
        [
         "2026-08-01 00:00:00",
         null
        ],
        [
         "2026-09-01 00:00:00",
         "11.176741440106056"
        ],
        [
         "2026-10-01 00:00:00",
         "11.400276268908177"
        ],
        [
         "2026-11-01 00:00:00",
         "11.62828179428634"
        ],
        [
         "2026-12-01 00:00:00",
         "11.860847430172067"
        ],
        [
         "2027-01-01 00:00:00",
         "12.09806437877551"
        ],
        [
         "2027-02-01 00:00:00",
         "12.34002566635102"
        ],
        [
         "2027-03-01 00:00:00",
         "12.58682617967804"
        ],
        [
         "2027-04-01 00:00:00",
         "12.8385627032716"
        ],
        [
         "2027-05-01 00:00:00",
         "13.095333957337033"
        ],
        [
         "2027-06-01 00:00:00",
         "13.357240636483773"
        ],
        [
         "2027-07-01 00:00:00",
         "13.62438544921345"
        ],
        [
         "2027-08-01 00:00:00",
         "13.896873158197721"
        ],
        [
         "2027-09-01 00:00:00",
         "14.174810621361674"
        ],
        [
         "2027-10-01 00:00:00",
         "14.458306833788908"
        ],
        [
         "2027-11-01 00:00:00",
         "14.747472970464687"
        ],
        [
         "2027-12-01 00:00:00",
         "15.04242242987398"
        ],
        [
         "2028-01-01 00:00:00",
         "15.343270878471463"
        ],
        [
         "2028-02-01 00:00:00",
         "15.65013629604089"
        ],
        [
         "2028-03-01 00:00:00",
         "15.963139021961709"
        ],
        [
         "2028-04-01 00:00:00",
         "16.282401802400944"
        ],
        [
         "2028-05-01 00:00:00",
         "16.608049838448963"
        ],
        [
         "2028-06-01 00:00:00",
         "16.940210835217943"
        ],
        [
         "2028-07-01 00:00:00",
         "17.2790150519223"
        ],
        [
         "2028-08-01 00:00:00",
         "17.624595352960746"
        ],
        [
         "2028-09-01 00:00:00",
         "17.977087260019964"
        ],
        [
         "2028-10-01 00:00:00",
         "18.336629005220363"
        ],
        [
         "2028-11-01 00:00:00",
         "18.70336158532477"
        ],
        [
         "2028-12-01 00:00:00",
         "19.077428817031265"
        ],
        [
         "2029-01-01 00:00:00",
         "19.458977393371892"
        ],
        [
         "2029-02-01 00:00:00",
         "19.848156941239328"
        ],
        [
         "2029-03-01 00:00:00",
         "20.245120080064115"
        ],
        [
         "2029-04-01 00:00:00",
         "20.6500224816654"
        ],
        [
         "2029-05-01 00:00:00",
         "21.063022931298704"
        ],
        [
         "2029-06-01 00:00:00",
         "21.48428338992468"
        ],
        [
         "2029-07-01 00:00:00",
         "21.913969057723175"
        ],
        [
         "2029-08-01 00:00:00",
         "22.352248438877638"
        ],
        [
         "2029-09-01 00:00:00",
         "22.79929340765519"
        ],
        [
         "2029-10-01 00:00:00",
         "23.255279275808295"
        ],
        [
         "2029-11-01 00:00:00",
         "23.72038486132446"
        ]
       ],
       "shape": {
        "columns": 1,
        "rows": 61
       }
      },
      "text/plain": [
       "date\n",
       "2025-10-01          NaN\n",
       "2025-11-01          NaN\n",
       "2025-12-01          NaN\n",
       "2026-01-01          NaN\n",
       "2026-02-01          NaN\n",
       "                ...    \n",
       "2030-06-01    27.247266\n",
       "2030-07-01    27.792211\n",
       "2030-08-01    28.348056\n",
       "2030-09-01    28.915017\n",
       "2030-10-01    29.493317\n",
       "Freq: MS, Name: amount, Length: 61, dtype: float64"
      ]
     },
     "execution_count": 19,
     "metadata": {},
     "output_type": "execute_result"
    }
   ],
   "source": [
    "# Rolling average over a 12-month window, aligned to the right\n",
    "\n",
    "account[\"amount\"].rolling(window=12, min_periods=12).mean()"
   ]
  },
  {
   "cell_type": "markdown",
   "metadata": {
    "id": "fBHz9b0nDji6"
   },
   "source": [
    "## Rate of Change\n",
    "\n",
    "A central theme in this course will be the study of _change_ in time series. We will work with mainly three measures of change:\n",
    "\n",
    "1. The absolute change $x_t - x_{t-1}$ (if we think about $x_t$ as the value today, then $x_{t-1}$ is the value yesterday (or the previous month in this particular case)).\n",
    "   because we will refer often to this measure, we will use a special shorthand notation for it:\n",
    "\n",
    "    $$\n",
    "    \\Delta x_t = x_t - x_{t-1}\n",
    "    $$\n",
    "\n",
    "    and we will call it the *first difference* of the series $x_t$. We will call $x_{t - 1}$ the *first lag* of the series $x_t$. We can also refer to it as the value of the series yesterday (if $t$ is measured in days), last month (if $t$ is measured in months), etc.\n",
    "\n",
    "2. The relative change\n",
    "    $$\n",
    "    r_t = \\frac{x_t - x_{t-1}}{x_{t-1}}\n",
    "    $$\n",
    "    \n",
    "    which is the absolute change relative to the previous value. This measure is often expressed in percentage points (i.e. multiplied by 100).\n",
    "    This measure is often called the *rate of change* or the *growth rate* of the series $x_t$.\n",
    "    In financial applications this measure is often called the return of the series $x_t$.\n",
    "\n",
    "3. The logarithmic difference\n",
    "    $$\n",
    "    \\log(x_t) - \\log(x_{t-1}) \\approx r_t\n",
    "    $$\n",
    "    \n",
    "    which is the difference of the logarithms of the two values. This measure is often called the *log return* or the *continuously compounded return* of an asset if $x_t$ is the asset's value. Note that\n",
    "    this generally makes sense only for positive values of $x_t$ as the logarithm is not defined for non-positive values (including zero).\n"
   ]
  },
  {
   "cell_type": "code",
   "execution_count": 20,
   "metadata": {
    "id": "mJ2pPgbpDji6"
   },
   "outputs": [
    {
     "data": {
      "application/vnd.microsoft.datawrangler.viewer.v0+json": {
       "columns": [
        {
         "name": "date",
         "rawType": "datetime64[ns]",
         "type": "datetime"
        },
        {
         "name": "t",
         "rawType": "int64",
         "type": "integer"
        },
        {
         "name": "amount",
         "rawType": "float64",
         "type": "float"
        },
        {
         "name": "lag_1",
         "rawType": "float64",
         "type": "float"
        },
        {
         "name": "diff",
         "rawType": "float64",
         "type": "float"
        },
        {
         "name": "return",
         "rawType": "float64",
         "type": "float"
        },
        {
         "name": "log_return",
         "rawType": "float64",
         "type": "float"
        }
       ],
       "ref": "311998a3-6ad1-4469-817c-5d536db710ed",
       "rows": [
        [
         "2025-10-01 00:00:00",
         "0",
         "10.0",
         null,
         null,
         null,
         null
        ],
        [
         "2025-11-01 00:00:00",
         "1",
         "10.2",
         "10.0",
         "0.1999999999999993",
         "0.02",
         "0.0198"
        ],
        [
         "2025-12-01 00:00:00",
         "2",
         "10.404",
         "10.2",
         "0.20400000000000063",
         "0.02",
         "0.0198"
        ],
        [
         "2026-01-01 00:00:00",
         "3",
         "10.612080000000002",
         "10.404",
         "0.20808000000000249",
         "0.02",
         "0.0198"
        ],
        [
         "2026-02-01 00:00:00",
         "4",
         "10.8243216",
         "10.612080000000002",
         "0.21224159999999692",
         "0.02",
         "0.0198"
        ]
       ],
       "shape": {
        "columns": 6,
        "rows": 5
       }
      },
      "text/html": [
       "<div>\n",
       "<style scoped>\n",
       "    .dataframe tbody tr th:only-of-type {\n",
       "        vertical-align: middle;\n",
       "    }\n",
       "\n",
       "    .dataframe tbody tr th {\n",
       "        vertical-align: top;\n",
       "    }\n",
       "\n",
       "    .dataframe thead th {\n",
       "        text-align: right;\n",
       "    }\n",
       "</style>\n",
       "<table border=\"1\" class=\"dataframe\">\n",
       "  <thead>\n",
       "    <tr style=\"text-align: right;\">\n",
       "      <th></th>\n",
       "      <th>t</th>\n",
       "      <th>amount</th>\n",
       "      <th>lag_1</th>\n",
       "      <th>diff</th>\n",
       "      <th>return</th>\n",
       "      <th>log_return</th>\n",
       "    </tr>\n",
       "    <tr>\n",
       "      <th>date</th>\n",
       "      <th></th>\n",
       "      <th></th>\n",
       "      <th></th>\n",
       "      <th></th>\n",
       "      <th></th>\n",
       "      <th></th>\n",
       "    </tr>\n",
       "  </thead>\n",
       "  <tbody>\n",
       "    <tr>\n",
       "      <th>2025-10-01</th>\n",
       "      <td>0</td>\n",
       "      <td>10.000000</td>\n",
       "      <td>NaN</td>\n",
       "      <td>NaN</td>\n",
       "      <td>NaN</td>\n",
       "      <td>NaN</td>\n",
       "    </tr>\n",
       "    <tr>\n",
       "      <th>2025-11-01</th>\n",
       "      <td>1</td>\n",
       "      <td>10.200000</td>\n",
       "      <td>10.00000</td>\n",
       "      <td>0.200000</td>\n",
       "      <td>0.02</td>\n",
       "      <td>0.0198</td>\n",
       "    </tr>\n",
       "    <tr>\n",
       "      <th>2025-12-01</th>\n",
       "      <td>2</td>\n",
       "      <td>10.404000</td>\n",
       "      <td>10.20000</td>\n",
       "      <td>0.204000</td>\n",
       "      <td>0.02</td>\n",
       "      <td>0.0198</td>\n",
       "    </tr>\n",
       "    <tr>\n",
       "      <th>2026-01-01</th>\n",
       "      <td>3</td>\n",
       "      <td>10.612080</td>\n",
       "      <td>10.40400</td>\n",
       "      <td>0.208080</td>\n",
       "      <td>0.02</td>\n",
       "      <td>0.0198</td>\n",
       "    </tr>\n",
       "    <tr>\n",
       "      <th>2026-02-01</th>\n",
       "      <td>4</td>\n",
       "      <td>10.824322</td>\n",
       "      <td>10.61208</td>\n",
       "      <td>0.212242</td>\n",
       "      <td>0.02</td>\n",
       "      <td>0.0198</td>\n",
       "    </tr>\n",
       "  </tbody>\n",
       "</table>\n",
       "</div>"
      ],
      "text/plain": [
       "            t     amount     lag_1      diff  return  log_return\n",
       "date                                                            \n",
       "2025-10-01  0  10.000000       NaN       NaN     NaN         NaN\n",
       "2025-11-01  1  10.200000  10.00000  0.200000    0.02      0.0198\n",
       "2025-12-01  2  10.404000  10.20000  0.204000    0.02      0.0198\n",
       "2026-01-01  3  10.612080  10.40400  0.208080    0.02      0.0198\n",
       "2026-02-01  4  10.824322  10.61208  0.212242    0.02      0.0198"
      ]
     },
     "execution_count": 20,
     "metadata": {},
     "output_type": "execute_result"
    }
   ],
   "source": [
    "# Calculate returns and log-returns\n",
    "account[\"lag_1\"] = account[\"amount\"].shift(1)\n",
    "\n",
    "# Subtract the previous value from the current value\n",
    "# NOTE that this is done in the order of the data so it needs to be sorted by date\n",
    "# otherwise the difference will be something else, most likely not what you want\n",
    "\n",
    "account[\"diff\"] = account[\"amount\"].diff()\n",
    "\n",
    "# Calculate the simple return (which is the percentage change)\n",
    "\n",
    "account[\"return\"] = account[\"amount\"].pct_change().round(5)  # (x_t - x_{t-1})/x_{t-1}\n",
    "\n",
    "account[\"log_return\"] = np.log(account[\"amount\"]).diff().round(5)\n",
    "\n",
    "account.head()"
   ]
  },
  {
   "cell_type": "code",
   "execution_count": 21,
   "metadata": {
    "id": "C18ttBIeDji6",
    "outputId": "a449c40f-4424-4ecf-c845-e1c53ed5837b"
   },
   "outputs": [
    {
     "data": {
      "image/png": "[encoded data removed]",
      "text/plain": [
       "<Figure size 1000x1200 with 3 Axes>"
      ]
     },
     "metadata": {},
     "output_type": "display_data"
    }
   ],
   "source": [
    "# Plot level, log-returns, and returns\n",
    "\n",
    "fig, axes = plt.subplots(3, 1, figsize=(10, 12), sharex=True)\n",
    "\n",
    "account[\"amount\"].plot(ax=axes[0], title=\"Geometric Series and Returns\")\n",
    "axes[0].set_ylabel(r\"$x_t$\")\n",
    "\n",
    "account[\"log_return\"].plot(ax=axes[1], color=\"tab:orange\", title=\"Log-Returns of Geometric Series\")\n",
    "axes[1].set_ylabel(\"log-returns\")\n",
    "\n",
    "account[\"return\"].plot(ax=axes[2], color=\"tab:green\", title=\"Returns of Geometric Series\")\n",
    "axes[2].set_ylabel(\"returns\")\n",
    "\n",
    "plt.tight_layout()"
   ]
  },
  {
   "cell_type": "markdown",
   "metadata": {
    "id": "q-2vDMeuDji6"
   },
   "source": [
    "## Noisy Time Series\n",
    "\n",
    "Let's assume that you deposit (or withdraw) a random amount of money every month, for example between -5 and +5 USD, reflecting your monthly expenses and income.\n",
    "On average, you expect to deposit 0 USD per month.\n",
    "Let's assume that every amount is equally likely (uniform distribution) and that the distribution of deposits/withdrawals does not change over time.\n",
    "In other words we assume that the deposits/withdrawals are i.i.d. (independent and identically distributed) random variables.\n",
    "\n",
    "The independent assumption means that the distribution of the deposit/withdrawal at time $t$ does not depend on the deposits/withdrawals at previous times.\n",
    "For example, if you withdrew a large amount of money in some month (to buy a car for example) and then you\n",
    "decide that you need to save more in the months after to\n",
    "compensate for the withdrawal, then the deposits/withdrawals would not be independent.\n",
    "\n",
    "The model for your bank account balance is now:\n",
    "\n",
    "$$\n",
    "\\begin{align}\n",
    "x_t & = (1 + 0.02)x_{t - 1} + \\epsilon_t,\\quad x_0 = 10 \\\\\n",
    "\\epsilon_t & \\sim \\text{i.i.d. } U(-5, 5)\n",
    "\\end{align}\n",
    "$$\n",
    "\n",
    "where $\\epsilon_t$ is a random variable representing the random deposit (positive values) or withdrawal (negative values) in month $t$.\n",
    "\n",
    "For simplicity, we assume that your bank account balance can go negative (i.e. you can have an overdraft) and that the\n",
    "interest is paid on the negative balance as well (i.e. you pay the bank for the credit)."
   ]
  },
  {
   "cell_type": "code",
   "execution_count": 22,
   "metadata": {},
   "outputs": [
    {
     "data": {
      "application/vnd.microsoft.datawrangler.viewer.v0+json": {
       "columns": [
        {
         "name": "date",
         "rawType": "datetime64[ns]",
         "type": "datetime"
        },
        {
         "name": "t",
         "rawType": "int64",
         "type": "integer"
        },
        {
         "name": "amount",
         "rawType": "float64",
         "type": "float"
        },
        {
         "name": "lag_1",
         "rawType": "float64",
         "type": "float"
        },
        {
         "name": "diff",
         "rawType": "float64",
         "type": "float"
        },
        {
         "name": "return",
         "rawType": "float64",
         "type": "float"
        },
        {
         "name": "log_return",
         "rawType": "float64",
         "type": "float"
        },
        {
         "name": "noise",
         "rawType": "float64",
         "type": "float"
        },
        {
         "name": "amount_noisy",
         "rawType": "float64",
         "type": "float"
        }
       ],
       "ref": "dd8722d4-fa57-4922-ad03-aaab1e1ffb3b",
       "rows": [
        [
         "2025-10-01 00:00:00",
         "0",
         "10.0",
         null,
         null,
         null,
         null,
         "3.632541753140412",
         "13.632541753140412"
        ],
        [
         "2025-11-01 00:00:00",
         "1",
         "10.2",
         "10.0",
         "0.1999999999999993",
         "0.02",
         "0.0198",
         "-1.5570404285114003",
         "12.348152159691821"
        ],
        [
         "2025-12-01 00:00:00",
         "2",
         "10.404",
         "10.2",
         "0.20400000000000063",
         "0.02",
         "0.0198",
         "3.0069884512957863",
         "15.602103654181445"
        ],
        [
         "2026-01-01 00:00:00",
         "3",
         "10.612080000000002",
         "10.404",
         "0.20808000000000249",
         "0.02",
         "0.0198",
         "-2.0679970304136663",
         "13.846148696851408"
        ],
        [
         "2026-02-01 00:00:00",
         "4",
         "10.8243216",
         "10.612080000000002",
         "0.21224159999999692",
         "0.02",
         "0.0198",
         "1.7318337349356137",
         "15.85490540572405"
        ]
       ],
       "shape": {
        "columns": 8,
        "rows": 5
       }
      },
      "text/html": [
       "<div>\n",
       "<style scoped>\n",
       "    .dataframe tbody tr th:only-of-type {\n",
       "        vertical-align: middle;\n",
       "    }\n",
       "\n",
       "    .dataframe tbody tr th {\n",
       "        vertical-align: top;\n",
       "    }\n",
       "\n",
       "    .dataframe thead th {\n",
       "        text-align: right;\n",
       "    }\n",
       "</style>\n",
       "<table border=\"1\" class=\"dataframe\">\n",
       "  <thead>\n",
       "    <tr style=\"text-align: right;\">\n",
       "      <th></th>\n",
       "      <th>t</th>\n",
       "      <th>amount</th>\n",
       "      <th>lag_1</th>\n",
       "      <th>diff</th>\n",
       "      <th>return</th>\n",
       "      <th>log_return</th>\n",
       "      <th>noise</th>\n",
       "      <th>amount_noisy</th>\n",
       "    </tr>\n",
       "    <tr>\n",
       "      <th>date</th>\n",
       "      <th></th>\n",
       "      <th></th>\n",
       "      <th></th>\n",
       "      <th></th>\n",
       "      <th></th>\n",
       "      <th></th>\n",
       "      <th></th>\n",
       "      <th></th>\n",
       "    </tr>\n",
       "  </thead>\n",
       "  <tbody>\n",
       "    <tr>\n",
       "      <th>2025-10-01</th>\n",
       "      <td>0</td>\n",
       "      <td>10.000000</td>\n",
       "      <td>NaN</td>\n",
       "      <td>NaN</td>\n",
       "      <td>NaN</td>\n",
       "      <td>NaN</td>\n",
       "      <td>3.632542</td>\n",
       "      <td>13.632542</td>\n",
       "    </tr>\n",
       "    <tr>\n",
       "      <th>2025-11-01</th>\n",
       "      <td>1</td>\n",
       "      <td>10.200000</td>\n",
       "      <td>10.00000</td>\n",
       "      <td>0.200000</td>\n",
       "      <td>0.02</td>\n",
       "      <td>0.0198</td>\n",
       "      <td>-1.557040</td>\n",
       "      <td>12.348152</td>\n",
       "    </tr>\n",
       "    <tr>\n",
       "      <th>2025-12-01</th>\n",
       "      <td>2</td>\n",
       "      <td>10.404000</td>\n",
       "      <td>10.20000</td>\n",
       "      <td>0.204000</td>\n",
       "      <td>0.02</td>\n",
       "      <td>0.0198</td>\n",
       "      <td>3.006988</td>\n",
       "      <td>15.602104</td>\n",
       "    </tr>\n",
       "    <tr>\n",
       "      <th>2026-01-01</th>\n",
       "      <td>3</td>\n",
       "      <td>10.612080</td>\n",
       "      <td>10.40400</td>\n",
       "      <td>0.208080</td>\n",
       "      <td>0.02</td>\n",
       "      <td>0.0198</td>\n",
       "      <td>-2.067997</td>\n",
       "      <td>13.846149</td>\n",
       "    </tr>\n",
       "    <tr>\n",
       "      <th>2026-02-01</th>\n",
       "      <td>4</td>\n",
       "      <td>10.824322</td>\n",
       "      <td>10.61208</td>\n",
       "      <td>0.212242</td>\n",
       "      <td>0.02</td>\n",
       "      <td>0.0198</td>\n",
       "      <td>1.731834</td>\n",
       "      <td>15.854905</td>\n",
       "    </tr>\n",
       "  </tbody>\n",
       "</table>\n",
       "</div>"
      ],
      "text/plain": [
       "            t     amount     lag_1      diff  return  log_return     noise  \\\n",
       "date                                                                         \n",
       "2025-10-01  0  10.000000       NaN       NaN     NaN         NaN  3.632542   \n",
       "2025-11-01  1  10.200000  10.00000  0.200000    0.02      0.0198 -1.557040   \n",
       "2025-12-01  2  10.404000  10.20000  0.204000    0.02      0.0198  3.006988   \n",
       "2026-01-01  3  10.612080  10.40400  0.208080    0.02      0.0198 -2.067997   \n",
       "2026-02-01  4  10.824322  10.61208  0.212242    0.02      0.0198  1.731834   \n",
       "\n",
       "            amount_noisy  \n",
       "date                      \n",
       "2025-09-01     13.632542  \n",
       "2025-10-01     12.348152  \n",
       "2025-11-01     15.602104  \n",
       "2025-12-01     13.846149  \n",
       "2026-01-01     15.854905  "
      ]
     },
     "execution_count": 22,
     "metadata": {},
     "output_type": "execute_result"
    }
   ],
   "source": [
    "# Set the random seed for reproducibility\n",
    "\n",
    "np.random.seed(41232)\n",
    "\n",
    "noise = np.random.uniform(-5, 5, size=len(account))\n",
    "\n",
    "account[\"noise\"] = noise\n",
    "\n",
    "amount_noisy = np.zeros(len(account))\n",
    "\n",
    "for i in range(len(account)):\n",
    "    if i == 0:\n",
    "        amount_noisy[i] = account[\"amount\"].iloc[i] + account[\"noise\"].iloc[i]\n",
    "    else:\n",
    "        amount_noisy[i] = amount_noisy[i - 1] * 1.02 + account[\"noise\"].iloc[i]\n",
    "\n",
    "\n",
    "account[\"amount_noisy\"] = amount_noisy\n",
    "account.head()"
   ]
  },
  {
   "cell_type": "code",
   "execution_count": 23,
   "metadata": {},
   "outputs": [
    {
     "data": {
      "text/plain": [
       "<Axes: xlabel='date'>"
      ]
     },
     "execution_count": 23,
     "metadata": {},
     "output_type": "execute_result"
    },
    {
     "data": {
      "image/png": "[encoded data removed]",
      "text/plain": [
       "<Figure size 640x480 with 1 Axes>"
      ]
     },
     "metadata": {},
     "output_type": "display_data"
    }
   ],
   "source": [
    "account[[\"amount\", \"amount_noisy\"]].plot()"
   ]
  },
  {
   "cell_type": "markdown",
   "metadata": {
    "id": "4TfURWZkDji6"
   },
   "source": [
    "## Forecasting\n",
    "\n",
    "A main goal of this course is to learn how to forecast future values of a time series based on its past values. This is especially\n",
    "important in all areas of business and economics. For example, a company might want to forecast future sales to plan its production and inventory\n",
    "or a central bank needs to forecast inflation to set its monetary policy.\n",
    "\n",
    "In the case of the deterministic series we could simply use the formula in equation {eq-geom-series} to compute the future values of the series.\n",
    "And we will be able to forecast the future values of the series without error. With the noisy series, however, every forecast will be subject to some error.\n",
    "\n",
    "## The Naive Forecast\n",
    "\n",
    "The simplest forecast is the so-called *naive forecast*. You just take the last observed value of the series and this is your forecast for all future values.\n"
   ]
  },
  {
   "cell_type": "code",
   "execution_count": 24,
   "metadata": {
    "id": "tIlQLMy8Dji6",
    "outputId": "8357e9dd-19a4-43e8-9f62-8aae64f08283"
   },
   "outputs": [
    {
     "data": {
      "application/vnd.microsoft.datawrangler.viewer.v0+json": {
       "columns": [
        {
         "name": "date",
         "rawType": "datetime64[ns]",
         "type": "datetime"
        },
        {
         "name": "amount_noisy",
         "rawType": "float64",
         "type": "float"
        }
       ],
       "ref": "c705dfac-7fa2-4319-9e03-d3fd6a4d18ce",
       "rows": [
        [
         "2028-12-01 00:00:00",
         "59.6163626014667"
        ]
       ],
       "shape": {
        "columns": 1,
        "rows": 1
       }
      },
      "text/plain": [
       "date\n",
       "2028-12-01    59.616363\n",
       "Freq: MS, Name: amount_noisy, dtype: float64"
      ]
     },
     "execution_count": 24,
     "metadata": {},
     "output_type": "execute_result"
    }
   ],
   "source": [
    "# Assume observations end on 2028-12 and we want the value in 2028-12\n",
    "account.loc[\"2028-12\"][\"amount_noisy\"]"
   ]
  },
  {
   "cell_type": "code",
   "execution_count": 26,
   "metadata": {
    "id": "_mx2avvGDji6",
    "outputId": "62fd8097-cdfb-4982-bd69-765bf37a78c2"
   },
   "outputs": [
    {
     "data": {
      "text/plain": [
       "<matplotlib.legend.Legend at 0x1a58bd22ad0>"
      ]
     },
     "execution_count": 26,
     "metadata": {},
     "output_type": "execute_result"
    },
    {
     "data": {
      "image/png": "[encoded data removed]",
      "text/plain": [
       "<Figure size 640x480 with 1 Axes>"
      ]
     },
     "metadata": {},
     "output_type": "display_data"
    }
   ],
   "source": [
    "# Plot the noisy series and the naive forecast after 2028-12\n",
    "sns.lineplot(data=account, x=\"date\", y=\"amount_noisy\", marker=\"o\")\n",
    "\n",
    "plt.axvline(pd.to_datetime(\"2029-01-01\"), color=\"red\", linestyle=\"--\", label=\"Forecast Start\")\n",
    "plt.axhline(y=account.loc[\"2029-01-01\"][\"amount_noisy\"], color=\"blue\", linestyle=\"--\", label=\"Naive Forecast\")\n",
    "\n",
    "plt.xlabel(\"Date\")\n",
    "plt.ylabel(r\"Noisy Amount (USD) in t\")\n",
    "\n",
    "plt.legend()"
   ]
  },
  {
   "cell_type": "markdown",
   "metadata": {},
   "source": [
    "Although the naive forecast is very simple, it is an extremely useful benchmark. \n",
    "Any forecast model that you develop should be at least as good as the naive forecast, \n",
    "otherwise it is very likely not worth using.\n",
    "\n",
    "It is also a nice place to introduce specialized libraries that can handle both naive and more advanced forecasting methods. Furthermore,\n",
    "we will see that it is actually the _best_ forecast method for an important class of random processes: the so-called *random walk* processes.\n",
    "\n",
    "A recent addition to the Python ecosystem is the `statsforecast` library which provides a unified interface to several forecasting methods\n",
    "and also has functionality for evaluating forecast accuracy.\n",
    "\n",
    "In order to use it, we need to restructure our data a bit. The library expects a `pandas` DataFrame in long format\n",
    "with three columns (see more details in the [documentation]https://nixtlaverse.nixtla.io/statsforecast/docs/getting-started/getting_started_complete.html#read-the-data):\n",
    "\n",
    "1. An identifier column called `unique_id` (for multiple time series)\n",
    "2. A date column called `ds` \n",
    "3. A value column called `y`.\n",
    "\n",
    "In our case we have only one time series (the `amount_noisy` column) but we still need to move the date index to a column and add an identifier column."
   ]
  },
  {
   "cell_type": "code",
   "execution_count": 28,
   "metadata": {},
   "outputs": [
    {
     "data": {
      "application/vnd.microsoft.datawrangler.viewer.v0+json": {
       "columns": [
        {
         "name": "index",
         "rawType": "int64",
         "type": "integer"
        },
        {
         "name": "ds",
         "rawType": "datetime64[ns]",
         "type": "datetime"
        },
        {
         "name": "y",
         "rawType": "float64",
         "type": "float"
        },
        {
         "name": "unique_id",
         "rawType": "object",
         "type": "string"
        }
       ],
       "ref": "63acd64a-f130-4cf8-8636-23628020884e",
       "rows": [
        [
         "0",
         "2025-10-01 00:00:00",
         "13.632541753140412",
         "amount_noisy"
        ],
        [
         "1",
         "2025-10-01 00:00:00",
         "12.348152159691821",
         "amount_noisy"
        ],
        [
         "2",
         "2025-11-01 00:00:00",
         "15.602103654181445",
         "amount_noisy"
        ],
        [
         "3",
         "2025-12-01 00:00:00",
         "13.846148696851408",
         "amount_noisy"
        ],
        [
         "4",
         "2026-01-01 00:00:00",
         "15.85490540572405",
         "amount_noisy"
        ]
       ],
       "shape": {
        "columns": 3,
        "rows": 5
       }
      },
      "text/html": [
       "<div>\n",
       "<style scoped>\n",
       "    .dataframe tbody tr th:only-of-type {\n",
       "        vertical-align: middle;\n",
       "    }\n",
       "\n",
       "    .dataframe tbody tr th {\n",
       "        vertical-align: top;\n",
       "    }\n",
       "\n",
       "    .dataframe thead th {\n",
       "        text-align: right;\n",
       "    }\n",
       "</style>\n",
       "<table border=\"1\" class=\"dataframe\">\n",
       "  <thead>\n",
       "    <tr style=\"text-align: right;\">\n",
       "      <th></th>\n",
       "      <th>ds</th>\n",
       "      <th>y</th>\n",
       "      <th>unique_id</th>\n",
       "    </tr>\n",
       "  </thead>\n",
       "  <tbody>\n",
       "    <tr>\n",
       "      <th>0</th>\n",
       "      <td>2025-10-01</td>\n",
       "      <td>13.632542</td>\n",
       "      <td>amount_noisy</td>\n",
       "    </tr>\n",
       "    <tr>\n",
       "      <th>1</th>\n",
       "      <td>2025-10-01</td>\n",
       "      <td>12.348152</td>\n",
       "      <td>amount_noisy</td>\n",
       "    </tr>\n",
       "    <tr>\n",
       "      <th>2</th>\n",
       "      <td>2025-11-01</td>\n",
       "      <td>15.602104</td>\n",
       "      <td>amount_noisy</td>\n",
       "    </tr>\n",
       "    <tr>\n",
       "      <th>3</th>\n",
       "      <td>2025-12-01</td>\n",
       "      <td>13.846149</td>\n",
       "      <td>amount_noisy</td>\n",
       "    </tr>\n",
       "    <tr>\n",
       "      <th>4</th>\n",
       "      <td>2026-01-01</td>\n",
       "      <td>15.854905</td>\n",
       "      <td>amount_noisy</td>\n",
       "    </tr>\n",
       "  </tbody>\n",
       "</table>\n",
       "</div>"
      ],
      "text/plain": [
       "          ds          y     unique_id\n",
       "0 2025-09-01  13.632542  amount_noisy\n",
       "1 2025-10-01  12.348152  amount_noisy\n",
       "2 2025-11-01  15.602104  amount_noisy\n",
       "3 2025-12-01  13.846149  amount_noisy\n",
       "4 2026-01-01  15.854905  amount_noisy"
      ]
     },
     "execution_count": 28,
     "metadata": {},
     "output_type": "execute_result"
    }
   ],
   "source": [
    "account_ds = account.reset_index()[[\"date\", \"amount_noisy\"]].rename(columns={\"date\": \"ds\", \"amount_noisy\": \"y\"})\n",
    "account_ds[\"unique_id\"] = \"amount_noisy\"\n",
    "\n",
    "account_ds.head()"
   ]
  },
  {
   "cell_type": "code",
   "execution_count": null,
   "metadata": {},
   "outputs": [],
   "source": [
    "# statsforecast is not available in the default Colab environment\n",
    "# so we need to install it first\n",
    "\n",
    "%pip install --quiet statsforecast"
   ]
  },
  {
   "cell_type": "code",
   "execution_count": 29,
   "metadata": {},
   "outputs": [
    {
     "ename": "ModuleNotFoundError",
     "evalue": "No module named 'statsforecast'",
     "output_type": "error",
     "traceback": [
      "\u001b[31m---------------------------------------------------------------------------\u001b[39m",
      "\u001b[31mModuleNotFoundError\u001b[39m                       Traceback (most recent call last)",
      "\u001b[36mCell\u001b[39m\u001b[36m \u001b[39m\u001b[32mIn[26]\u001b[39m\u001b[32m, line 1\u001b[39m\n\u001b[32m----> \u001b[39m\u001b[32m1\u001b[39m \u001b[38;5;28;01mfrom\u001b[39;00m\u001b[38;5;250m \u001b[39m\u001b[34;01mstatsforecast\u001b[39;00m\u001b[38;5;250m \u001b[39m\u001b[38;5;28;01mimport\u001b[39;00m StatsForecast\n\u001b[32m      2\u001b[39m \u001b[38;5;28;01mfrom\u001b[39;00m\u001b[38;5;250m \u001b[39m\u001b[34;01mstatsforecast\u001b[39;00m\u001b[34;01m.\u001b[39;00m\u001b[34;01mmodels\u001b[39;00m\u001b[38;5;250m \u001b[39m\u001b[38;5;28;01mimport\u001b[39;00m Naive\n\u001b[32m      4\u001b[39m \u001b[38;5;66;03m# Train/test split\u001b[39;00m\n",
      "\u001b[31mModuleNotFoundError\u001b[39m: No module named 'statsforecast'"
     ]
    },
    {
     "name": "stderr",
     "output_type": "stream",
     "text": [
      "c:\\Users\\Boyko Amarov\\.conda\\envs\\ts2025\\Lib\\site-packages\\statsforecast\\core.py:492: FutureWarning: In a future version the predictions will have the id as a column. You can set the `NIXTLA_ID_AS_COL` environment variable to adopt the new behavior and to suppress this warning.\n",
      "  warnings.warn(\n"
     ]
    },
    {
     "data": {
      "application/vnd.microsoft.datawrangler.viewer.v0+json": {
       "columns": [
        {
         "name": "unique_id",
         "rawType": "object",
         "type": "string"
        },
        {
         "name": "ds",
         "rawType": "datetime64[ns]",
         "type": "datetime"
        },
        {
         "name": "Naive",
         "rawType": "float32",
         "type": "float"
        },
        {
         "name": "Naive-lo-90",
         "rawType": "float32",
         "type": "float"
        },
        {
         "name": "Naive-hi-90",
         "rawType": "float32",
         "type": "float"
        }
       ],
       "ref": "36d8faab-3c30-4ff6-9985-4bec9552399e",
       "rows": [
        [
         "amount_noisy",
         "2030-05-01 00:00:00",
         "59.616364",
         "39.64729",
         "79.58544"
        ],
        [
         "amount_noisy",
         "2030-06-01 00:00:00",
         "59.616364",
         "39.068356",
         "80.164375"
        ],
        [
         "amount_noisy",
         "2030-07-01 00:00:00",
         "59.616364",
         "38.50529",
         "80.72743"
        ],
        [
         "amount_noisy",
         "2030-08-01 00:00:00",
         "59.616364",
         "37.95686",
         "81.27586"
        ],
        [
         "amount_noisy",
         "2030-09-01 00:00:00",
         "59.616364",
         "37.421978",
         "81.81075"
        ]
       ],
       "shape": {
        "columns": 4,
        "rows": 5
       }
      },
      "text/html": [
       "<div>\n",
       "<style scoped>\n",
       "    .dataframe tbody tr th:only-of-type {\n",
       "        vertical-align: middle;\n",
       "    }\n",
       "\n",
       "    .dataframe tbody tr th {\n",
       "        vertical-align: top;\n",
       "    }\n",
       "\n",
       "    .dataframe thead th {\n",
       "        text-align: right;\n",
       "    }\n",
       "</style>\n",
       "<table border=\"1\" class=\"dataframe\">\n",
       "  <thead>\n",
       "    <tr style=\"text-align: right;\">\n",
       "      <th></th>\n",
       "      <th>ds</th>\n",
       "      <th>Naive</th>\n",
       "      <th>Naive-lo-90</th>\n",
       "      <th>Naive-hi-90</th>\n",
       "    </tr>\n",
       "    <tr>\n",
       "      <th>unique_id</th>\n",
       "      <th></th>\n",
       "      <th></th>\n",
       "      <th></th>\n",
       "      <th></th>\n",
       "    </tr>\n",
       "  </thead>\n",
       "  <tbody>\n",
       "    <tr>\n",
       "      <th>amount_noisy</th>\n",
       "      <td>2030-05-01</td>\n",
       "      <td>59.616364</td>\n",
       "      <td>39.647289</td>\n",
       "      <td>79.585442</td>\n",
       "    </tr>\n",
       "    <tr>\n",
       "      <th>amount_noisy</th>\n",
       "      <td>2030-06-01</td>\n",
       "      <td>59.616364</td>\n",
       "      <td>39.068356</td>\n",
       "      <td>80.164375</td>\n",
       "    </tr>\n",
       "    <tr>\n",
       "      <th>amount_noisy</th>\n",
       "      <td>2030-07-01</td>\n",
       "      <td>59.616364</td>\n",
       "      <td>38.505291</td>\n",
       "      <td>80.727432</td>\n",
       "    </tr>\n",
       "    <tr>\n",
       "      <th>amount_noisy</th>\n",
       "      <td>2030-08-01</td>\n",
       "      <td>59.616364</td>\n",
       "      <td>37.956860</td>\n",
       "      <td>81.275864</td>\n",
       "    </tr>\n",
       "    <tr>\n",
       "      <th>amount_noisy</th>\n",
       "      <td>2030-09-01</td>\n",
       "      <td>59.616364</td>\n",
       "      <td>37.421978</td>\n",
       "      <td>81.810753</td>\n",
       "    </tr>\n",
       "  </tbody>\n",
       "</table>\n",
       "</div>"
      ],
      "text/plain": [
       "                     ds      Naive  Naive-lo-90  Naive-hi-90\n",
       "unique_id                                                   \n",
       "amount_noisy 2030-05-01  59.616364    39.647289    79.585442\n",
       "amount_noisy 2030-06-01  59.616364    39.068356    80.164375\n",
       "amount_noisy 2030-07-01  59.616364    38.505291    80.727432\n",
       "amount_noisy 2030-08-01  59.616364    37.956860    81.275864\n",
       "amount_noisy 2030-09-01  59.616364    37.421978    81.810753"
      ]
     },
     "execution_count": 29,
     "metadata": {},
     "output_type": "execute_result"
    }
   ],
   "source": [
    "from statsforecast import StatsForecast\n",
    "from statsforecast.models import Naive\n",
    "\n",
    "# Train/test split\n",
    "train_end = pd.Timestamp(\"2028-12-01\")\n",
    "train_df = account_ds[account_ds[\"ds\"] <= train_end]\n",
    "test_df = account_ds[account_ds[\"ds\"] > train_end]\n",
    "\n",
    "h = len(test_df)\n",
    "print(f\"Train rows: {len(train_df)}, Test rows: {len(test_df)} (h={h})\")\n",
    "\n",
    "# Fit Naive and forecast h steps ahead\n",
    "sf = StatsForecast(\n",
    "    models=[Naive()], \n",
    "    freq=\"MS\"\n",
    ")\n",
    "\n",
    "sf = sf.fit(train_df)\n",
    "\n",
    "predicted_df = sf.predict(h=h, level=[90])\n",
    "predicted_df.tail()"
   ]
  },
  {
   "cell_type": "code",
   "execution_count": 30,
   "metadata": {},
   "outputs": [
    {
     "name": "stderr",
     "output_type": "stream",
     "text": [
      "c:\\Users\\Boyko Amarov\\.conda\\envs\\ts2025\\Lib\\site-packages\\statsforecast\\core.py:1447: FutureWarning: Passing the ids as the index is deprecated. Please provide them as a column instead.\n",
      "  warnings.warn(\n"
     ]
    },
    {
     "data": {
      "image/png": "[encoded data removed]",
      "text/plain": [
       "<Figure size 1600x350 with 1 Axes>"
      ]
     },
     "execution_count": 30,
     "metadata": {},
     "output_type": "execute_result"
    }
   ],
   "source": [
    "sf.plot(account_ds, predicted_df, level=[90])"
   ]
  },
  {
   "cell_type": "markdown",
   "metadata": {
    "id": "FHDdLqUTDji7"
   },
   "source": [
    "## Forecasting Error\n",
    "\n",
    "There are several measures of forecasting error that we will encounter in this course. One of the most important\n",
    "if the Sum of Squared Errors (SSE) which is defined as:\n",
    "\n",
    "$$\n",
    "\\text{SSE} = \\sum_{t = 1}^{T} (x_{t} - \\hat{x}_{t})^2\n",
    "$$\n",
    "\n",
    "where $x_t$ is the actual value of the series at time $t$ and $\\hat{x}_t$ is the forecasted value of the series at time $t$.\n",
    "\n",
    ":::{.callout-note }\n",
    "## Hats\n",
    "\n",
    "As we did in our econometrics course, we will use hats to denote forecasts or estimates of parameters.\n",
    "As is customary in the time-series literature we will use the same notation for the _value_ of the forecast\n",
    "and the _function_ that produces the forecast. The two are _not_ the same!\n",
    "The forecast function takes as input the past values of the series and produces as output the forecasted value.\n",
    "\n",
    "In the naive forecast $\\hat{x}_t = x_{t-1}$, the forecast function simply returns\n",
    "the last observed value of the series.\n",
    "\n",
    ":::\n",
    "\n",
    "The squared error gives you an idea about how different your forecasts are from the actual values of the series.\n",
    "For a perfect forecast the squared error is 0.  It has two drawbacks, however:\n",
    "\n",
    "1. It grows with $T$, the number of values for which we compute the error. This makes it hard to compare the forecasting error when considering different forecast horizons.\n",
    "2. It has an unintuitive measurement unit. If the series $x_t$ is measured in USD, then the squared error is measured in $\\text{USD}^2$.\n",
    "\n",
    "We can cure the first issue by dividing the squared error by the number of forecasted values $h$. This gives us the Mean Squared Error (MSE):\n",
    "\n",
    "$$\n",
    "\\text{MSE} = \\frac{1}{T} \\sum_{t = 1}^{T} (x_{t} - \\hat{x}_{t})^2\n",
    "$$\n",
    "\n",
    "We can address the second issue by taking the square root of the MSE. This gives us the Root Mean Squared Error (RMSE):\n",
    "\n",
    "$$\n",
    "\\text{RMSE} = \\sqrt{\\frac{1}{T} \\sum_{t = 1}^{T} (x_{t} - \\hat{x}_{t})^2}\n",
    "$$\n",
    "\n",
    "Now we have an error measure on the same scale as the original series and that does not depend on the number of forecasted values.\n",
    "\n",
    "It is still hard to compare the RMSE of two different series, however, because the RMSE still depends on the scale of the series. For example, if the series $x_t$ is measured in USD and the series $y_t$ is measured in EUR, then the RMSE of the two series will not be compatible.\n",
    "\n",
    "One way to address this issue is to use the $R^2$ measure of forecasting accuracy:\n",
    "\n",
    "$$\n",
    "R^2 = 1 - \\frac{\\sum_{t = 1}^{T} (x_{t} - \\hat{x}_{t})^2}{\\sum_{t}^{T} (x_{t} - \\bar{x})^2}\n",
    "$$\n",
    "\n",
    "Where $\\bar{x}$ is the arithmetic average of the values $x_1, x_2, \\ldots, x_T$:\n",
    "\n",
    "$$\n",
    "\\bar{x} = \\frac{1}{T} \\sum_{t = 1}^{T} x_t\n",
    "$$\n",
    "\n",
    ":::{.callout-note }\n",
    "## $R^2$ Measure\n",
    "\n",
    "In econometrics we used the $R^2$ measure to assess the goodness of fit of a regression model and argued\n",
    "that it is bounded between 0 and 1. This is true when calculating $R^2$ on the same data that was used to estimate the model.\n",
    "\n",
    "This is not the case for the $R^2$ measure of forecasting accuracy\n",
    "because the test and training data are different. In fact, the $R^2$ measure of forecasting accuracy can become negative.\n",
    "\n",
    ":::"
   ]
  },
  {
   "cell_type": "code",
   "execution_count": null,
   "metadata": {},
   "outputs": [],
   "source": [
    "# Exercise: given a set of test values in y and predicted values in yhat,\n",
    "# compute the SSE, MSE, RMSE and R^2\n",
    "# using the functions np.sqrt, np.sum, np.mean\n",
    "\n",
    "y = np.array([2.5, 8, 14, 3])\n",
    "yhat = np.array([3.5, 4, 12, 3])\n"
   ]
  },
  {
   "cell_type": "code",
   "execution_count": null,
   "metadata": {},
   "outputs": [],
   "source": [
    "# Exercise: use the values in amount_noisy from the test dataset\n",
    "# and compute the SSE, MSE, RMSE and R^2 for the naive forecast (21.966343)\n",
    "\n"
   ]
  },
  {
   "cell_type": "markdown",
   "metadata": {},
   "source": [
    "## Exercise\n",
    "\n",
    "The dataset electr contains the Bulgarian internal electricity consumption in GHw.\n",
    "\n",
    "1. Plot the consumption series\n",
    "2. Summarize the dataset and report the following:\n",
    "   - The date of the first and the last observation.\n",
    "   - The reporting frequency\n",
    "   - The minimum, maximum, average and median of the consumption in GWh.\n",
    "3. Split the data into a training and testing set (the last 12 months)\n",
    "4. Use statsforecast to predict the last 12 months using the benchmark\n",
    " models: `Naive`, `HistoricAverage` and `SeasonalNaive`.\n",
    "1. Explain how each of these models calculates its prediction.\n",
    "2. Compute the RMSE for each model on the test set and choose the best model\n",
    "\n",
    "Create a new series that contains the total annual consumption. Use the \n",
    "data after the beginning of 2010 to predict the total consumption \n",
    "in the last two years. Again, compare the three benchmark models on the\n",
    "test data."
   ]
  },
  {
   "cell_type": "code",
   "execution_count": null,
   "metadata": {},
   "outputs": [],
   "source": [
    "# Example\n",
    "\n",
    "electr = pd.read_csv(\"https://github.com/febse/data/raw/refs/heads/main/ts/electricity/bg_internal_consumption.csv\")\n",
    "electr[\"month\"] = pd.to_datetime(electr[\"month\"])\n",
    "electr[\"GWh\"] = pd.to_numeric(electr[\"electr\"], errors=\"coerce\")\n",
    "electr = electr.drop(columns=\"electr\")\n",
    "electr = electr.dropna()\n",
    "\n",
    "electr = electr.set_index(\"month\")\n",
    "\n",
    "electr.head()"
   ]
  }
 ],
 "metadata": {
  "colab": {
   "include_colab_link": true,
   "provenance": []
  },
  "kernelspec": {
   "display_name": "ts2025",
   "language": "python",
   "name": "python3"
  },
  "language_info": {
   "codemirror_mode": {
    "name": "ipython",
    "version": 3
   },
   "file_extension": ".py",
   "mimetype": "text/x-python",
   "name": "python",
   "nbconvert_exporter": "python",
   "pygments_lexer": "ipython3",
   "version": "3.13.7"
  }
 },
 "nbformat": 4,
 "nbformat_minor": 0
}
