{
  "cells": [
    {
      "cell_type": "markdown",
      "metadata": {},
      "source": [
        "# Introduction {#introduction}\n",
        "\n",
        "For a very quick introduction to R, you can refer to the \n",
        "[Introduction to Econometrics 2023 course](https://feb-sofia.github.io/econometrics-2023/01-Introduction-to-R.html). @WICKHAM2016DataScienceImport offer a more thorough introduction to the tidyverse packages in their [R for data science book](https://r4ds.had.co.nz/)."
      ]
    },
    {
      "cell_type": "code",
      "execution_count": 32,
      "metadata": {
        "vscode": {
          "languageId": "r"
        }
      },
      "outputs": [],
      "source": [
        "# Package Installation with alternative approach for fable\n",
        "# First install core dependencies\n",
        "if (!require(\"tidyverse\")) install.packages(\"tidyverse\", dependencies = TRUE)\n",
        "\n",
        "# Install time series packages step by step\n",
        "essential_packages <- c(\n",
        "  \"xts\",\n",
        "  \"quantmod\", \n",
        "  \"tsibble\",\n",
        "  \"lubridate\",\n",
        "  \"eurostat\",\n",
        "  \"tsbox\"\n",
        ")\n",
        "\n",
        "for (pkg in essential_packages) {\n",
        "  if (!require(pkg, character.only = TRUE)) {\n",
        "    install.packages(pkg, dependencies = TRUE)\n",
        "  }\n",
        "}\n",
        "\n",
        "library(xts)\n",
        "library(quantmod)\n",
        "library(tsibble)\n",
        "library(lubridate)\n",
        "library(eurostat)\n"
      ]
    },
    {
      "cell_type": "markdown",
      "metadata": {},
      "source": [
        "## Time Series Definition\n",
        "\n",
        "A *time series* is a sequence of values ordered by time. This course will focus on series that take values in $\\mathbb{R}$. Let\n",
        "$x_1, x_2, \\ldots, x_T$ be a sequence of values ordered by a time index\n",
        "$t = 1,\\ldots,T$. The value of the series is determined by:\n",
        "\n",
        "$$\n",
        "\\begin{align}\n",
        "x_t & = (1 + 0.02)x_{t - 1},\\quad x_0 = 10 \\implies \\\\\n",
        "x_t & = 10 \\times(1 + 0.02)^{t} \\\\\n",
        "\\end{align}\n",
        "$$ {#eq-geom-series}\n",
        "\n",
        "Lets compute and plot the values of this sequence for $t = 1,\\ldots,20$.\n",
        "\n",
        ":::{.callout-note}\n",
        "## Regular and Irregular Time Series\n",
        "\n",
        "In this course we will deal with observations \n",
        "recorded at fixed time intervals (e.g. hourly, daily, weekly, monthly, annually, etc.). \n",
        "For example, _every day_ you measure your morning travel duration from home to the university.\n",
        "\n",
        "Consider your daily step count. Let's say you copy\n",
        "the number of steps at the end of the day from your\n",
        "health app into a spreadsheet. Sometimes do it on Monday\n",
        "evening, sometime on a Wednesday, sometimes you might miss a\n",
        "couple of weeks and record it again. This would be\n",
        "an example of an _irregular_ time series (of your daily step counts).\n",
        ":::"
      ]
    },
    {
      "cell_type": "markdown",
      "metadata": {},
      "source": [
        "## A Deterministic Time Series\n"
      ]
    },
    {
      "cell_type": "code",
      "execution_count": 5,
      "metadata": {
        "vscode": {
          "languageId": "r"
        }
      },
      "outputs": [
        {
          "data": {
            "image/png": "[encoded data removed]",
            "text/plain": [
              "plot without title"
            ]
          },
          "metadata": {
            "image/png": {
              "height": 420,
              "width": 420
            }
          },
          "output_type": "display_data"
        }
      ],
      "source": [
        "# Create and plot geometric series\n",
        "dt <- tibble(\n",
        "  tidx = 1:20,\n",
        "  x = 10 *(1 + 0.02)^tidx\n",
        ")\n",
        "\n",
        "dt %>%\n",
        "  ggplot(aes(x = tidx, y = x)) +\n",
        "    geom_point() + \n",
        "    geom_line() + \n",
        "    scale_x_continuous(breaks = seq(1, 20, 2)) +\n",
        "    labs(\n",
        "      x = \"t\",\n",
        "      y = expression(x[t])\n",
        "    )"
      ]
    },
    {
      "cell_type": "markdown",
      "metadata": {},
      "source": [
        "This series is an example of a *deterministic* sequence. For every point\n",
        "in time $t$, you can use the formula in @eq-geom-series to compute the\n",
        "value of the series, e.g.:\n",
        "\n",
        "\n",
        "$$\n",
        "\\begin{align}\n",
        "x_{0} = 10 \\\\\n",
        "x_{7} = 1.02^{7}\\times 10 \\approx 11.487\n",
        "\\end{align}\n",
        "$$"
      ]
    },
    {
      "cell_type": "markdown",
      "metadata": {},
      "source": [
        "## Date and Time objects in R\n",
        "\n",
        "Internally, dates are stored as the number of days since a (arbitrary) reference (origin). The default origin in R is the first of January 1970."
      ]
    },
    {
      "cell_type": "code",
      "execution_count": 6,
      "metadata": {
        "vscode": {
          "languageId": "r"
        }
      },
      "outputs": [
        {
          "data": {
            "text/html": [
              "<time datetime=\"1970-01-01\">1970-01-01</time>"
            ],
            "text/latex": [
              "1970-01-01"
            ],
            "text/markdown": [
              "1970-01-01"
            ],
            "text/plain": [
              "[1] \"1970-01-01\""
            ]
          },
          "metadata": {},
          "output_type": "display_data"
        },
        {
          "data": {
            "text/html": [
              "<time datetime=\"1970-01-02\">1970-01-02</time>"
            ],
            "text/latex": [
              "1970-01-02"
            ],
            "text/markdown": [
              "1970-01-02"
            ],
            "text/plain": [
              "[1] \"1970-01-02\""
            ]
          },
          "metadata": {},
          "output_type": "display_data"
        },
        {
          "data": {
            "text/html": [
              "0"
            ],
            "text/latex": [
              "0"
            ],
            "text/markdown": [
              "0"
            ],
            "text/plain": [
              "[1] 0"
            ]
          },
          "metadata": {},
          "output_type": "display_data"
        },
        {
          "data": {
            "text/html": [
              "1"
            ],
            "text/latex": [
              "1"
            ],
            "text/markdown": [
              "1"
            ],
            "text/plain": [
              "[1] 1"
            ]
          },
          "metadata": {},
          "output_type": "display_data"
        },
        {
          "data": {
            "text/html": [
              "<time datetime=\"1970-01-06\">1970-01-06</time>"
            ],
            "text/latex": [
              "1970-01-06"
            ],
            "text/markdown": [
              "1970-01-06"
            ],
            "text/plain": [
              "[1] \"1970-01-06\""
            ]
          },
          "metadata": {},
          "output_type": "display_data"
        },
        {
          "data": {
            "text/html": [
              "<style>\n",
              ".list-inline {list-style: none; margin:0; padding: 0}\n",
              ".list-inline>li {display: inline-block}\n",
              ".list-inline>li:not(:last-child)::after {content: \"\\00b7\"; padding: 0 .5ex}\n",
              "</style>\n",
              "<ol class=list-inline><li><time datetime=\"1970-01-06\">1970-01-06</time></li><li><time datetime=\"1970-01-07\">1970-01-07</time></li><li><time datetime=\"1970-01-08\">1970-01-08</time></li><li><time datetime=\"1970-01-09\">1970-01-09</time></li><li><time datetime=\"1970-01-10\">1970-01-10</time></li><li><time datetime=\"1970-01-11\">1970-01-11</time></li></ol>\n"
            ],
            "text/latex": [
              "\\begin{enumerate*}\n",
              "\\item 1970-01-06\n",
              "\\item 1970-01-07\n",
              "\\item 1970-01-08\n",
              "\\item 1970-01-09\n",
              "\\item 1970-01-10\n",
              "\\item 1970-01-11\n",
              "\\end{enumerate*}\n"
            ],
            "text/markdown": [
              "1. 1970-01-06\n",
              "2. 1970-01-07\n",
              "3. 1970-01-08\n",
              "4. 1970-01-09\n",
              "5. 1970-01-10\n",
              "6. 1970-01-11\n",
              "\n",
              "\n"
            ],
            "text/plain": [
              "[1] \"1970-01-06\" \"1970-01-07\" \"1970-01-08\" \"1970-01-09\" \"1970-01-10\"\n",
              "[6] \"1970-01-11\""
            ]
          },
          "metadata": {},
          "output_type": "display_data"
        }
      ],
      "source": [
        "# Working with Date objects\n",
        "origin <- as.Date(\"1970-01-01\")\n",
        "jan02.1970 <- as.Date(\"1970-01-02\")\n",
        "\n",
        "origin\n",
        "jan02.1970\n",
        "\n",
        "as.numeric(origin)\n",
        "as.numeric(jan02.1970)\n",
        "\n",
        "origin + 5\n",
        "origin + 5:10"
      ]
    },
    {
      "cell_type": "markdown",
      "metadata": {},
      "source": [
        "Time is stored as the number of seconds (and fractions of a second)\n",
        "since the origin: 1970-01-01 00:00:00\n",
        "[UTC](https://en.wikipedia.org/wiki/Coordinated_Universal_Time). POSIX\n",
        "stands for [Portable Operating System\n",
        "Interface](https://en.wikipedia.org/wiki/POSIX)."
      ]
    },
    {
      "cell_type": "code",
      "execution_count": 12,
      "metadata": {
        "vscode": {
          "languageId": "r"
        }
      },
      "outputs": [
        {
          "data": {
            "text/html": [
              "<style>\n",
              ".list-inline {list-style: none; margin:0; padding: 0}\n",
              ".list-inline>li {display: inline-block}\n",
              ".list-inline>li:not(:last-child)::after {content: \"\\00b7\"; padding: 0 .5ex}\n",
              "</style>\n",
              "<ol class=list-inline><li>'POSIXct'</li><li>'POSIXt'</li></ol>\n"
            ],
            "text/latex": [
              "\\begin{enumerate*}\n",
              "\\item 'POSIXct'\n",
              "\\item 'POSIXt'\n",
              "\\end{enumerate*}\n"
            ],
            "text/markdown": [
              "1. 'POSIXct'\n",
              "2. 'POSIXt'\n",
              "\n",
              "\n"
            ],
            "text/plain": [
              "[1] \"POSIXct\" \"POSIXt\" "
            ]
          },
          "metadata": {},
          "output_type": "display_data"
        }
      ],
      "source": [
        "# Check the class of the time object\n",
        "class(origin_time)"
      ]
    },
    {
      "cell_type": "markdown",
      "metadata": {},
      "source": [
        "The package `lubridate` provides utility functions for working with date\n",
        "and time objects. You can look at this online guide\n",
        "[here](https://lubridate.tidyverse.org/)."
      ]
    },
    {
      "cell_type": "code",
      "execution_count": null,
      "metadata": {
        "vscode": {
          "languageId": "r"
        }
      },
      "outputs": [
        {
          "data": {
            "text/plain": [
              "[1] \"2025-09-25 11:17:44 GMT\""
            ]
          },
          "metadata": {},
          "output_type": "display_data"
        },
        {
          "data": {
            "text/html": [
              "25"
            ],
            "text/latex": [
              "25"
            ],
            "text/markdown": [
              "25"
            ],
            "text/plain": [
              "[1] 25"
            ]
          },
          "metadata": {},
          "output_type": "display_data"
        },
        {
          "data": {
            "text/html": [
              "5"
            ],
            "text/latex": [
              "5"
            ],
            "text/markdown": [
              "5"
            ],
            "text/plain": [
              "[1] 5"
            ]
          },
          "metadata": {},
          "output_type": "display_data"
        },
        {
          "data": {
            "text/html": [
              "4"
            ],
            "text/latex": [
              "4"
            ],
            "text/markdown": [
              "4"
            ],
            "text/plain": [
              "[1] 4"
            ]
          },
          "metadata": {},
          "output_type": "display_data"
        },
        {
          "data": {
            "text/html": [
              "Thu\n",
              "<details>\n",
              "\t<summary style=display:list-item;cursor:pointer>\n",
              "\t\t<strong>Levels</strong>:\n",
              "\t</summary>\n",
              "\t<style>\n",
              "\t.list-inline {list-style: none; margin:0; padding: 0}\n",
              "\t.list-inline>li {display: inline-block}\n",
              "\t.list-inline>li:not(:last-child)::after {content: \"\\00b7\"; padding: 0 .5ex}\n",
              "\t</style>\n",
              "\t<ol class=list-inline><li>'Sun'</li><li>'Mon'</li><li>'Tue'</li><li>'Wed'</li><li>'Thu'</li><li>'Fri'</li><li>'Sat'</li></ol>\n",
              "</details>"
            ],
            "text/latex": [
              "Thu\n",
              "\\emph{Levels}: \\begin{enumerate*}\n",
              "\\item 'Sun'\n",
              "\\item 'Mon'\n",
              "\\item 'Tue'\n",
              "\\item 'Wed'\n",
              "\\item 'Thu'\n",
              "\\item 'Fri'\n",
              "\\item 'Sat'\n",
              "\\end{enumerate*}\n"
            ],
            "text/markdown": [
              "Thu\n",
              "**Levels**: 1. 'Sun'\n",
              "2. 'Mon'\n",
              "3. 'Tue'\n",
              "4. 'Wed'\n",
              "5. 'Thu'\n",
              "6. 'Fri'\n",
              "7. 'Sat'\n",
              "\n",
              "\n"
            ],
            "text/plain": [
              "[1] Thu\n",
              "Levels: Sun < Mon < Tue < Wed < Thu < Fri < Sat"
            ]
          },
          "metadata": {},
          "output_type": "display_data"
        },
        {
          "data": {
            "text/html": [
              "268"
            ],
            "text/latex": [
              "268"
            ],
            "text/markdown": [
              "268"
            ],
            "text/plain": [
              "[1] 268"
            ]
          },
          "metadata": {},
          "output_type": "display_data"
        },
        {
          "data": {
            "text/html": [
              "39"
            ],
            "text/latex": [
              "39"
            ],
            "text/markdown": [
              "39"
            ],
            "text/plain": [
              "[1] 39"
            ]
          },
          "metadata": {},
          "output_type": "display_data"
        },
        {
          "name": "stdout",
          "output_type": "stream",
          "text": [
            "[1] \"The month (number) is:\"\n"
          ]
        },
        {
          "data": {
            "text/html": [
              "9"
            ],
            "text/latex": [
              "9"
            ],
            "text/markdown": [
              "9"
            ],
            "text/plain": [
              "[1] 9"
            ]
          },
          "metadata": {},
          "output_type": "display_data"
        },
        {
          "data": {
            "text/html": [
              "3"
            ],
            "text/latex": [
              "3"
            ],
            "text/markdown": [
              "3"
            ],
            "text/plain": [
              "[1] 3"
            ]
          },
          "metadata": {},
          "output_type": "display_data"
        }
      ],
      "source": [
        "# Working with lubridate\n",
        "# Sys.time returns the current time\n",
        "now <- Sys.time()\n",
        "\n",
        "# Print the value of now\n",
        "now\n",
        "\n",
        "# Day of the month\n",
        "day(now)\n",
        "\n",
        "# Day of the week (depends on the start of week assumption and is locale dependent!)\n",
        "wday(now)\n",
        "wday(now, week_start = 1)\n",
        "\n",
        "# Day of the week as string (also locale dependent)\n",
        "wday(now, label = TRUE)\n",
        "\n",
        "# Day of the year\n",
        "yday(now)\n",
        "\n",
        "# Week of the year\n",
        "week(now)\n",
        "\n",
        "# Month of the year\n",
        "print(\"The month (number) is:\")\n",
        "month(now)\n",
        "\n",
        "# Quarter of the year\n",
        "quarter(now)"
      ]
    },
    {
      "cell_type": "markdown",
      "metadata": {},
      "source": [
        "### Exercise: Date Objects in R\n",
        "\n",
        "1. What day of the week was the 10-th of June 2019?\n",
        "2. Create a sequence of 34 consecutive dates starting on the 2-nd of January 2017. What was the year quarter of the last date of this sequence?"
      ]
    },
    {
      "cell_type": "code",
      "execution_count": null,
      "metadata": {
        "vscode": {
          "languageId": "r"
        }
      },
      "outputs": [],
      "source": [
        "# Exercise solution space\n",
        "# Type your code here"
      ]
    },
    {
      "cell_type": "markdown",
      "metadata": {},
      "source": [
        "## Time Series Classes\n",
        "\n",
        "There are several classes that are used for storing time series in\n",
        "R. We will mainly focus on `tsibble`, but some functions we will encounter later in the course return or require `ts` or `xts` objects.\n",
        "\n",
        "- `ts`\n",
        "- `xts` (see the [xts vignette](https://cran.r-project.org/web/packages/xts/vignettes/xts.pdf))\n",
        "- `tsibble` (see the [introduction to tsibble](https://cran.rstudio.com/web/packages/tsibble/vignettes/intro-tsibble.html))\n",
        "\n",
        "### Creating ts Objects"
      ]
    },
    {
      "cell_type": "code",
      "execution_count": 34,
      "metadata": {
        "vscode": {
          "languageId": "r"
        }
      },
      "outputs": [
        {
          "data": {
            "text/html": [
              "<table class=\"dataframe\">\n",
              "<caption>A tibble: 10 × 2</caption>\n",
              "<thead>\n",
              "\t<tr><th scope=col>Time</th><th scope=col>Value</th></tr>\n",
              "\t<tr><th scope=col>&lt;int&gt;</th><th scope=col>&lt;dbl&gt;</th></tr>\n",
              "</thead>\n",
              "<tbody>\n",
              "\t<tr><td> 1</td><td>10.20000</td></tr>\n",
              "\t<tr><td> 2</td><td>10.40400</td></tr>\n",
              "\t<tr><td> 3</td><td>10.61208</td></tr>\n",
              "\t<tr><td> 4</td><td>10.82432</td></tr>\n",
              "\t<tr><td> 5</td><td>11.04081</td></tr>\n",
              "\t<tr><td> 6</td><td>11.26162</td></tr>\n",
              "\t<tr><td> 7</td><td>11.48686</td></tr>\n",
              "\t<tr><td> 8</td><td>11.71659</td></tr>\n",
              "\t<tr><td> 9</td><td>11.95093</td></tr>\n",
              "\t<tr><td>10</td><td>12.18994</td></tr>\n",
              "</tbody>\n",
              "</table>\n"
            ],
            "text/latex": [
              "A tibble: 10 × 2\n",
              "\\begin{tabular}{ll}\n",
              " Time & Value\\\\\n",
              " <int> & <dbl>\\\\\n",
              "\\hline\n",
              "\t  1 & 10.20000\\\\\n",
              "\t  2 & 10.40400\\\\\n",
              "\t  3 & 10.61208\\\\\n",
              "\t  4 & 10.82432\\\\\n",
              "\t  5 & 11.04081\\\\\n",
              "\t  6 & 11.26162\\\\\n",
              "\t  7 & 11.48686\\\\\n",
              "\t  8 & 11.71659\\\\\n",
              "\t  9 & 11.95093\\\\\n",
              "\t 10 & 12.18994\\\\\n",
              "\\end{tabular}\n"
            ],
            "text/markdown": [
              "\n",
              "A tibble: 10 × 2\n",
              "\n",
              "| Time &lt;int&gt; | Value &lt;dbl&gt; |\n",
              "|---|---|\n",
              "|  1 | 10.20000 |\n",
              "|  2 | 10.40400 |\n",
              "|  3 | 10.61208 |\n",
              "|  4 | 10.82432 |\n",
              "|  5 | 11.04081 |\n",
              "|  6 | 11.26162 |\n",
              "|  7 | 11.48686 |\n",
              "|  8 | 11.71659 |\n",
              "|  9 | 11.95093 |\n",
              "| 10 | 12.18994 |\n",
              "\n"
            ],
            "text/plain": [
              "   Time Value   \n",
              "1   1   10.20000\n",
              "2   2   10.40400\n",
              "3   3   10.61208\n",
              "4   4   10.82432\n",
              "5   5   11.04081\n",
              "6   6   11.26162\n",
              "7   7   11.48686\n",
              "8   8   11.71659\n",
              "9   9   11.95093\n",
              "10 10   12.18994"
            ]
          },
          "metadata": {},
          "output_type": "display_data"
        },
        {
          "data": {
            "image/png": "[encoded data removed]",
            "text/plain": [
              "Plot with title \"Geometric Series: x_t = 10 * (1.02)^t\""
            ]
          },
          "metadata": {
            "image/png": {
              "height": 420,
              "width": 420
            }
          },
          "output_type": "display_data"
        }
      ],
      "source": [
        "# Example: Creating a geometric series as mentioned in the notebook\n",
        "# x_t = 10 * (1 + 0.02)^t\n",
        "\n",
        "# Create time series data\n",
        "t <- 1:100\n",
        "x_t <- 10 * (1 + 0.02)^t\n",
        "\n",
        "# Create a simple plot\n",
        "plot(\n",
        "     t, x_t, type = \"l\", \n",
        "     main = \"Geometric Series: x_t = 10 * (1.02)^t\", \n",
        "     xlab = \"Time (t)\", \n",
        "     ylab = \"Value (x_t)\"\n",
        "     )\n",
        "\n",
        "# Display first few values\n",
        "head(tibble(Time = t, Value = x_t), 10)"
      ]
    },
    {
      "cell_type": "code",
      "execution_count": null,
      "metadata": {
        "vscode": {
          "languageId": "r"
        }
      },
      "outputs": [],
      "source": []
    }
  ],
  "metadata": {
    "kernelspec": {
      "display_name": "R",
      "language": "R",
      "name": "ir"
    },
    "language_info": {
      "codemirror_mode": "r",
      "file_extension": ".r",
      "mimetype": "text/x-r-source",
      "name": "R",
      "pygments_lexer": "r",
      "version": "4.5.1"
    }
  },
  "nbformat": 4,
  "nbformat_minor": 4
}
