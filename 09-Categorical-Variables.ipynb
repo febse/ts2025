{
  "cells": [
    {
      "cell_type": "markdown",
      "id": "da1b4d15",
      "metadata": {
        "id": "da1b4d15"
      },
      "source": [
        "# Categorical Variables\n",
        "\n",
        "Open in Colab: [![Open in Colab](https://colab.research.google.com/assets/colab-badge.svg)](https://colab.research.google.com/github/febse/econ2025/blob/main/09-Categorical-Variables.ipynb)\n",
        "\n",
        "## Simpson's paradox\n",
        "\n",
        "The data set `gdp2019` contains the GDP per capita in current prices for 142 countries in 2019. In addition, the variable `spending` shows the government spending in these countries as a share (in percent) of GDP.\n",
        "\n",
        "-   `gdppc` (numeric): [GDP per capita](https://www.imf.org/external/datamapper/NGDPDPC@WEO/OEMDC/ADVEC/WEOWORLD) in USD (current prices)\n",
        "-   `spending` (numeric): [Government spending as a share of GDP](https://www.imf.org/external/datamapper/exp@FPP/USA/FRA/JPN/GBR/SWE/ESP/ITA/ZAF/IND).\n",
        "\n",
        "The data set was constructed using data from the IFM. You can find more information about the two variables by following the links above.\n",
        "\n",
        "We want to explore the relationship between `gdppc` and `spending`.\n"
      ]
    },
    {
      "cell_type": "code",
      "execution_count": null,
      "id": "XuVhFdOOhW3S",
      "metadata": {
        "colab": {
          "base_uri": "https://localhost:8080/",
          "height": 425
        },
        "id": "XuVhFdOOhW3S",
        "outputId": "2072dc31-3cd3-4f18-e5ac-26dc33c0e1fd",
        "vscode": {
          "languageId": "r"
        }
      },
      "outputs": [],
      "source": [
        "library(tidyverse)\n",
        "\n",
        "## Simpson's paradox (1)\n",
        "\n",
        "berkley <- read_csv(\n",
        "  \"https://waf.cs.illinois.edu/discovery/berkeley.csv\"\n",
        "  ) %>%\n",
        "  mutate(\n",
        "    is_rejected = ifelse(Admission == \"Accepted\", 0, 1),\n",
        "  )\n",
        "\n",
        "berkley %>% head()"
      ]
    },
    {
      "cell_type": "code",
      "execution_count": null,
      "id": "8QZiRDTwhzIz",
      "metadata": {
        "colab": {
          "base_uri": "https://localhost:8080/",
          "height": 161
        },
        "id": "8QZiRDTwhzIz",
        "outputId": "e3a19385-0c8e-48b5-e66e-7de801162933",
        "vscode": {
          "languageId": "r"
        }
      },
      "outputs": [],
      "source": [
        "berkley %>%\n",
        "  group_by(Gender) %>%\n",
        "    summarize(\n",
        "        n = n(),\n",
        "        n_rejected = sum(is_rejected),\n",
        "        p_rejected = round(mean(is_rejected), 2)\n",
        "    )"
      ]
    },
    {
      "cell_type": "code",
      "execution_count": null,
      "id": "K5q4QcRoh5WX",
      "metadata": {
        "colab": {
          "base_uri": "https://localhost:8080/",
          "height": 572
        },
        "id": "K5q4QcRoh5WX",
        "outputId": "2cb8e2c8-6cd7-4104-e2c3-9e28f4f61a58",
        "vscode": {
          "languageId": "r"
        }
      },
      "outputs": [],
      "source": [
        "admission_by_major_gender <- berkley %>%\n",
        "  group_by(Major, Gender) %>%\n",
        "    summarize(\n",
        "        n = n(),\n",
        "        n_rejected = sum(is_rejected),\n",
        "        p_rejected = round(mean(is_rejected), 2)\n",
        "    )\n",
        "admission_by_major_gender"
      ]
    },
    {
      "cell_type": "code",
      "execution_count": null,
      "id": "lQ1n7NnriFjt",
      "metadata": {
        "id": "lQ1n7NnriFjt",
        "vscode": {
          "languageId": "r"
        }
      },
      "outputs": [],
      "source": [
        "admission_by_major_gender %>%\n",
        "  ggplot(aes(x = Major, y = p_rejected, fill=Gender)) +\n",
        "    geom_bar(stat = \"identity\", position = \"dodge\") +\n",
        "    labs(\n",
        "      y = \"Admission rate\",\n",
        "      x = \"Major\"\n",
        "    ) +\n",
        "    theme(axis.text.x = element_text(angle = 45, hjust = 1))"
      ]
    },
    {
      "cell_type": "markdown",
      "id": "6C-aYAmjj1DE",
      "metadata": {
        "id": "6C-aYAmjj1DE"
      },
      "source": []
    },
    {
      "cell_type": "code",
      "execution_count": null,
      "id": "rcGOl14Dj56H",
      "metadata": {
        "colab": {
          "base_uri": "https://localhost:8080/",
          "height": 286
        },
        "id": "rcGOl14Dj56H",
        "outputId": "f1239bd8-bb7e-4b97-cedd-e0dbecca7ef5",
        "vscode": {
          "languageId": "r"
        }
      },
      "outputs": [],
      "source": [
        "berkley %>% head()"
      ]
    },
    {
      "cell_type": "code",
      "execution_count": null,
      "id": "8_dQOy0Uj8af",
      "metadata": {
        "colab": {
          "base_uri": "https://localhost:8080/",
          "height": 255
        },
        "id": "8_dQOy0Uj8af",
        "outputId": "1cd591f8-8bbc-450a-8f18-01774f7f1070",
        "vscode": {
          "languageId": "r"
        }
      },
      "outputs": [],
      "source": [
        "model_matrix <- model.matrix(lm(is_rejected ~ 0 + Gender, data = berkley))\n",
        "model_matrix %>% head()"
      ]
    },
    {
      "cell_type": "code",
      "execution_count": null,
      "id": "KR3u5j_AkJHF",
      "metadata": {
        "colab": {
          "base_uri": "https://localhost:8080/",
          "height": 286
        },
        "id": "KR3u5j_AkJHF",
        "outputId": "ec4a06a4-3a69-48cb-ae6f-06ace5c2d25b",
        "vscode": {
          "languageId": "r"
        }
      },
      "outputs": [],
      "source": [
        "berkey <- berkley %>%\n",
        "  bind_cols(model_matrix)\n",
        "berkey %>% head()"
      ]
    },
    {
      "cell_type": "code",
      "execution_count": null,
      "id": "Y6F33W4Uic7F",
      "metadata": {
        "colab": {
          "base_uri": "https://localhost:8080/",
          "height": 330
        },
        "id": "Y6F33W4Uic7F",
        "outputId": "d17efd23-d74e-4b07-fa03-9de89086ac16",
        "vscode": {
          "languageId": "r"
        }
      },
      "outputs": [],
      "source": [
        "lm(is_rejected ~ Gender, data = berkley) %>%\n",
        "  summary()"
      ]
    },
    {
      "cell_type": "code",
      "execution_count": null,
      "id": "1AftA9SwjNxq",
      "metadata": {
        "id": "1AftA9SwjNxq",
        "vscode": {
          "languageId": "r"
        }
      },
      "outputs": [],
      "source": []
    },
    {
      "cell_type": "markdown",
      "id": "F9tnsj-KjQQr",
      "metadata": {
        "id": "F9tnsj-KjQQr"
      },
      "source": [
        "## GDP per Capita and Government Spending\n",
        "\n",
        "The data set `gdp2019` contains the GDP per capita in current prices for 142 countries in 2019. In addition, the variable `spending` shows the government spending in these countries as a share (in percent) of GDP.\n",
        "\n",
        "-   `gdppc` (numeric): [GDP per capita](https://www.imf.org/external/datamapper/NGDPDPC@WEO/OEMDC/ADVEC/WEOWORLD) in USD (current prices)\n",
        "-   `spending` (numeric): [Government spending as a share of GDP](https://www.imf.org/external/datamapper/exp@FPP/USA/FRA/JPN/GBR/SWE/ESP/ITA/ZAF/IND).\n",
        "\n",
        "The data set was constructed using data from the IFM. You can find more information about the two variables by following the links above.\n",
        "\n",
        "We want to explore the relationship between `gdppc` and `spending`."
      ]
    },
    {
      "cell_type": "code",
      "execution_count": null,
      "id": "c8NthniFjgs6",
      "metadata": {
        "id": "c8NthniFjgs6",
        "vscode": {
          "languageId": "r"
        }
      },
      "outputs": [],
      "source": [
        "gdp2019 <- read_csv(\n",
        "  \"https://raw.githubusercontent.com/feb-sofia/econometrics-2023/main/data/gdpgov2019.csv\"\n",
        "  ) %>%\n",
        "  filter(!is.na(spending))\n",
        "  \n",
        "gdp2019 %>% head()"
      ]
    },
    {
      "cell_type": "markdown",
      "id": "cXvb442tjoKZ",
      "metadata": {
        "id": "cXvb442tjoKZ"
      },
      "source": [
        "1.  Create a scatterplot for the two variables and add the estimated regression line for the model\n",
        "\n",
        "$$\n",
        "\\text{gdppc}_i = \\beta_0 + \\beta_1 \\text{spending}_i + e_i, \\quad e_i \\sim N(0, \\sigma^2)\n",
        "$$\n"
      ]
    },
    {
      "cell_type": "code",
      "execution_count": null,
      "id": "l_E1dvzBjrPN",
      "metadata": {
        "colab": {
          "base_uri": "https://localhost:8080/",
          "height": 593
        },
        "id": "l_E1dvzBjrPN",
        "outputId": "54a4d9cb-d5bc-45aa-97ba-430b0812d249",
        "vscode": {
          "languageId": "r"
        }
      },
      "outputs": [],
      "source": [
        "gdp2019 %>%\n",
        "  ggplot(aes(x = spending, y = gdppc)) +\n",
        "  geom_point() +\n",
        "  geom_smooth(method = \"lm\") +\n",
        "  labs(\n",
        "    y = \"GDP per capita\",\n",
        "    x = \"Gov. spending\"\n",
        "  ) +\n",
        "  lims(\n",
        "    x = c(0, 70),\n",
        "    y = c(0, 90000)\n",
        "  )"
      ]
    },
    {
      "cell_type": "code",
      "execution_count": null,
      "id": "l-ZO9rl1jv6T",
      "metadata": {
        "id": "l-ZO9rl1jv6T",
        "vscode": {
          "languageId": "r"
        }
      },
      "outputs": [],
      "source": [
        "# Estimate the model\n"
      ]
    },
    {
      "cell_type": "markdown",
      "id": "H4fh2bP-kyJz",
      "metadata": {
        "id": "H4fh2bP-kyJz"
      },
      "source": [
        "2.  Create a new variable called `gdppc_gr` that has five categories:\n",
        "\n",
        "-   Low: if $\\text{gdppc} \\leq 1025$\n",
        "-   Medium-low: if $1025 < \\text{gdppc} \\leq 3995$\n",
        "-   Medium-high: if $3995 < \\text{gdppc} \\leq 12375$\n",
        "-   High: if $12375 < \\text{gdppc} \\leq 30000$\n",
        "-   Very high: if $\\text{gdppc} > 30000$"
      ]
    },
    {
      "cell_type": "code",
      "execution_count": null,
      "id": "BfxYQ_mlkxBk",
      "metadata": {
        "colab": {
          "base_uri": "https://localhost:8080/",
          "height": 69
        },
        "id": "BfxYQ_mlkxBk",
        "outputId": "2495ff5e-6e8d-4241-a5c4-e190fc259a14",
        "vscode": {
          "languageId": "r"
        }
      },
      "outputs": [],
      "source": [
        "gdp2019 <- gdp2019 %>%\n",
        "  mutate(\n",
        "    gdppc_gr = cut(\n",
        "      gdppc,\n",
        "      breaks = c(0, 1025, 3995, 12375, 30000, Inf),\n",
        "      labels = c(\"Low\", \"Medium-low\", \"Medium-high\", \"High\", \"Very high\"))\n",
        "  )\n",
        "table(gdp2019$gdppc_gr)"
      ]
    },
    {
      "cell_type": "markdown",
      "id": "AYRyUJ-Ik4tP",
      "metadata": {
        "id": "AYRyUJ-Ik4tP"
      },
      "source": [
        "4.  Estimate the following linear model and interpret the estimated coefficients\n",
        "\n",
        "$$\n",
        "\\text{gdppc}_i = \\beta_0 + \\beta_{\\text{gdppc\\_gr}[i]} + e_i, e_i \\sim N(0, \\sigma^2)\n",
        "$$"
      ]
    },
    {
      "cell_type": "code",
      "execution_count": null,
      "id": "4gBY5OU7k5r2",
      "metadata": {
        "id": "4gBY5OU7k5r2",
        "vscode": {
          "languageId": "r"
        }
      },
      "outputs": [],
      "source": []
    },
    {
      "cell_type": "code",
      "execution_count": null,
      "id": "PgtmQaLclK6B",
      "metadata": {
        "colab": {
          "base_uri": "https://localhost:8080/",
          "height": 593
        },
        "id": "PgtmQaLclK6B",
        "outputId": "60d0ab7f-810d-47bf-d0e6-e4720df3efac",
        "vscode": {
          "languageId": "r"
        }
      },
      "outputs": [],
      "source": [
        "gdp2019 %>%\n",
        "  ggplot(aes(x = spending, y = gdppc)) +\n",
        "  geom_point(aes( color = gdppc_gr)) +\n",
        "  geom_smooth(method = \"lm\") +\n",
        "  # geom_abline(\n",
        "  #   intercept = c(-144.39, 1308.32, 5835.94, 18460.21, 51920.69),\n",
        "  #   slope = 44.80,\n",
        "  #   alpha = 0.5\n",
        "  # ) +\n",
        "  lims(\n",
        "    x = c(0, 80),\n",
        "    y = c(0, 90000)\n",
        "  )"
      ]
    },
    {
      "cell_type": "markdown",
      "id": "c4fd06d3",
      "metadata": {},
      "source": [
        "## F-Test\n",
        "\n",
        "Very often we want test the hypothesis that a certain subset of the coefficients are simultaneously equal to zero. This is called a joint hypothesis.\n",
        "\n",
        "In our example we could test the hypothesis that the coefficients of `Med Low`, `Med High`, `High` and `Very High` are all equal to zero. This is equivalent to testing if the average of `gdppc` is the same in all groups.\n",
        "\n",
        "The test is called an F-test and is based on the ratio of the sum of squared errors of the restricted model and the sum of squared errors of the unrestricted model.\n",
        "\n",
        "The restricted model is the one where the coefficients of `Med Low`, `Med High`, `High` and `Very High` are all equal to zero.\n",
        "\n",
        "The unrestricted model is the one where all coefficients are estimated.\n",
        "\n",
        "The F-test is based on the following statistic:\n",
        "\n",
        "$$\n",
        "F = \\frac{(RSS_{\\text{restricted}} - RSS_{\\text{unrestricted}}) / (p_{\\text{restricted}} - p_{\\text{unrestricted}})}{RSS_{\\text{unrestricted}} / (n - p_{\\text{unrestricted}})}\n",
        "$$\n",
        "\n",
        "$$\n",
        "F = \\frac{(RSS_{\\text{restricted}} - RSS_{\\text{unrestricted}})}{RSS_{\\text{unrestricted}}}\\frac{(n - p_{\\text{unrestricted}})}{(p_{\\text{restricted}} - p_{\\text{unrestricted}})}\n",
        "$$\n",
        "\n",
        "where $RSS$ is the residual sum of squares, $p$ is the number of parameters in the model and $n$ is the number of observations."
      ]
    }
  ],
  "metadata": {
    "colab": {
      "provenance": []
    },
    "kernelspec": {
      "display_name": "R",
      "name": "ir"
    },
    "language_info": {
      "name": "R"
    }
  },
  "nbformat": 4,
  "nbformat_minor": 5
}
