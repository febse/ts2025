{
 "cells": [
  {
   "cell_type": "markdown",
   "metadata": {},
   "source": [
    "# General Information {.unnumbered}\n",
    "\n",
    ":::{.callout-note}\n",
    "\n",
    "## Site URL\n",
    "\n",
    "[{{< var url >}}]({{< var url >}}){style=\"font-size:2em; margin-left: 1em;\"}\n",
    "\n",
    "![](figures/qr_code.png){font-size=2em}\n",
    ":::\n",
    "\n",
    "## Schedule\n",
    "\n",
    "1. Monday, 10:15-11:45, room 303k\n",
    "2. Wednesday, 9:30-11:00, room 303k\n",
    "3. Wednesday, 15:15-16:45, room 308k (in Bulgarian)\n",
    "\n",
    "## Grading\n",
    "\n",
    "The course grade will be based on two presentations, a midterm presentation\n",
    "and a final presentation. The presentations are to be done in teams of up to 2\n",
    "persons. Please register your team via the following link:\n",
    "\n",
    "[Teams Registration](https://classroom.github.com/a/fsn1fbnY)\n",
    "\n",
    "\n",
    "## GitHub Repository\n",
    "\n",
    "All course materials for the exercise classes will be available in the GitHub\n",
    "repository:\n",
    "\n",
    "[{{< var github >}}]({{< var github >}})\n",
    "\n",
    "## Software Setup\n",
    "\n",
    "Please make sure that you have a working [Google](https://www.google.com/) and [GitHub](https://github.com/signup) accounts.\n",
    "\n",
    "We recommend that you enable a two factor authentication on both accounts.\n",
    "\n",
    "\n",
    "## Recommended Reading\n",
    "\n",
    "1. @KIRCHGASSNER2013IntroductionModernTime\n",
    "2. @COWPERTWAIT2009IntroductoryTimeSeries"
   ]
  }
 ],
 "metadata": {
  "kernelspec": {
   "display_name": "Python 3",
   "language": "python",
   "name": "python3"
  },
  "language_info": {
   "codemirror_mode": {
    "name": "ipython",
    "version": 3
   },
   "file_extension": ".py",
   "mimetype": "text/x-python",
   "name": "python",
   "nbconvert_exporter": "python",
   "pygments_lexer": "ipython3",
   "version": "3.13.7"
  }
 },
 "nbformat": 4,
 "nbformat_minor": 4
}
