{
 "cells": [
  {
   "cell_type": "markdown",
   "id": "6710128d",
   "metadata": {},
   "source": [
    "# ETS\n",
    "\n",
    "## SMA (Simple Moving Average)\n",
    "\n",
    "- Calculate the mean and variance of the time series\n",
    "- In financial time series, volatility clustering is common\n",
    "\n",
    "## EWMA (Exponentially Weighted Moving Average)\n",
    "\n",
    "Holt method\n",
    "\n",
    "Level(t + h) = EWMA(Level of time series from 1 to t)\n",
    "Trend(t + h) = EWMA(Trend of time series from 1 to t)\n",
    "Seasonal(t + h) = EWMA(Seasonal of time series from 1 to t)\n",
    "\n",
    "Different ways to combine these components:\n",
    "\n",
    "- Additive: Level + Trend + Seasonal\n",
    "- Multiplicative: Level * Trend * Seasonal (log-transform to make it additive)\n",
    "\n",
    "Where:\n",
    "- Fluctuations around a constant level. Moving average tries to learn\n",
    "that level\n",
    "\n"
   ]
  },
  {
   "cell_type": "code",
   "execution_count": 1,
   "id": "4cc2a2e1",
   "metadata": {},
   "outputs": [
    {
     "name": "stderr",
     "output_type": "stream",
     "text": [
      "'wget' is not recognized as an internal or external command,\n",
      "operable program or batch file.\n"
     ]
    }
   ],
   "source": [
    "!wget -nc https://lazyprogrammer.me/course_files/sp500_close.csv"
   ]
  }
 ],
 "metadata": {
  "kernelspec": {
   "display_name": "ts2025",
   "language": "python",
   "name": "python3"
  },
  "language_info": {
   "codemirror_mode": {
    "name": "ipython",
    "version": 3
   },
   "file_extension": ".py",
   "mimetype": "text/x-python",
   "name": "python",
   "nbconvert_exporter": "python",
   "pygments_lexer": "ipython3",
   "version": "3.13.7"
  }
 },
 "nbformat": 4,
 "nbformat_minor": 5
}
